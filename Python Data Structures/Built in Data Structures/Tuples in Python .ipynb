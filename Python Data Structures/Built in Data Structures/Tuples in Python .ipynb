{
 "cells": [
  {
   "cell_type": "markdown",
   "id": "62068513",
   "metadata": {},
   "source": [
    "# Tuples"
   ]
  },
  {
   "cell_type": "code",
   "execution_count": 1,
   "id": "fcb2e62f",
   "metadata": {},
   "outputs": [
    {
     "data": {
      "text/plain": [
       "()"
      ]
     },
     "execution_count": 1,
     "metadata": {},
     "output_type": "execute_result"
    }
   ],
   "source": [
    "tups = ( )\n",
    "tups"
   ]
  },
  {
   "cell_type": "code",
   "execution_count": 5,
   "id": "90fa0f1d",
   "metadata": {},
   "outputs": [],
   "source": [
    "tups = (\"Hemanth\" , 'Data Scientist', 40)"
   ]
  },
  {
   "cell_type": "code",
   "execution_count": 6,
   "id": "bed4ef7d",
   "metadata": {},
   "outputs": [
    {
     "data": {
      "text/plain": [
       "'Data Scientist'"
      ]
     },
     "execution_count": 6,
     "metadata": {},
     "output_type": "execute_result"
    }
   ],
   "source": [
    "tups[1]"
   ]
  },
  {
   "cell_type": "code",
   "execution_count": 7,
   "id": "fed393ee",
   "metadata": {},
   "outputs": [
    {
     "data": {
      "text/plain": [
       "('Hemanth', 'Data Scientist')"
      ]
     },
     "execution_count": 7,
     "metadata": {},
     "output_type": "execute_result"
    }
   ],
   "source": [
    "tups[0:2]"
   ]
  },
  {
   "cell_type": "code",
   "execution_count": 8,
   "id": "689c94f3",
   "metadata": {},
   "outputs": [
    {
     "data": {
      "text/plain": [
       "('Hemanth', 'Data Scientist', 40)"
      ]
     },
     "execution_count": 8,
     "metadata": {},
     "output_type": "execute_result"
    }
   ],
   "source": [
    "tups[:]"
   ]
  },
  {
   "cell_type": "code",
   "execution_count": 9,
   "id": "1667657f",
   "metadata": {},
   "outputs": [
    {
     "data": {
      "text/plain": [
       "('Hemanth', 'Data Scientist')"
      ]
     },
     "execution_count": 9,
     "metadata": {},
     "output_type": "execute_result"
    }
   ],
   "source": [
    "tups[:-1]"
   ]
  },
  {
   "cell_type": "code",
   "execution_count": 10,
   "id": "d7f99c51",
   "metadata": {},
   "outputs": [
    {
     "data": {
      "text/plain": [
       "(40, 'Data Scientist', 'Hemanth')"
      ]
     },
     "execution_count": 10,
     "metadata": {},
     "output_type": "execute_result"
    }
   ],
   "source": [
    "tups[:-1]"
   ]
  },
  {
   "cell_type": "code",
   "execution_count": 11,
   "id": "b1178019",
   "metadata": {},
   "outputs": [
    {
     "data": {
      "text/plain": [
       "('Hemanth',)"
      ]
     },
     "execution_count": 11,
     "metadata": {},
     "output_type": "execute_result"
    }
   ],
   "source": [
    "tups[:1]"
   ]
  },
  {
   "cell_type": "code",
   "execution_count": 12,
   "id": "e5414e94",
   "metadata": {},
   "outputs": [
    {
     "data": {
      "text/plain": [
       "(40,)"
      ]
     },
     "execution_count": 12,
     "metadata": {},
     "output_type": "execute_result"
    }
   ],
   "source": [
    "tups[2:]"
   ]
  },
  {
   "cell_type": "code",
   "execution_count": 13,
   "id": "933d0531",
   "metadata": {},
   "outputs": [
    {
     "name": "stdout",
     "output_type": "stream",
     "text": [
      "Hemanth\n",
      "Data Scientist\n",
      "40\n"
     ]
    }
   ],
   "source": [
    "for i in tups:\n",
    "    print(i)"
   ]
  },
  {
   "cell_type": "code",
   "execution_count": null,
   "id": "f5b7ffaf",
   "metadata": {},
   "outputs": [],
   "source": []
  }
 ],
 "metadata": {
  "kernelspec": {
   "display_name": "Python 3",
   "language": "python",
   "name": "python3"
  },
  "language_info": {
   "codemirror_mode": {
    "name": "ipython",
    "version": 3
   },
   "file_extension": ".py",
   "mimetype": "text/x-python",
   "name": "python",
   "nbconvert_exporter": "python",
   "pygments_lexer": "ipython3",
   "version": "3.8.8"
  }
 },
 "nbformat": 4,
 "nbformat_minor": 5
}
