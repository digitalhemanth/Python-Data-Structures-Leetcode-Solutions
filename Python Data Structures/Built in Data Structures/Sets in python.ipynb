{
 "cells": [
  {
   "cell_type": "markdown",
   "id": "db166f98",
   "metadata": {},
   "source": [
    "## Sets"
   ]
  },
  {
   "cell_type": "code",
   "execution_count": 1,
   "id": "a10d14e3",
   "metadata": {},
   "outputs": [
    {
     "data": {
      "text/plain": [
       "{}"
      ]
     },
     "execution_count": 1,
     "metadata": {},
     "output_type": "execute_result"
    }
   ],
   "source": [
    "sets = {}\n",
    "\n",
    "sets"
   ]
  },
  {
   "cell_type": "code",
   "execution_count": 7,
   "id": "3392b38c",
   "metadata": {},
   "outputs": [
    {
     "data": {
      "text/plain": [
       "{250, 86, 99999, 'Hem', 'hem'}"
      ]
     },
     "execution_count": 7,
     "metadata": {},
     "output_type": "execute_result"
    }
   ],
   "source": [
    "sets = {'Hem','hem',99999,86,250,86}\n",
    "\n",
    "sets"
   ]
  },
  {
   "cell_type": "code",
   "execution_count": 10,
   "id": "e4f0b2b6",
   "metadata": {},
   "outputs": [],
   "source": [
    "sample = {'Hem', 'Apple'}"
   ]
  },
  {
   "cell_type": "code",
   "execution_count": 11,
   "id": "b1d655fe",
   "metadata": {},
   "outputs": [
    {
     "data": {
      "text/plain": [
       "{250, 86, 99999, 'Apple', 'Hem', 'hem'}"
      ]
     },
     "execution_count": 11,
     "metadata": {},
     "output_type": "execute_result"
    }
   ],
   "source": [
    "sets.union(sample)"
   ]
  },
  {
   "cell_type": "code",
   "execution_count": 12,
   "id": "75e34eec",
   "metadata": {},
   "outputs": [
    {
     "data": {
      "text/plain": [
       "{'Hem'}"
      ]
     },
     "execution_count": 12,
     "metadata": {},
     "output_type": "execute_result"
    }
   ],
   "source": [
    "sets.intersection(sample)"
   ]
  },
  {
   "cell_type": "code",
   "execution_count": 13,
   "id": "2918b9e2",
   "metadata": {},
   "outputs": [
    {
     "data": {
      "text/plain": [
       "{250, 86, 99999, 'hem'}"
      ]
     },
     "execution_count": 13,
     "metadata": {},
     "output_type": "execute_result"
    }
   ],
   "source": [
    "sets.difference(sample)"
   ]
  },
  {
   "cell_type": "code",
   "execution_count": 16,
   "id": "3df9aec8",
   "metadata": {},
   "outputs": [
    {
     "data": {
      "text/plain": [
       "{250, 86, 99999, 'Apple', 'hem'}"
      ]
     },
     "execution_count": 16,
     "metadata": {},
     "output_type": "execute_result"
    }
   ],
   "source": [
    "sets.symmetric_difference(sample)"
   ]
  },
  {
   "cell_type": "code",
   "execution_count": null,
   "id": "acde1fa5",
   "metadata": {},
   "outputs": [],
   "source": []
  }
 ],
 "metadata": {
  "kernelspec": {
   "display_name": "Python 3",
   "language": "python",
   "name": "python3"
  },
  "language_info": {
   "codemirror_mode": {
    "name": "ipython",
    "version": 3
   },
   "file_extension": ".py",
   "mimetype": "text/x-python",
   "name": "python",
   "nbconvert_exporter": "python",
   "pygments_lexer": "ipython3",
   "version": "3.8.8"
  }
 },
 "nbformat": 4,
 "nbformat_minor": 5
}
