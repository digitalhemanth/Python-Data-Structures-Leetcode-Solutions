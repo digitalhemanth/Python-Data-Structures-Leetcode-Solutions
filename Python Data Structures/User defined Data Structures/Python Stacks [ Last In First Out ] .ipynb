{
 "cells": [
  {
   "cell_type": "markdown",
   "id": "339e30e5",
   "metadata": {},
   "source": [
    "# Python Stacks [ Last In First Out ] "
   ]
  },
  {
   "cell_type": "markdown",
   "id": "9d981ec3",
   "metadata": {},
   "source": [
    "A stack is a linear data structure that follows the principle of Last In First Out (LIFO). This means the last element inserted inside the stack is removed first."
   ]
  },
  {
   "cell_type": "code",
   "execution_count": 1,
   "id": "c60aa6d1",
   "metadata": {},
   "outputs": [],
   "source": [
    "global stacks\n",
    "stacks = []\n",
    "def Create_stack(val):\n",
    "    stacks.append(val)\n",
    "    return stacks"
   ]
  },
  {
   "cell_type": "code",
   "execution_count": 2,
   "id": "99843661",
   "metadata": {},
   "outputs": [
    {
     "data": {
      "text/plain": [
       "[9]"
      ]
     },
     "execution_count": 2,
     "metadata": {},
     "output_type": "execute_result"
    }
   ],
   "source": [
    "Create_stack(9)"
   ]
  },
  {
   "cell_type": "code",
   "execution_count": 3,
   "id": "a7a0eefa",
   "metadata": {},
   "outputs": [
    {
     "data": {
      "text/plain": [
       "[9, 2]"
      ]
     },
     "execution_count": 3,
     "metadata": {},
     "output_type": "execute_result"
    }
   ],
   "source": [
    "Create_stack(2)"
   ]
  },
  {
   "cell_type": "code",
   "execution_count": 4,
   "id": "df8b82a7",
   "metadata": {},
   "outputs": [
    {
     "data": {
      "text/plain": [
       "[9, 2, 4, 1, 3]"
      ]
     },
     "execution_count": 4,
     "metadata": {},
     "output_type": "execute_result"
    }
   ],
   "source": [
    "Create_stack(4)\n",
    "Create_stack(1)\n",
    "Create_stack(3)"
   ]
  },
  {
   "cell_type": "code",
   "execution_count": 5,
   "id": "6f0d20cb",
   "metadata": {},
   "outputs": [],
   "source": [
    "def check_is_empty():\n",
    "    if len(stacks) == 0:\n",
    "        return 0\n",
    "    return len(stacks)"
   ]
  },
  {
   "cell_type": "code",
   "execution_count": 6,
   "id": "ce0a432b",
   "metadata": {},
   "outputs": [
    {
     "data": {
      "text/plain": [
       "5"
      ]
     },
     "execution_count": 6,
     "metadata": {},
     "output_type": "execute_result"
    }
   ],
   "source": [
    "check_is_empty()"
   ]
  },
  {
   "cell_type": "code",
   "execution_count": 7,
   "id": "e653a82a",
   "metadata": {},
   "outputs": [],
   "source": [
    "def delete():\n",
    "    val = stacks.pop()\n",
    "    print(val, \"has been deleted \")\n",
    "    \n",
    "    return stacks\n"
   ]
  },
  {
   "cell_type": "code",
   "execution_count": 8,
   "id": "8d9a29db",
   "metadata": {},
   "outputs": [
    {
     "name": "stdout",
     "output_type": "stream",
     "text": [
      "3 has been deleted \n"
     ]
    },
    {
     "data": {
      "text/plain": [
       "[9, 2, 4, 1]"
      ]
     },
     "execution_count": 8,
     "metadata": {},
     "output_type": "execute_result"
    }
   ],
   "source": [
    "delete()"
   ]
  },
  {
   "cell_type": "code",
   "execution_count": 9,
   "id": "dca44c13",
   "metadata": {},
   "outputs": [
    {
     "name": "stdout",
     "output_type": "stream",
     "text": [
      "1 has been deleted \n"
     ]
    },
    {
     "data": {
      "text/plain": [
       "[9, 2, 4]"
      ]
     },
     "execution_count": 9,
     "metadata": {},
     "output_type": "execute_result"
    }
   ],
   "source": [
    "delete()"
   ]
  },
  {
   "cell_type": "code",
   "execution_count": null,
   "id": "82519572",
   "metadata": {},
   "outputs": [],
   "source": []
  }
 ],
 "metadata": {
  "kernelspec": {
   "display_name": "Python 3",
   "language": "python",
   "name": "python3"
  },
  "language_info": {
   "codemirror_mode": {
    "name": "ipython",
    "version": 3
   },
   "file_extension": ".py",
   "mimetype": "text/x-python",
   "name": "python",
   "nbconvert_exporter": "python",
   "pygments_lexer": "ipython3",
   "version": "3.8.8"
  }
 },
 "nbformat": 4,
 "nbformat_minor": 5
}
