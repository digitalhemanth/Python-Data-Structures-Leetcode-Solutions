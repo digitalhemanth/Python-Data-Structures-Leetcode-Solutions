{
 "cells": [
  {
   "cell_type": "code",
   "execution_count": 1,
   "metadata": {},
   "outputs": [
    {
     "name": "stdout",
     "output_type": "stream",
     "text": [
      "file size is 873.1 MB\n"
     ]
    }
   ],
   "source": [
    "import os.path\n",
    "\n",
    "# calculate file size in KB, MB, GB\n",
    "def convert_bytes(size):\n",
    "    \"\"\" Convert bytes to KB, or MB or GB\"\"\"\n",
    "    for x in ['bytes', 'KB', 'MB', 'GB', 'TB']:\n",
    "        if size < 1024.0:\n",
    "            return \"%3.1f %s\" % (size, x)\n",
    "        size /= 1024.0\n",
    "\n",
    "f_size = os.path.getsize(r'C:\\Users\\hemanth\\Downloads\\Learn Data Science Tutorial - Full Course for Beginners.mp4')\n",
    "x = convert_bytes(f_size)\n",
    "print('file size is', x)"
   ]
  },
  {
   "cell_type": "code",
   "execution_count": 2,
   "metadata": {},
   "outputs": [
    {
     "name": "stdout",
     "output_type": "stream",
     "text": [
      "Azure Stream Analytics Tutorial   Processing stream data with SQL.mp4\n",
      "Ehi Murare (Ameya Records).mp4\n",
      "Learn Data Science Tutorial - Full Course for Beginners.mp4\n",
      "Paul Andrew A Complete Introduction to Azure Data Factory at Data Platform Discovery Day April 2020.mp4\n",
      "Rocketry's Shri Venkatesa Suprabatham.mp4\n",
      "Spark Out of Memory Issue   Spark Memory Tuning   Spark Memory Management   Part 1.mp4\n",
      "Sri Dakshinamurthy Mantra– Powerful Thursday Guru Bhagawan Mantra to Reverse Guru Dosha In Horoscope.mp4\n"
     ]
    }
   ],
   "source": [
    "\n",
    "# Get the list of all files and directories\n",
    "path = r'C:\\Users\\hemanth\\Downloads'\n",
    "dir_list = os.listdir(path)\n",
    "\n",
    "for x in dir_list:\n",
    "    if x.endswith(\".mp4\"):\n",
    "        # Prints only text file present in My Folder\n",
    "        print(x)\n",
    "        \n",
    "\n"
   ]
  },
  {
   "cell_type": "code",
   "execution_count": 4,
   "metadata": {},
   "outputs": [
    {
     "name": "stdout",
     "output_type": "stream",
     "text": [
      "Files and Directories in 'C:\\Users\\hemanth\\Downloads':\n",
      "Scans\n",
      "spark\n",
      "Sql_window_functions\n"
     ]
    }
   ],
   "source": [
    "path = r'C:\\Users\\hemanth\\Downloads'\n",
    " \n",
    "# Scan the directory and get\n",
    "# an iterator of os.DirEntry objects\n",
    "# corresponding to entries in it\n",
    "# using os.scandir() method\n",
    "obj = os.scandir(path)\n",
    " \n",
    "# List all files and directories in the specified path\n",
    "print(\"Files and Directories in '% s':\" % path)\n",
    "for entry in obj:\n",
    "    if entry.is_dir():\n",
    "        print(entry.name)\n",
    "        \n",
    "    #or entry.is_file():"
   ]
  },
  {
   "cell_type": "code",
   "execution_count": 12,
   "metadata": {},
   "outputs": [
    {
     "name": "stdout",
     "output_type": "stream",
     "text": [
      "The largest file is: C:\\Users\\hemanth\\Downloads\\20H2_Prod_RMB_Light_Weight_AADJ_V1.4.iso\n",
      "Size:  10.8 GB\n"
     ]
    }
   ],
   "source": [
    "size = 0\n",
    "  \n",
    "# for storing the size of \n",
    "# the largest file\n",
    "max_size = []\n",
    "  \n",
    "# for storing the path to the \n",
    "# largest file\n",
    "max_file =\"\"\n",
    "\n",
    "for folder, subfolders, files in os.walk(path):\n",
    "      \n",
    "        # checking the size of each file\n",
    "    for file in files:\n",
    "        size = os.stat(os.path.join( folder, file  )).st_size\n",
    "        max_size.append(size) \n",
    "        # updating maximum size\n",
    "max_size.sort()\n",
    "\n",
    "max_file = os.path.join( folder, file  )\n",
    "  \n",
    "print(\"The largest file is: \"+max_file)\n",
    "x = convert_bytes(max_size)\n",
    "print('Size: ',x)"
   ]
  },
  {
   "cell_type": "code",
   "execution_count": 27,
   "metadata": {},
   "outputs": [
    {
     "name": "stdout",
     "output_type": "stream",
     "text": [
      "[30, 50, 60]\n",
      "[50, 60]\n"
     ]
    }
   ],
   "source": [
    "a = [30,50,60]\n",
    "a.sort()\n",
    "print(a)\n",
    "print(a[-2:])"
   ]
  },
  {
   "cell_type": "code",
   "execution_count": 30,
   "metadata": {},
   "outputs": [
    {
     "name": "stdout",
     "output_type": "stream",
     "text": [
      "Highest value from dictionary: ['h', 'q']\n"
     ]
    }
   ],
   "source": [
    "A = {\"g\": 14, \"q\": 16, \"h\": 19}\n",
    "\n",
    "new_value = sorted(A, key=A.get, reverse=True)[:2]\n",
    "print(\"Highest value from dictionary:\",new_value)"
   ]
  }
 ],
 "metadata": {
  "kernelspec": {
   "display_name": "Python 3.8.8 ('base')",
   "language": "python",
   "name": "python3"
  },
  "language_info": {
   "codemirror_mode": {
    "name": "ipython",
    "version": 3
   },
   "file_extension": ".py",
   "mimetype": "text/x-python",
   "name": "python",
   "nbconvert_exporter": "python",
   "pygments_lexer": "ipython3",
   "version": "3.8.8"
  },
  "orig_nbformat": 4,
  "vscode": {
   "interpreter": {
    "hash": "fbe58ca63fe33f9eeae9e71d10368d2b4a57f2b1b395836210cc60d362c66949"
   }
  }
 },
 "nbformat": 4,
 "nbformat_minor": 2
}
