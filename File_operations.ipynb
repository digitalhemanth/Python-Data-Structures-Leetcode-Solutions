{
 "cells": [
  {
   "cell_type": "code",
   "execution_count": 1,
   "metadata": {},
   "outputs": [
    {
     "name": "stdout",
     "output_type": "stream",
     "text": [
      "file size is 873.1 MB\n"
     ]
    }
   ],
   "source": [
    "import os.path\n",
    "\n",
    "# calculate file size in KB, MB, GB\n",
    "def convert_bytes(size):\n",
    "    \"\"\" Convert bytes to KB, or MB or GB\"\"\"\n",
    "    for x in ['bytes', 'KB', 'MB', 'GB', 'TB']:\n",
    "        if size < 1024.0:\n",
    "            return \"%3.1f %s\" % (size, x)\n",
    "        size /= 1024.0\n",
    "\n",
    "f_size = os.path.getsize(r'C:\\Users\\hemanth\\Downloads\\Learn Data Science Tutorial - Full Course for Beginners.mp4')\n",
    "x = convert_bytes(f_size)\n",
    "print('file size is', x)"
   ]
  },
  {
   "cell_type": "code",
   "execution_count": 2,
   "metadata": {},
   "outputs": [
    {
     "name": "stdout",
     "output_type": "stream",
     "text": [
      "Azure Stream Analytics Tutorial   Processing stream data with SQL.mp4\n",
      "Ehi Murare (Ameya Records).mp4\n",
      "Learn Data Science Tutorial - Full Course for Beginners.mp4\n",
      "Paul Andrew A Complete Introduction to Azure Data Factory at Data Platform Discovery Day April 2020.mp4\n",
      "Rocketry's Shri Venkatesa Suprabatham.mp4\n",
      "Spark Out of Memory Issue   Spark Memory Tuning   Spark Memory Management   Part 1.mp4\n",
      "Sri Dakshinamurthy Mantra– Powerful Thursday Guru Bhagawan Mantra to Reverse Guru Dosha In Horoscope.mp4\n"
     ]
    }
   ],
   "source": [
    "\n",
    "# Get the list of all files and directories\n",
    "path = r'C:\\Users\\hemanth\\Downloads'\n",
    "dir_list = os.listdir(path)\n",
    "\n",
    "for x in dir_list:\n",
    "    if x.endswith(\".mp4\"):\n",
    "        # Prints only text file present in My Folder\n",
    "        print(x)\n",
    "        \n",
    "\n"
   ]
  }
 ],
 "metadata": {
  "kernelspec": {
   "display_name": "Python 3.8.8 ('base')",
   "language": "python",
   "name": "python3"
  },
  "language_info": {
   "codemirror_mode": {
    "name": "ipython",
    "version": 3
   },
   "file_extension": ".py",
   "mimetype": "text/x-python",
   "name": "python",
   "nbconvert_exporter": "python",
   "pygments_lexer": "ipython3",
   "version": "3.8.8"
  },
  "orig_nbformat": 4,
  "vscode": {
   "interpreter": {
    "hash": "fbe58ca63fe33f9eeae9e71d10368d2b4a57f2b1b395836210cc60d362c66949"
   }
  }
 },
 "nbformat": 4,
 "nbformat_minor": 2
}
