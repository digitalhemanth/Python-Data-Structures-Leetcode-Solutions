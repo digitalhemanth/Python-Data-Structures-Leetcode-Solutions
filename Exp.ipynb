{
 "cells": [
  {
   "cell_type": "code",
   "execution_count": 27,
   "metadata": {},
   "outputs": [
    {
     "name": "stdout",
     "output_type": "stream",
     "text": [
      "2\n"
     ]
    }
   ],
   "source": [
    "#Python | Find most frequent element in a list\n",
    "# Program to find most frequent\n",
    "# element in a list\n",
    "\n",
    "def most_frequent(List):\n",
    "  counter = 0\n",
    "  num = List[0]\n",
    "  \n",
    "  for i in List:\n",
    "    curr_frequency = List.count(i)\n",
    "    if(curr_frequency> counter):\n",
    "      counter = curr_frequency\n",
    "      num = i\n",
    "     \n",
    "  return num\n",
    "\n",
    "List = [2,3,1,3,2,2,1,3]\n",
    "print(most_frequent(List))\n"
   ]
  },
  {
   "cell_type": "code",
   "execution_count": 11,
   "metadata": {},
   "outputs": [],
   "source": [
    "#Reverse Linked List\n",
    "class Node:\n",
    "    def __init__(self,val):\n",
    "        self.val = val\n",
    "        self.next = None\n",
    "        \n",
    "class Linked_list:\n",
    "    def __init__(self):\n",
    "        self.head = None\n",
    "        \n",
    "    def add(self,val):\n",
    "        new_node = Node(val)\n",
    "        new_node.next = self.head\n",
    "        self.head = new_node\n",
    "        \n",
    "    def show(self):\n",
    "        n = self.head\n",
    "        while n is not None:\n",
    "            print(n.val)\n",
    "            n =  self.next\n",
    "        \n",
    "LL = Linked_list()\n",
    "LL.add('A')\n",
    "        "
   ]
  },
  {
   "cell_type": "code",
   "execution_count": 12,
   "metadata": {},
   "outputs": [
    {
     "name": "stdout",
     "output_type": "stream",
     "text": [
      "A\n"
     ]
    },
    {
     "ename": "AttributeError",
     "evalue": "'Linked_list' object has no attribute 'next'",
     "output_type": "error",
     "traceback": [
      "\u001b[1;31m---------------------------------------------------------------------------\u001b[0m",
      "\u001b[1;31mAttributeError\u001b[0m                            Traceback (most recent call last)",
      "\u001b[1;32m<ipython-input-12-c355cc15feb8>\u001b[0m in \u001b[0;36m<module>\u001b[1;34m\u001b[0m\n\u001b[1;32m----> 1\u001b[1;33m \u001b[0mLL\u001b[0m\u001b[1;33m.\u001b[0m\u001b[0mshow\u001b[0m\u001b[1;33m(\u001b[0m\u001b[1;33m)\u001b[0m\u001b[1;33m\u001b[0m\u001b[1;33m\u001b[0m\u001b[0m\n\u001b[0m",
      "\u001b[1;32m<ipython-input-11-ecc4402c1d34>\u001b[0m in \u001b[0;36mshow\u001b[1;34m(self)\u001b[0m\n\u001b[0;32m     18\u001b[0m         \u001b[1;32mwhile\u001b[0m \u001b[0mn\u001b[0m \u001b[1;32mis\u001b[0m \u001b[1;32mnot\u001b[0m \u001b[1;32mNone\u001b[0m\u001b[1;33m:\u001b[0m\u001b[1;33m\u001b[0m\u001b[1;33m\u001b[0m\u001b[0m\n\u001b[0;32m     19\u001b[0m             \u001b[0mprint\u001b[0m\u001b[1;33m(\u001b[0m\u001b[0mn\u001b[0m\u001b[1;33m.\u001b[0m\u001b[0mval\u001b[0m\u001b[1;33m)\u001b[0m\u001b[1;33m\u001b[0m\u001b[1;33m\u001b[0m\u001b[0m\n\u001b[1;32m---> 20\u001b[1;33m             \u001b[0mn\u001b[0m \u001b[1;33m=\u001b[0m  \u001b[0mself\u001b[0m\u001b[1;33m.\u001b[0m\u001b[0mnext\u001b[0m\u001b[1;33m\u001b[0m\u001b[1;33m\u001b[0m\u001b[0m\n\u001b[0m\u001b[0;32m     21\u001b[0m \u001b[1;33m\u001b[0m\u001b[0m\n\u001b[0;32m     22\u001b[0m \u001b[0mLL\u001b[0m \u001b[1;33m=\u001b[0m \u001b[0mLinked_list\u001b[0m\u001b[1;33m(\u001b[0m\u001b[1;33m)\u001b[0m\u001b[1;33m\u001b[0m\u001b[1;33m\u001b[0m\u001b[0m\n",
      "\u001b[1;31mAttributeError\u001b[0m: 'Linked_list' object has no attribute 'next'"
     ]
    }
   ],
   "source": [
    "LL.show()"
   ]
  },
  {
   "cell_type": "code",
   "execution_count": 2,
   "metadata": {},
   "outputs": [
    {
     "data": {
      "text/plain": [
       "dict_values([['eat', 'tea', 'ate'], ['tan', 'nat'], ['bat']])"
      ]
     },
     "execution_count": 2,
     "metadata": {},
     "output_type": "execute_result"
    }
   ],
   "source": [
    "# Given an array of strings, group anagrams together.\n",
    "\n",
    "# Example:\n",
    "# Given: [\"eat\", \"tea\", \"tan\", \"ate\", \"nat\", \"bat\"], \n",
    "# Return:\n",
    "# [\n",
    "#   [\"ate\", \"eat\",\"tea\"],\n",
    "#   [\"nat\",\"tan\"],\n",
    "#   [\"bat\"]\n",
    "# ]\n",
    "\n",
    "# Note: All inputs will be in lower-case.\n",
    "\n",
    "\n",
    "def my_ana_solution(strings):\n",
    "    di = {}\n",
    "    for str in strings:\n",
    "        sort_item = tuple(sorted(str))\n",
    "        if di.get(sort_item) == None:\n",
    "            di[sort_item] = [str]\n",
    "        else:\n",
    "            di[sort_item].append(str)\n",
    "            \n",
    "    return di.values()\n",
    "\n",
    "strings = [\"eat\", \"tea\", \"tan\", \"ate\", \"nat\", \"bat\"]\n",
    "my_ana_solution(strings)\n",
    "\n"
   ]
  },
  {
   "cell_type": "code",
   "execution_count": 3,
   "metadata": {},
   "outputs": [
    {
     "data": {
      "text/plain": [
       "dict_values([['eat', 'tea', 'ate'], ['tan', 'nat'], ['bat']])"
      ]
     },
     "execution_count": 3,
     "metadata": {},
     "output_type": "execute_result"
    }
   ],
   "source": [
    "def my_ana_solution_2(strings):\n",
    "    di = {}\n",
    "    for str in strings:\n",
    "        count_table = [0]*26\n",
    "        for letter in str:\n",
    "            count_table[ord(letter) - ord(\"a\")] +=1\n",
    "        if di.get(tuple(count_table)) == None:\n",
    "            di[tuple(count_table)] = [str]\n",
    "        else:\n",
    "            di[tuple(count_table)].append(str)\n",
    "            \n",
    "    return di.values()\n",
    "\n",
    "strings = [\"eat\", \"tea\", \"tan\", \"ate\", \"nat\", \"bat\"]\n",
    "my_ana_solution(strings)"
   ]
  },
  {
   "cell_type": "code",
   "execution_count": 6,
   "metadata": {},
   "outputs": [
    {
     "data": {
      "text/plain": [
       "4"
      ]
     },
     "execution_count": 6,
     "metadata": {},
     "output_type": "execute_result"
    }
   ],
   "source": [
    "'''\n",
    "def missingNumber(nums):\n",
    "    \"\"\"\n",
    "    :type nums: List[int]\n",
    "    :rtype: int\n",
    "    \"\"\"\n",
    "    sums = 0\n",
    "    for i in range(len(nums)):\n",
    "        sums += nums[i]\n",
    "\n",
    "    n = len(nums)\n",
    "    print(n*(n+1))\n",
    "    return n*(n+1)/2 - sums\n",
    "\n",
    "\n",
    "'''\n",
    "\n",
    "\n",
    "def missingNumber(nums):\n",
    "    \"\"\"\n",
    "    :type nums: List[int]\n",
    "    :rtype: int\n",
    "    \"\"\"        \n",
    "    nums.sort()\n",
    "    i = 0\n",
    "    while i < len(nums):\n",
    "        if i != nums[i]:\n",
    "            return i\n",
    "        else:\n",
    "            i += 1\n",
    "    return nums[-1] + 1\n",
    "\n",
    "nums = [3,1,2,0,5]\n",
    "missingNumber(nums)"
   ]
  },
  {
   "cell_type": "code",
   "execution_count": 4,
   "metadata": {},
   "outputs": [
    {
     "name": "stdout",
     "output_type": "stream",
     "text": [
      "this is palindrom\n",
      "this is palindrom\n"
     ]
    }
   ],
   "source": [
    "#Valid Palindrome\n",
    "\n",
    "\n",
    "name = \"naan\" \n",
    "\n",
    "L = 0\n",
    "R = len(name)-1\n",
    "\n",
    "\n",
    "while L < R:\n",
    "    if not name[L].isalnum():\n",
    "        L += 1 \n",
    "    elif not name[R].isalnum():\n",
    "        R -= 1 \n",
    "    elif name[L] == name[R]:\n",
    "        L += 1 \n",
    "        R -= 1 \n",
    "        print(\"this is palindrom\")\n",
    "    else:\n",
    "       print(\"its not \")\n",
    "       break"
   ]
  },
  {
   "cell_type": "code",
   "execution_count": null,
   "metadata": {},
   "outputs": [],
   "source": [
    "#climbing steps \n",
    "\n",
    "\n"
   ]
  },
  {
   "cell_type": "code",
   "execution_count": null,
   "metadata": {},
   "outputs": [],
   "source": [
    "#largest sum subarray\n",
    "\n",
    "max_sum = 0\n",
    "largest_sum = float('-inf')\n",
    "group =  [5,4,-1,7,8]\n",
    "n = len(group)\n",
    "\n",
    "for num in range(0,n):\n",
    "    print('num :', group[num])\n",
    "    max_sum = max_sum + group[num]\n",
    "    #print('max sum ',max_sum)\n",
    "    if max_sum > largest_sum :\n",
    "        largest_sum = max_sum\n",
    "    #print(largest_sum)\n",
    "    if largest_sum < 0:\n",
    "        largest_sum = 0\n",
    "print(largest_sum)        "
   ]
  },
  {
   "cell_type": "code",
   "execution_count": null,
   "metadata": {},
   "outputs": [],
   "source": [
    "def isValid(s: str) -> bool:\n",
    "    # Stack for left symbols\n",
    "    leftSymbols = []\n",
    "    # Loop for each character of the string\n",
    "    for c in s:\n",
    "        # If left symbol is encountered\n",
    "        if c in ['(', '{', '[']:\n",
    "            leftSymbols.append(c)\n",
    "        # If right symbol is encountered\n",
    "            print(leftSymbols[-1])\n",
    "        elif c == ')' and len(leftSymbols) != 0 and leftSymbols[-1] == '(':\n",
    "            leftSymbols.pop()\n",
    "        elif c == '}' and len(leftSymbols) != 0 and leftSymbols[-1] == '{':\n",
    "            leftSymbols.pop()\n",
    "        elif c == ']' and len(leftSymbols) != 0 and leftSymbols[-1] == '[':\n",
    "            leftSymbols.pop()\n",
    "        # If none of the valid symbols is encountered\n",
    "        else:\n",
    "            return False\n",
    "    return leftSymbols == []\n",
    "\n",
    "s = \"{}\"\n",
    "isValid(s)\n",
    "\n",
    "'''\n",
    "class Solution:\n",
    "    def isValid(self, s: str) -> bool:\n",
    "        if len(s) % 2 != 0:\n",
    "            return False\n",
    "        dict = {'(' : ')', '[' : ']', '{' : '}'}\n",
    "        stack = []\n",
    "        for i in s:\n",
    "            if i in dict.keys():\n",
    "                stack.append(i)\n",
    "            else:\n",
    "                if stack == []:\n",
    "                    return False\n",
    "                a = stack.pop()\n",
    "                if i!= dict[a]:\n",
    "                    return False\n",
    "        return stack == []\n",
    "s = \"{}\"\n",
    "\n",
    "isValid(s)\n",
    "'''"
   ]
  },
  {
   "cell_type": "code",
   "execution_count": 5,
   "metadata": {},
   "outputs": [
    {
     "name": "stdout",
     "output_type": "stream",
     "text": [
      "the current min  7\n",
      "the current min  1\n",
      "the current maxprofit  4\n",
      "the current maxprofit  4\n",
      "the current maxprofit  5\n",
      "the current maxprofit  5\n",
      "the current maxprofit  8\n",
      "8\n"
     ]
    }
   ],
   "source": [
    "#max stock price leetcode\n",
    "Price = [7,1,5,3,6,4,9]\n",
    "\n",
    "maxprofit = 0\n",
    "min = float('inf')\n",
    "\n",
    "for stock in Price:\n",
    "    if stock < min:\n",
    "        min = stock\n",
    "        print(\"the current min \", min)\n",
    "    else:\n",
    "        maxprofit=max(maxprofit,stock-min)\n",
    "        print(\"the current maxprofit \", maxprofit)\n",
    "        \n",
    "print(maxprofit)"
   ]
  },
  {
   "cell_type": "code",
   "execution_count": null,
   "metadata": {},
   "outputs": [],
   "source": [
    "#reverse a string \n",
    "\n",
    "My_str = 'HelowWorld'\n",
    "My_str = list(My_str)\n",
    "print(My_str)\n",
    "\n",
    "l = 0\n",
    "r = len(My_str)-1\n",
    "\n",
    "while l < r:\n",
    "    My_str[l],My_str[r] = My_str[r],My_str[l]\n",
    "    l += 1\n",
    "    r -= 1\n",
    "    \n",
    "print(str(My_str))"
   ]
  },
  {
   "cell_type": "code",
   "execution_count": 28,
   "metadata": {},
   "outputs": [
    {
     "name": "stdout",
     "output_type": "stream",
     "text": [
      "{'bob': 1, 'a': 1, 'ball': 2, 'the': 1, 'flew': 1, 'far': 1, 'after': 1, 'it': 1, 'was': 1}\n"
     ]
    },
    {
     "data": {
      "text/plain": [
       "'ball'"
      ]
     },
     "execution_count": 28,
     "metadata": {},
     "output_type": "execute_result"
    }
   ],
   "source": [
    "#Python program for most frequent word in Strings List\n",
    "import re\n",
    "def mostCommonWord(paragraph, banned):\n",
    "    \"\"\"\n",
    "    :type paragraph: str\n",
    "    :type banned: List[str]\n",
    "    :rtype: str\n",
    "    \"\"\"\n",
    "    words = re.findall(r'\\w+',paragraph.lower())\n",
    "\n",
    "    dict = {}\n",
    "    banned = set(banned)\n",
    "    for item in words:\n",
    "        if item not in banned:\n",
    "            dict[item] = dict.get(item, 0) + 1\n",
    "    print(dict)\n",
    "    return max(dict.keys(), key=(lambda k: dict[k]))\n",
    "\n",
    "paragraph = \"Bob hit a ball, the hit BALL flew far after it was hit.\"\n",
    "banned = [\"hit\"]\n",
    "mostCommonWord(paragraph, banned)\n"
   ]
  },
  {
   "cell_type": "code",
   "execution_count": 29,
   "metadata": {},
   "outputs": [
    {
     "name": "stdout",
     "output_type": "stream",
     "text": [
      "-3 1\n"
     ]
    }
   ],
   "source": [
    "#write a program that, given an array A[] of n numbers and another number x, determines whether or not there exist two elements in A[] whose sum is exactly x. \n",
    "\n",
    "\n",
    "Arry  = [0, -1, 2, -3, 1]\n",
    "x = -2\n",
    "size = len(Arry)\n",
    "\n",
    "for i in range(0,size):\n",
    "    for j in range(i+1,size):\n",
    "        if Arry[i]+Arry[j]==x:\n",
    "            print(Arry[i] , Arry[j])\n",
    "\n",
    "    "
   ]
  },
  {
   "cell_type": "code",
   "execution_count": 30,
   "metadata": {},
   "outputs": [
    {
     "name": "stdout",
     "output_type": "stream",
     "text": [
      "Pair with given sum 18 is (10,8) at indices (4,5)\n",
      "{1: 0, 4: 1, 45: 2, 6: 3, 10: 4, 8: 5}\n"
     ]
    }
   ],
   "source": [
    "def printPairs(arr, arr_size, sum):\n",
    "     \n",
    "    # Create an empty hash map\n",
    "    # using an hashmap allows us to store the indices\n",
    "    hashmap = {}\n",
    "     \n",
    "    for i in range(0, arr_size):\n",
    "        temp = sum-arr[i]\n",
    "        if temp in hashmap and i != hashmap[temp] :\n",
    "            print (f'Pair with given sum {sum} is ({temp},{arr[i]}) at indices ({hashmap[temp]},{i})')\n",
    "        hashmap[arr[i]] = i\n",
    "    print(hashmap)\n",
    " \n",
    "# driver code\n",
    "A = [1, 4, 45, 6, 10, 8]\n",
    "n = 18\n",
    "printPairs(A, len(A), n)\n"
   ]
  },
  {
   "cell_type": "code",
   "execution_count": 31,
   "metadata": {},
   "outputs": [
    {
     "name": "stdout",
     "output_type": "stream",
     "text": [
      "9 3\n"
     ]
    }
   ],
   "source": [
    "arr = [9, 8, 2, 6, 1,9, 8, 5, 3, 4, 7,9,2]\n",
    "n = len(arr)\n",
    "ele = 0\n",
    "counter = 0 \n",
    "\n",
    "for i in range(0, n):\n",
    "    if arr.count(i) > counter:\n",
    "\n",
    "        counter=arr.count(i)\n",
    "        ele = i \n",
    "\n",
    "print(ele,counter)"
   ]
  },
  {
   "cell_type": "code",
   "execution_count": 32,
   "metadata": {},
   "outputs": [
    {
     "name": "stdout",
     "output_type": "stream",
     "text": [
      "[18, 6, 6, -1]\n"
     ]
    }
   ],
   "source": [
    "arr = [17,18,5,4,6,1]\n",
    "temp = []\n",
    "n = len(arr)\n",
    "for i in range(0,n):\n",
    "    for j in range(i+1,n):\n",
    "  \t   if arr[i] < arr[j]:\n",
    "\t      temp.append(arr[j])\n",
    "\t        \n",
    "else:\n",
    "     temp.append(-1)\n",
    "print(temp)"
   ]
  },
  {
   "cell_type": "code",
   "execution_count": 33,
   "metadata": {},
   "outputs": [
    {
     "name": "stdout",
     "output_type": "stream",
     "text": [
      "[]\n",
      "0\n"
     ]
    }
   ],
   "source": [
    "Arry  = lists = list(map(int,input()))\n",
    "print(lists)\n",
    "#[3,0,0,0,0,3]\n",
    "size = len(Arry)\n",
    "toatal = 0\n",
    "sub = [] \n",
    "for i in range(0,size):\n",
    "    for j in range(i+1,size):\n",
    "        if Arry[i]+Arry[j] !=0 and (Arry[i]+Arry[j]) not in sub :\n",
    "           sub.append(Arry[i]+Arry[j])\n",
    "           print(Arry[i],Arry[j])\n",
    "           toatal += Arry[i]+Arry[j]\n",
    "print(toatal)\n",
    "\n",
    "     #300003       "
   ]
  },
  {
   "cell_type": "code",
   "execution_count": 34,
   "metadata": {},
   "outputs": [
    {
     "name": "stdout",
     "output_type": "stream",
     "text": [
      "['322', '322', '232', '223', '223', '232']\n",
      "6\n"
     ]
    }
   ],
   "source": [
    "out=[]\n",
    "\n",
    "def solutions_one(inp, i, length):\n",
    "    if i==length:\n",
    "        out.append(\"\".join(inp))\n",
    "    else:\n",
    "        for j in range(i, length):\n",
    "            inp[i], inp[j] = inp[j], inp[i]\n",
    "            solutions_one(inp, i+1, length)\n",
    "            inp[j], inp[i] = inp[i], inp[j]\n",
    "\n",
    "inp= '322'\n",
    "solutions_one(list(inp), 0, len(inp))\n",
    "print(out)\n",
    "print(len(out))"
   ]
  },
  {
   "cell_type": "code",
   "execution_count": 35,
   "metadata": {},
   "outputs": [
    {
     "name": "stdout",
     "output_type": "stream",
     "text": [
      "[2, 1, 4, 3, 6, 5, 8, 7]\n"
     ]
    }
   ],
   "source": [
    "# Python 3 program to reverse every\n",
    "# sub-array formed by consecutive k\n",
    "# element\n",
    "def solutions_res(arr,n,k):\n",
    "    i = 0\n",
    "    while(i<n):\n",
    "        left = i \n",
    "        right = min(i+k-1,n-1) \n",
    "        # Reverse the sub-array [left, right]\n",
    "        while (left < right):\n",
    "            arr[left],arr[right] = arr[right],arr[left]\n",
    "            left+=1\n",
    "            right-=1\n",
    "        i+=k \n",
    "    return arr\n",
    "# Driver code\n",
    "arr = [1, 2, 3, 4, 5, 6,7, 8]\n",
    "n = len(arr)\n",
    "k = 2\n",
    "print(solutions_res(arr,n,k))"
   ]
  },
  {
   "cell_type": "code",
   "execution_count": null,
   "metadata": {},
   "outputs": [],
   "source": []
  },
  {
   "cell_type": "code",
   "execution_count": 9,
   "metadata": {},
   "outputs": [
    {
     "name": "stdout",
     "output_type": "stream",
     "text": [
      "-1 0 1\n",
      "-1 2 -1\n",
      "0 1 -1\n"
     ]
    }
   ],
   "source": [
    "#3 sum problem \n",
    "\n",
    "\n",
    "arrys_x = [-1,0,1,2,-1,-4]\n",
    "n = len(arrys_x)\n",
    "targ = 0\n",
    "for i in range(n):\n",
    "    #print(i)\n",
    "    for j in range(i+1, n):\n",
    "        for k in range(j+1, n):\n",
    "arrys_x  = [-1,0,1,2,-1,-4]\n",
    "            if arrys_x[i]+arrys_x[j]+arrys_x[k] == targ:\n",
    "              print(arrys_x[i],arrys_x[j],arrys_x[k])"
   ]
  },
  {
   "cell_type": "code",
   "execution_count": 11,
   "metadata": {},
   "outputs": [
    {
     "data": {
      "text/plain": [
       "False"
      ]
     },
     "execution_count": 11,
     "metadata": {},
     "output_type": "execute_result"
    }
   ],
   "source": [
    "1>2"
   ]
  },
  {
   "cell_type": "code",
   "execution_count": 15,
   "metadata": {},
   "outputs": [
    {
     "name": "stdout",
     "output_type": "stream",
     "text": [
      "[[-1, -1, 2], [-1, 0, 1], [-1, 0, 1]]\n"
     ]
    }
   ],
   "source": [
    "arrys_x  = [-1,0,1,2,-1,-4]\n",
    "\n",
    "arrys_x.sort()\n",
    "targ = 0\n",
    "res_lst = []\n",
    "for i in range(len(arrys_x)-2):\n",
    "    L = i+1\n",
    "    R = len(arrys_x)-1\n",
    "    while L<R:\n",
    "        sums = arrys_x[i]+arrys_x[L]+arrys_x[R]\n",
    "        if sums == targ:\n",
    "            res_lst.append([arrys_x[i],arrys_x[L],arrys_x[R]])\n",
    "            L +=1\n",
    "            R -=1\n",
    "        elif sums < targ:\n",
    "            L +=1\n",
    "        else:\n",
    "            R -=1 \n",
    "print(res_lst)\n"
   ]
  }
 ],
 "metadata": {
  "kernelspec": {
   "display_name": "Python 3.8.8 ('base')",
   "language": "python",
   "name": "python3"
  },
  "language_info": {
   "codemirror_mode": {
    "name": "ipython",
    "version": 3
   },
   "file_extension": ".py",
   "mimetype": "text/x-python",
   "name": "python",
   "nbconvert_exporter": "python",
   "pygments_lexer": "ipython3",
   "version": "3.8.8"
  },
  "orig_nbformat": 4,
  "vscode": {
   "interpreter": {
    "hash": "fbe58ca63fe33f9eeae9e71d10368d2b4a57f2b1b395836210cc60d362c66949"
   }
  }
 },
 "nbformat": 4,
 "nbformat_minor": 2
}
