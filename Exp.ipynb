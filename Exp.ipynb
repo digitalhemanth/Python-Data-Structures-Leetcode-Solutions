{
 "cells": [
  {
   "cell_type": "code",
   "execution_count": 12,
   "metadata": {},
   "outputs": [
    {
     "name": "stdout",
     "output_type": "stream",
     "text": [
      "2\n"
     ]
    }
   ],
   "source": [
    "#Python | Find most frequent element in a list\n",
    "# Program to find most frequent\n",
    "# element in a list\n",
    "\n",
    "def most_frequent(List):\n",
    "  counter = 0\n",
    "  num = List[0]\n",
    "  \n",
    "  for i in List:\n",
    "    curr_frequency = List.count(i)\n",
    "    if(curr_frequency> counter):\n",
    "      counter = curr_frequency\n",
    "      num = i\n",
    "     \n",
    "  return num\n",
    "\n",
    "List = [2,3,1,3,2,2,1,3]\n",
    "print(most_frequent(List))\n"
   ]
  },
  {
   "cell_type": "code",
   "execution_count": 4,
   "metadata": {},
   "outputs": [
    {
     "name": "stdout",
     "output_type": "stream",
     "text": [
      "-3 1\n"
     ]
    }
   ],
   "source": [
    "#write a program that, given an array A[] of n numbers and another number x, determines whether or not there exist two elements in A[] whose sum is exactly x. \n",
    "\n",
    "\n",
    "Arry  = [0, -1, 2, -3, 1]\n",
    "x = -2\n",
    "size = len(Arry)\n",
    "\n",
    "for i in range(0,size):\n",
    "    for j in range(i+1,size):\n",
    "        if Arry[i]+Arry[j]==x:\n",
    "            print(Arry[i] , Arry[j])\n",
    "\n",
    "    "
   ]
  },
  {
   "cell_type": "code",
   "execution_count": 10,
   "metadata": {},
   "outputs": [
    {
     "name": "stdout",
     "output_type": "stream",
     "text": [
      "Pair with given sum 18 is (10,8) at indices (4,5)\n",
      "{1: 0, 4: 1, 45: 2, 6: 3, 10: 4, 8: 5}\n"
     ]
    }
   ],
   "source": [
    "def printPairs(arr, arr_size, sum):\n",
    "     \n",
    "    # Create an empty hash map\n",
    "    # using an hashmap allows us to store the indices\n",
    "    hashmap = {}\n",
    "     \n",
    "    for i in range(0, arr_size):\n",
    "        temp = sum-arr[i]\n",
    "        if temp in hashmap and i != hashmap[temp] :\n",
    "            print (f'Pair with given sum {sum} is ({temp},{arr[i]}) at indices ({hashmap[temp]},{i})')\n",
    "        hashmap[arr[i]] = i\n",
    "    print(hashmap)\n",
    " \n",
    "# driver code\n",
    "A = [1, 4, 45, 6, 10, 8]\n",
    "n = 18\n",
    "printPairs(A, len(A), n)\n"
   ]
  },
  {
   "cell_type": "code",
   "execution_count": 14,
   "metadata": {},
   "outputs": [
    {
     "name": "stdout",
     "output_type": "stream",
     "text": [
      "9 3\n"
     ]
    }
   ],
   "source": [
    "arr = [9, 8, 2, 6, 1,9, 8, 5, 3, 4, 7,9,2]\n",
    "n = len(arr)\n",
    "ele = 0\n",
    "counter = 0 \n",
    "\n",
    "for i in range(0, n):\n",
    "    if arr.count(i) > counter:\n",
    "\n",
    "        counter=arr.count(i)\n",
    "        ele = i \n",
    "\n",
    "print(ele,counter)"
   ]
  },
  {
   "cell_type": "code",
   "execution_count": 15,
   "metadata": {},
   "outputs": [
    {
     "name": "stdout",
     "output_type": "stream",
     "text": [
      "[18, 6, 6, -1]\n"
     ]
    }
   ],
   "source": [
    "arr = [17,18,5,4,6,1]\n",
    "temp = []\n",
    "n = len(arr)\n",
    "for i in range(0,n):\n",
    "    for j in range(i+1,n):\n",
    "  \t   if arr[i] < arr[j]:\n",
    "\t      temp.append(arr[j])\n",
    "\t        \n",
    "else:\n",
    "     temp.append(-1)\n",
    "print(temp)"
   ]
  },
  {
   "cell_type": "code",
   "execution_count": 22,
   "metadata": {},
   "outputs": [
    {
     "name": "stdout",
     "output_type": "stream",
     "text": [
      "[3, 0, 0, 0, 0, 3]\n",
      "3 0\n",
      "3 3\n",
      "9\n"
     ]
    }
   ],
   "source": [
    "Arry  = lists = list(map(int,input()))\n",
    "print(lists)\n",
    "#[3,0,0,0,0,3]\n",
    "size = len(Arry)\n",
    "toatal = 0\n",
    "sub = [] \n",
    "for i in range(0,size):\n",
    "    for j in range(i+1,size):\n",
    "        if Arry[i]+Arry[j] !=0 and (Arry[i]+Arry[j]) not in sub :\n",
    "           sub.append(Arry[i]+Arry[j])\n",
    "           print(Arry[i],Arry[j])\n",
    "           toatal += Arry[i]+Arry[j]\n",
    "print(toatal)\n",
    "\n",
    "     #300003       "
   ]
  },
  {
   "cell_type": "code",
   "execution_count": 13,
   "metadata": {},
   "outputs": [
    {
     "data": {
      "text/plain": [
       "4"
      ]
     },
     "execution_count": 13,
     "metadata": {},
     "output_type": "execute_result"
    }
   ],
   "source": [
    "out=[]\n",
    "\n",
    "def solutions_one(inp, i, length):\n",
    "    if i==length:\n",
    "        out.append(\"\".join(inp))\n",
    "    else:\n",
    "        for j in range(i, length):\n",
    "            inp[i], inp[j] = inp[j], inp[i]\n",
    "            solutions_one(inp, i+1, length)\n",
    "            inp[j], inp[i] = inp[i], inp[j]\n",
    "\n",
    "inp= '322'\n",
    "solutions_one(list(inp), 0, len(inp))\n",
    "print(out)\n",
    "print(len(out))"
   ]
  },
  {
   "cell_type": "code",
   "execution_count": 36,
   "metadata": {},
   "outputs": [
    {
     "name": "stdout",
     "output_type": "stream",
     "text": [
      "['322', '322', '232', '223', '223', '232']\n",
      "6\n"
     ]
    }
   ],
   "source": []
  }
 ],
 "metadata": {
  "kernelspec": {
   "display_name": "Python 3.8.8 ('base')",
   "language": "python",
   "name": "python3"
  },
  "language_info": {
   "codemirror_mode": {
    "name": "ipython",
    "version": 3
   },
   "file_extension": ".py",
   "mimetype": "text/x-python",
   "name": "python",
   "nbconvert_exporter": "python",
   "pygments_lexer": "ipython3",
   "version": "3.8.8"
  },
  "orig_nbformat": 4,
  "vscode": {
   "interpreter": {
    "hash": "fbe58ca63fe33f9eeae9e71d10368d2b4a57f2b1b395836210cc60d362c66949"
   }
  }
 },
 "nbformat": 4,
 "nbformat_minor": 2
}
