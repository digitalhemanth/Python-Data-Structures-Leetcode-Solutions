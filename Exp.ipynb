{
 "cells": [
  {
   "cell_type": "code",
   "execution_count": 12,
   "metadata": {},
   "outputs": [
    {
     "name": "stdout",
     "output_type": "stream",
     "text": [
      "2\n"
     ]
    }
   ],
   "source": [
    "#Python | Find most frequent element in a list\n",
    "# Program to find most frequent\n",
    "# element in a list\n",
    "\n",
    "def most_frequent(List):\n",
    "  counter = 0\n",
    "  num = List[0]\n",
    "  \n",
    "  for i in List:\n",
    "    curr_frequency = List.count(i)\n",
    "    if(curr_frequency> counter):\n",
    "      counter = curr_frequency\n",
    "      num = i\n",
    "     \n",
    "  return num\n",
    "\n",
    "List = [2,3,1,3,2,2,1,3]\n",
    "print(most_frequent(List))\n"
   ]
  },
  {
   "cell_type": "code",
   "execution_count": 4,
   "metadata": {},
   "outputs": [
    {
     "name": "stdout",
     "output_type": "stream",
     "text": [
      "-3 1\n"
     ]
    }
   ],
   "source": [
    "#write a program that, given an array A[] of n numbers and another number x, determines whether or not there exist two elements in A[] whose sum is exactly x. \n",
    "\n",
    "\n",
    "Arry  = [0, -1, 2, -3, 1]\n",
    "x = -2\n",
    "size = len(Arry)\n",
    "\n",
    "for i in range(0,size):\n",
    "    for j in range(i+1,size):\n",
    "        if Arry[i]+Arry[j]==x:\n",
    "            print(Arry[i] , Arry[j])\n",
    "\n",
    "    "
   ]
  },
  {
   "cell_type": "code",
   "execution_count": 7,
   "metadata": {},
   "outputs": [
    {
     "name": "stdout",
     "output_type": "stream",
     "text": [
      "{1: 0}\n",
      "{1: 0, 4: 1}\n",
      "{1: 0, 4: 1, 45: 2}\n",
      "{1: 0, 4: 1, 45: 2, 6: 3}\n",
      "Pair with given sum 16 is (6,10) at indices (3,4)\n",
      "{1: 0, 4: 1, 45: 2, 6: 3, 10: 4}\n",
      "{1: 0, 4: 1, 45: 2, 6: 3, 10: 4, 8: 5}\n"
     ]
    }
   ],
   "source": [
    "def printPairs(arr, arr_size, sum):\n",
    "     \n",
    "    # Create an empty hash map\n",
    "    # using an hashmap allows us to store the indices\n",
    "    hashmap = {}\n",
    "     \n",
    "    for i in range(0, arr_size):\n",
    "        temp = sum-arr[i]\n",
    "        if (temp in hashmap):\n",
    "            print (f'Pair with given sum {sum} is ({temp},{arr[i]}) at indices ({hashmap[temp]},{i})')\n",
    "        hashmap[arr[i]] = i\n",
    "        print(hashmap)\n",
    " \n",
    "# driver code\n",
    "A = [1, 4, 45, 6, 10, 8]\n",
    "n = 16\n",
    "printPairs(A, len(A), n)\n"
   ]
  }
 ],
 "metadata": {
  "kernelspec": {
   "display_name": "Python 3.8.8 ('base')",
   "language": "python",
   "name": "python3"
  },
  "language_info": {
   "codemirror_mode": {
    "name": "ipython",
    "version": 3
   },
   "file_extension": ".py",
   "mimetype": "text/x-python",
   "name": "python",
   "nbconvert_exporter": "python",
   "pygments_lexer": "ipython3",
   "version": "3.8.8"
  },
  "orig_nbformat": 4,
  "vscode": {
   "interpreter": {
    "hash": "fbe58ca63fe33f9eeae9e71d10368d2b4a57f2b1b395836210cc60d362c66949"
   }
  }
 },
 "nbformat": 4,
 "nbformat_minor": 2
}
