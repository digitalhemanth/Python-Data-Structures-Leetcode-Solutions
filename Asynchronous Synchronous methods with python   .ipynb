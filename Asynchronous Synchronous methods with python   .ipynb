{
 "cells": [
  {
   "cell_type": "code",
   "execution_count": null,
   "id": "63d43688",
   "metadata": {},
   "outputs": [],
   "source": [
    "import asyncio  \n",
    "import time  \n",
    "  \n",
    "async def execute(delay, value):  \n",
    "    await asyncio.sleep(delay)  \n",
    "    print(value)  \n",
    "  \n",
    "async def main():  \n",
    "    print(f\"started at {time.strftime('%X')}\")  \n",
    "  \n",
    "    await execute(10, 'Hemanth')  \n",
    "    await execute(2, 'Loh')  \n",
    "  \n",
    "    print(f\"finished at {time.strftime('%X')}\")  \n",
    "  \n",
    "asyncio.run(main())  "
   ]
  },
  {
   "cell_type": "markdown",
   "id": "359ddd94",
   "metadata": {},
   "source": [
    "In synchronous programming, the methods are written to perform one task at a time. If a function depends on the other function's output, it has to wait to finish the execution of that function. The program is essentially stopped until the function finishes its execution. It means that one program can get executed at a time.\n",
    "\n",
    "This slows down the program as it is forced to stop and wait for something to finish. Many processors are available in the system, so it is a waste of resources to do other tasks rather than the ideal sit."
   ]
  },
  {
   "cell_type": "markdown",
   "id": "cea11a72",
   "metadata": {},
   "source": [
    "To overcome this, the asynchronous programming concept comes into play. It behaves differently; it also takes one execution at a time. But the system may not wait to finish the execution to move on next step.\n",
    "\n",
    "It means the processor doesn't sit ideal if the program will perform another task while the previous hasn't yet finished and still running elsewhere."
   ]
  },
  {
   "cell_type": "code",
   "execution_count": null,
   "id": "cfc1faa4",
   "metadata": {},
   "outputs": [],
   "source": []
  }
 ],
 "metadata": {
  "kernelspec": {
   "display_name": "Python 3",
   "language": "python",
   "name": "python3"
  }
 },
 "nbformat": 4,
 "nbformat_minor": 5
}
