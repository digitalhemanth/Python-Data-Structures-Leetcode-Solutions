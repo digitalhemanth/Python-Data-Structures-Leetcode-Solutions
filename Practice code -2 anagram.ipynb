{
 "cells": [
  {
   "cell_type": "markdown",
   "id": "a9eae19b",
   "metadata": {},
   "source": [
    "# anagram"
   ]
  },
  {
   "cell_type": "code",
   "execution_count": 4,
   "id": "55155fed",
   "metadata": {},
   "outputs": [
    {
     "name": "stdout",
     "output_type": "stream",
     "text": [
      "Enter string 1 HEART\n",
      "Enter string 2 EARTH\n",
      "heart\n",
      "earth\n",
      "The HEART EARTH are Anagrams\n"
     ]
    }
   ],
   "source": [
    "str1 = str(input(\"Enter string 1 \"))\n",
    "str2 = str(input(\"Enter string 2 \"))\n",
    "\n",
    "print(str1.lower())\n",
    "print(str2.lower())\n",
    "\n",
    "if sorted(str1) == sorted(str2):\n",
    "      print(\"The\"+\" \"+ str1 + \" \"+ str2 +\" are Anagrams\")\n",
    "else:\n",
    "    print(\"Sorry this strings are not anagrams\")"
   ]
  },
  {
   "cell_type": "code",
   "execution_count": 11,
   "id": "3407d818",
   "metadata": {},
   "outputs": [
    {
     "name": "stdout",
     "output_type": "stream",
     "text": [
      "Enter string 1cat\n",
      "Enter string 2cat\n",
      "The cat catare Anagrams\n"
     ]
    }
   ],
   "source": [
    "str1 = str(input(\"Enter string 1\")).lower()\n",
    "str2 = str(input(\"Enter string 2\")).lower()\n",
    "\n",
    "if sorted(str1) == sorted(str2):\n",
    "      print(\"The\"+\" \"+ str1 + \" \"+ str2 +\"are Anagrams\")\n",
    "else:\n",
    "    print(\"Sorry this strings are not anagrams\")"
   ]
  },
  {
   "cell_type": "code",
   "execution_count": 2,
   "id": "62a6e179",
   "metadata": {},
   "outputs": [
    {
     "name": "stdout",
     "output_type": "stream",
     "text": [
      "[['cat', 'tac'], ['dog', 'god'], ['fired', 'fried'], ['pat', 'tap', 'apt'], ['hem']]\n"
     ]
    }
   ],
   "source": [
    "anagrams = ['cat', 'dog', 'fired', 'god', 'pat', 'tap', 'fried', 'tac','hem','apt']\n",
    "\n",
    "grouped_anagrams = {}\n",
    "\n",
    "for string in anagrams:\n",
    "    sorted_string = str(sorted(string))\n",
    "    if sorted_string in grouped_anagrams:\n",
    "        grouped_anagrams[sorted_string].append(string)\n",
    "    else:\n",
    "         grouped_anagrams[sorted_string] = [string]\n",
    "            \n",
    "print(list(grouped_anagrams.values()))\n"
   ]
  },
  {
   "cell_type": "code",
   "execution_count": null,
   "id": "e1844dac",
   "metadata": {},
   "outputs": [],
   "source": []
  }
 ],
 "metadata": {
  "kernelspec": {
   "display_name": "Python 3",
   "language": "python",
   "name": "python3"
  },
  "language_info": {
   "codemirror_mode": {
    "name": "ipython",
    "version": 3
   },
   "file_extension": ".py",
   "mimetype": "text/x-python",
   "name": "python",
   "nbconvert_exporter": "python",
   "pygments_lexer": "ipython3",
   "version": "3.8.8"
  }
 },
 "nbformat": 4,
 "nbformat_minor": 5
}
