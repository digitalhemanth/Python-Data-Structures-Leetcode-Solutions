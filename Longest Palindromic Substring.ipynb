{
 "cells": [
  {
   "cell_type": "code",
   "execution_count": 1,
   "id": "f7b67781",
   "metadata": {},
   "outputs": [
    {
     "name": "stdout",
     "output_type": "stream",
     "text": [
      "10\n"
     ]
    }
   ],
   "source": [
    "class Solution:\n",
    "    def countSubstrings(self, s):\n",
    "        counter = 0\n",
    "        for i in range(len(s)):\n",
    "            for j in range(i+1,len(s)+1):\n",
    "                temp = s[i:j]\n",
    "                if temp == temp[::-1]:\n",
    "                    counter+=1\n",
    "        return counter\n",
    "ob1 = Solution()\n",
    "print(ob1.countSubstrings(\"aaaa\"))"
   ]
  },
  {
   "cell_type": "code",
   "execution_count": 130,
   "id": "7065b5ac",
   "metadata": {},
   "outputs": [
    {
     "name": "stdout",
     "output_type": "stream",
     "text": [
      "H\n",
      "e\n",
      "l\n",
      "ll\n",
      "l\n",
      "o\n",
      "w\n"
     ]
    },
    {
     "data": {
      "text/plain": [
       "7"
      ]
     },
     "execution_count": 130,
     "metadata": {},
     "output_type": "execute_result"
    }
   ],
   "source": [
    "def countSubstrings(s):\n",
    "        counter = 0\n",
    "        for i in range(len(s)):\n",
    "            for j in range(i+1,len(s)+1):\n",
    "                temp = s[i:j]\n",
    "                if temp == temp[::-1]:\n",
    "                    print(temp)\n",
    "                    counter+=1\n",
    "        return counter\n",
    "countSubstrings(\"Hellow\")"
   ]
  },
  {
   "cell_type": "code",
   "execution_count": 26,
   "id": "280cf8d7",
   "metadata": {},
   "outputs": [],
   "source": [
    "    def longestPalindrome(s: str) -> str:\n",
    "        s = s.lower()\n",
    "        max_len = 0\n",
    "        max_word = \"\"\n",
    "        for first in range(len(s)):\n",
    "            for second in range(first+1, len(s)+1):\n",
    "                word = s[first:second]\n",
    "                if (word == word[::-1]):\n",
    "                    if max_len < len(word):\n",
    "                        max_len = len(word)\n",
    "                        max_word = word\n",
    "        return max_word\n",
    "    \n"
   ]
  },
  {
   "cell_type": "code",
   "execution_count": 27,
   "id": "5a5b299d",
   "metadata": {},
   "outputs": [
    {
     "data": {
      "text/plain": [
       "'racecar'"
      ]
     },
     "execution_count": 27,
     "metadata": {},
     "output_type": "execute_result"
    }
   ],
   "source": [
    "longestPalindrome('Racecar')"
   ]
  },
  {
   "cell_type": "code",
   "execution_count": 28,
   "id": "4d7f6efc",
   "metadata": {},
   "outputs": [
    {
     "name": "stdout",
     "output_type": "stream",
     "text": [
      "12.1 µs ± 358 ns per loop (mean ± std. dev. of 7 runs, 100000 loops each)\n"
     ]
    }
   ],
   "source": [
    "timeit longestPalindrome('Racecar')"
   ]
  },
  {
   "cell_type": "code",
   "execution_count": 29,
   "id": "33aadbb8",
   "metadata": {},
   "outputs": [],
   "source": [
    "def solve(S):\n",
    "        N = len(S)\n",
    "        ans = 0\n",
    "        for center in range(2*N - 1):\n",
    "            left = center // 2\n",
    "            right = left + center % 2\n",
    "            while left >= 0 and right < N and S[left] == S[right]:\n",
    "                ans += 1\n",
    "                left -= 1\n",
    "                right += 1\n",
    "        return ans"
   ]
  },
  {
   "cell_type": "code",
   "execution_count": 30,
   "id": "19f2aee2",
   "metadata": {},
   "outputs": [
    {
     "data": {
      "text/plain": [
       "6"
      ]
     },
     "execution_count": 30,
     "metadata": {},
     "output_type": "execute_result"
    }
   ],
   "source": [
    "solve('heven')"
   ]
  },
  {
   "cell_type": "markdown",
   "id": "d608d5c7",
   "metadata": {},
   "source": [
    "O(n2)"
   ]
  },
  {
   "cell_type": "code",
   "execution_count": 133,
   "id": "f534584c",
   "metadata": {},
   "outputs": [],
   "source": [
    "def ESolustion(s : str) -> str:\n",
    " \n",
    "   \n",
    "    def helper(l,r):\n",
    "        while(l>=0 and r<len(s) and s[l]==s[r]):\n",
    "                l -= 1\n",
    "                r += 1\n",
    "                #print(s[l+1:r], end = \" \")\n",
    "        return s[l+1:r]\n",
    "    \n",
    "    res = ''\n",
    "   \n",
    "    for i in range(len(s)):\n",
    "        test = helper(i,i)\n",
    "        if len(test)>len(res) :\n",
    "            res = test \n",
    "                \n",
    "        test = helper(i,i+1)\n",
    "        if len(test)>len(res) : \n",
    "            res = test \n",
    "   \n",
    "    return res\n"
   ]
  },
  {
   "cell_type": "code",
   "execution_count": 134,
   "id": "ecf0906e",
   "metadata": {},
   "outputs": [
    {
     "data": {
      "text/plain": [
       "'eve'"
      ]
     },
     "execution_count": 134,
     "metadata": {},
     "output_type": "execute_result"
    }
   ],
   "source": [
    "ESolustion('heven')"
   ]
  },
  {
   "cell_type": "code",
   "execution_count": 135,
   "id": "fb888a28",
   "metadata": {},
   "outputs": [
    {
     "name": "stdout",
     "output_type": "stream",
     "text": [
      "8 µs ± 656 ns per loop (mean ± std. dev. of 7 runs, 100000 loops each)\n"
     ]
    }
   ],
   "source": [
    "timeit ESolustion('heven')"
   ]
  },
  {
   "cell_type": "code",
   "execution_count": null,
   "id": "49ef3955",
   "metadata": {},
   "outputs": [],
   "source": []
  }
 ],
 "metadata": {
  "kernelspec": {
   "display_name": "Python 3",
   "language": "python",
   "name": "python3"
  },
  "language_info": {
   "codemirror_mode": {
    "name": "ipython",
    "version": 3
   },
   "file_extension": ".py",
   "mimetype": "text/x-python",
   "name": "python",
   "nbconvert_exporter": "python",
   "pygments_lexer": "ipython3",
   "version": "3.8.8"
  }
 },
 "nbformat": 4,
 "nbformat_minor": 5
}
