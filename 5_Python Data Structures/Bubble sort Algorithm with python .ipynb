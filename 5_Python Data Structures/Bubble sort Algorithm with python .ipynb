{
 "cells": [
  {
   "cell_type": "markdown",
   "id": "d5a39db5",
   "metadata": {},
   "source": [
    "## Bubble sort with python "
   ]
  },
  {
   "cell_type": "code",
   "execution_count": 6,
   "id": "38616fb1",
   "metadata": {},
   "outputs": [
    {
     "name": "stdout",
     "output_type": "stream",
     "text": [
      "Before Bubble Sort : \n",
      " \n",
      "5 9 3 7 0 4 -1 \n",
      "\n",
      " After Bubble Sort : \n",
      "\n",
      "-1 0 3 4 5 7 9 "
     ]
    }
   ],
   "source": [
    "def bubble_sort(Arr):\n",
    "    n = len(Arr)\n",
    "    for i in range(n):\n",
    "        for j in range(0,n-i-1):\n",
    "            if Arr[j] >= Arr[j+1]:\n",
    "                Arr[j],Arr[j+1] = Arr[j+1],Arr[j]\n",
    "\n",
    "Arr = [5,9,3,7,0,4,-1]\n",
    "print(\"Before Bubble Sort : \\n \")\n",
    "\n",
    "for i in Arr:\n",
    "    print(i,end = ' ')\n",
    "      \n",
    "bubble_sort(Arr)\n",
    "      \n",
    "print(\"\\n\\n After Bubble Sort : \\n\")\n",
    "for i in Arr:\n",
    "    print(i,end = ' ')\n",
    "      "
   ]
  },
  {
   "cell_type": "code",
   "execution_count": null,
   "id": "92efd4c8",
   "metadata": {},
   "outputs": [],
   "source": [
    "\n",
    "\n",
    "\n",
    "(n-1) + (n-2) + (n-3) +.....+ 1 = n(n-1)/2"
   ]
  }
 ],
 "metadata": {
  "kernelspec": {
   "display_name": "Python 3",
   "language": "python",
   "name": "python3"
  },
  "language_info": {
   "codemirror_mode": {
    "name": "ipython",
    "version": 3
   },
   "file_extension": ".py",
   "mimetype": "text/x-python",
   "name": "python",
   "nbconvert_exporter": "python",
   "pygments_lexer": "ipython3",
   "version": "3.8.8"
  }
 },
 "nbformat": 4,
 "nbformat_minor": 5
}
