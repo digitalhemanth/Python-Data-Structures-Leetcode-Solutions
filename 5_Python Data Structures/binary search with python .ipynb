{
 "cells": [
  {
   "cell_type": "code",
   "execution_count": 6,
   "id": "82c86427",
   "metadata": {},
   "outputs": [],
   "source": [
    "def Binary_sort(arr,x,low,high):\n",
    "    \n",
    "    while low <= high :\n",
    "        mid = low + (high-low)//2\n",
    "        #print(mid)\n",
    "        if arr[mid] == x:\n",
    "            print(arr[mid],\"element found !\")\n",
    "            break\n",
    "        elif mid < low:\n",
    "             low = mid+1\n",
    "        else:\n",
    "            high = mid-1"
   ]
  },
  {
   "cell_type": "code",
   "execution_count": 7,
   "id": "b11e02ef",
   "metadata": {},
   "outputs": [
    {
     "name": "stdout",
     "output_type": "stream",
     "text": [
      "[0, 2, 4, 6, 7, 9]\n",
      "2 element found !\n"
     ]
    }
   ],
   "source": [
    "arr = [4,9,2,7,6,0]\n",
    "\n",
    "arr = sorted(arr)\n",
    "\n",
    "print(arr)\n",
    "\n",
    "x = 2\n",
    "\n",
    "Binary_sort(arr,x,0,len(arr)+1)"
   ]
  },
  {
   "cell_type": "code",
   "execution_count": null,
   "id": "30b12911",
   "metadata": {},
   "outputs": [],
   "source": []
  },
  {
   "cell_type": "code",
   "execution_count": null,
   "id": "624efce8",
   "metadata": {},
   "outputs": [],
   "source": []
  }
 ],
 "metadata": {
  "kernelspec": {
   "display_name": "Python 3",
   "language": "python",
   "name": "python3"
  },
  "language_info": {
   "codemirror_mode": {
    "name": "ipython",
    "version": 3
   },
   "file_extension": ".py",
   "mimetype": "text/x-python",
   "name": "python",
   "nbconvert_exporter": "python",
   "pygments_lexer": "ipython3",
   "version": "3.8.8"
  }
 },
 "nbformat": 4,
 "nbformat_minor": 5
}
