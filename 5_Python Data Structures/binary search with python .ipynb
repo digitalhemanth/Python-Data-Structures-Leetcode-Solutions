{
 "cells": [
  {
   "cell_type": "code",
   "execution_count": 6,
   "id": "f5220800",
   "metadata": {},
   "outputs": [],
   "source": [
    "def Binary_sort(arr,x,low,high):\n",
    "    \n",
    "    while low <= high :\n",
    "        mid = low + (high-low)//2\n",
    "        #print(mid)\n",
    "        if arr[mid] == x:\n",
    "            print(arr[mid],\"element found !\")\n",
    "            break\n",
    "        elif mid < low:\n",
    "             low = mid+1\n",
    "        else:\n",
    "            high = mid-1"
   ]
  },
  {
   "cell_type": "code",
   "execution_count": 7,
   "id": "392963e3",
   "metadata": {},
   "outputs": [
    {
     "name": "stdout",
     "output_type": "stream",
     "text": [
      "[0, 2, 4, 6, 7, 9]\n",
      "2 element found !\n"
     ]
    }
   ],
   "source": [
    "arr = [4,9,2,7,6,0]\n",
    "\n",
    "arr = sorted(arr)\n",
    "\n",
    "print(arr)\n",
    "\n",
    "x = 2\n",
    "\n",
    "Binary_sort(arr,x,0,len(arr)+1)"
   ]
  },
  {
   "cell_type": "code",
   "execution_count": 8,
   "id": "235c8dd9",
   "metadata": {},
   "outputs": [
    {
     "name": "stdout",
     "output_type": "stream",
     "text": [
      "Element is present at index 1\n"
     ]
    }
   ],
   "source": [
    "\n",
    "\n",
    "def binarySearch(array, x, low, high):\n",
    "\n",
    "    if high >= low:\n",
    "\n",
    "        mid = low + (high - low)//2\n",
    "\n",
    "        # If found at mid, then return it\n",
    "        if array[mid] == x:\n",
    "            return mid\n",
    "\n",
    "        # Search the left half\n",
    "        elif array[mid] > x:\n",
    "            return binarySearch(array, x, low, mid-1)\n",
    "\n",
    "        # Search the right half\n",
    "        else:\n",
    "            return binarySearch(array, x, mid + 1, high)\n",
    "\n",
    "    else:\n",
    "        return -1\n",
    "\n",
    "\n",
    "array = [3, 4, 5, 6, 7, 8, 9]\n",
    "x = 4\n",
    "\n",
    "result = binarySearch(array, x, 0, len(array)-1)\n",
    "\n",
    "if result != -1:\n",
    "    print(\"Element is present at index \" + str(result))\n",
    "else:\n",
    "    print(\"Not found\")"
   ]
  },
  {
   "cell_type": "code",
   "execution_count": null,
   "id": "f4051bb5",
   "metadata": {},
   "outputs": [],
   "source": []
  }
 ],
 "metadata": {
  "kernelspec": {
   "display_name": "Python 3",
   "language": "python",
   "name": "python3"
  },
  "language_info": {
   "codemirror_mode": {
    "name": "ipython",
    "version": 3
   },
   "file_extension": ".py",
   "mimetype": "text/x-python",
   "name": "python",
   "nbconvert_exporter": "python",
   "pygments_lexer": "ipython3",
   "version": "3.8.8"
  }
 },
 "nbformat": 4,
 "nbformat_minor": 5
}
