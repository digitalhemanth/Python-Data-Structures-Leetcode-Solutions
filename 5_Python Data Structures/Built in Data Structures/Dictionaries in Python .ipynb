{
 "cells": [
  {
   "cell_type": "markdown",
   "id": "1c7175a8",
   "metadata": {},
   "source": [
    "# Dictionaries"
   ]
  },
  {
   "cell_type": "code",
   "execution_count": 3,
   "id": "334ca027",
   "metadata": {},
   "outputs": [
    {
     "name": "stdout",
     "output_type": "stream",
     "text": [
      "{}\n"
     ]
    }
   ],
   "source": [
    "Dicts = dict()\n",
    "\n",
    "print(Dicts)"
   ]
  },
  {
   "cell_type": "code",
   "execution_count": 6,
   "id": "67c3ca1b",
   "metadata": {},
   "outputs": [],
   "source": [
    "Dicts['Name']='Hemanth'\n",
    "Dicts['Profission'] = 'Data Scientist'\n"
   ]
  },
  {
   "cell_type": "code",
   "execution_count": 7,
   "id": "6dda3ccc",
   "metadata": {},
   "outputs": [
    {
     "name": "stdout",
     "output_type": "stream",
     "text": [
      "{'Name': 'Hemanth', 'Profission': 'Data Scientist'}\n"
     ]
    }
   ],
   "source": [
    "print(Dicts)"
   ]
  },
  {
   "cell_type": "code",
   "execution_count": 10,
   "id": "6e21bec0",
   "metadata": {},
   "outputs": [],
   "source": [
    "Dicts['Skills'] = {'Programming':'Python , SQL',\n",
    "                   'Technology':'Machine Learning'\n",
    "                  }"
   ]
  },
  {
   "cell_type": "code",
   "execution_count": 11,
   "id": "5a12196a",
   "metadata": {},
   "outputs": [
    {
     "name": "stdout",
     "output_type": "stream",
     "text": [
      "{'Name': 'Hemanth', 'Profission': 'Data Scientist', 'Skills': {'Programming': 'Python , SQL', 'Technology': 'Machine Learning'}}\n"
     ]
    }
   ],
   "source": [
    "print(Dicts)"
   ]
  },
  {
   "cell_type": "code",
   "execution_count": 14,
   "id": "259e67f9",
   "metadata": {},
   "outputs": [
    {
     "name": "stdout",
     "output_type": "stream",
     "text": [
      "Hemanth\n",
      "Data Scientist\n",
      "{'Programming': 'Python , SQL', 'Technology': 'Machine Learning'}\n"
     ]
    }
   ],
   "source": [
    "for group in Dicts.values():\n",
    "    print(group)\n",
    "    "
   ]
  },
  {
   "cell_type": "code",
   "execution_count": 26,
   "id": "3c4aa1d1",
   "metadata": {},
   "outputs": [
    {
     "data": {
      "text/plain": [
       "{'Programming': 'Python , SQL', 'Technology': 'Machine Learning'}"
      ]
     },
     "execution_count": 26,
     "metadata": {},
     "output_type": "execute_result"
    }
   ],
   "source": [
    "Dicts['Skills']"
   ]
  },
  {
   "cell_type": "code",
   "execution_count": 29,
   "id": "e42f7aa6",
   "metadata": {},
   "outputs": [
    {
     "data": {
      "text/plain": [
       "'Machine Learning'"
      ]
     },
     "execution_count": 29,
     "metadata": {},
     "output_type": "execute_result"
    }
   ],
   "source": [
    "Dicts['Skills']['Technology']"
   ]
  },
  {
   "cell_type": "code",
   "execution_count": 47,
   "id": "511f7c08",
   "metadata": {},
   "outputs": [
    {
     "name": "stdout",
     "output_type": "stream",
     "text": [
      "Hemanth\n",
      "Data Scientist\n",
      "Python , SQL\n",
      "Machine Learning\n"
     ]
    }
   ],
   "source": [
    "\n",
    "def my_list(Dicts):\n",
    "    for key,value in Dicts.items():\n",
    "        if type(value) is dict:\n",
    "            my_list(value)\n",
    "        else:\n",
    "            print(value)\n",
    "                \n",
    "my_list(Dicts)"
   ]
  },
  {
   "cell_type": "code",
   "execution_count": 44,
   "id": "de3840f5",
   "metadata": {},
   "outputs": [
    {
     "data": {
      "text/plain": [
       "10"
      ]
     },
     "execution_count": 44,
     "metadata": {},
     "output_type": "execute_result"
    }
   ],
   "source": [
    "x =10\n",
    "x"
   ]
  },
  {
   "cell_type": "code",
   "execution_count": 59,
   "id": "2bb3a8de",
   "metadata": {},
   "outputs": [
    {
     "data": {
      "text/plain": [
       "{'1': 'hem', '2': 'Hemanth'}"
      ]
     },
     "execution_count": 59,
     "metadata": {},
     "output_type": "execute_result"
    }
   ],
   "source": [
    "dic = { '1' : 'hem',\n",
    "        '2' : 'Hemanth'}\n",
    "\n",
    "dic"
   ]
  },
  {
   "cell_type": "code",
   "execution_count": 55,
   "id": "2717da3b",
   "metadata": {},
   "outputs": [
    {
     "data": {
      "text/plain": [
       "('2', 'Hemanth')"
      ]
     },
     "execution_count": 55,
     "metadata": {},
     "output_type": "execute_result"
    }
   ],
   "source": [
    "dic.popitem()"
   ]
  },
  {
   "cell_type": "code",
   "execution_count": 58,
   "id": "deaa78de",
   "metadata": {},
   "outputs": [
    {
     "data": {
      "text/plain": [
       "'hem'"
      ]
     },
     "execution_count": 58,
     "metadata": {},
     "output_type": "execute_result"
    }
   ],
   "source": [
    "dic.pop('1')"
   ]
  },
  {
   "cell_type": "code",
   "execution_count": 60,
   "id": "45233441",
   "metadata": {},
   "outputs": [],
   "source": [
    "dic.clear()"
   ]
  },
  {
   "cell_type": "code",
   "execution_count": null,
   "id": "5d6d1856",
   "metadata": {},
   "outputs": [],
   "source": []
  }
 ],
 "metadata": {
  "kernelspec": {
   "display_name": "Python 3",
   "language": "python",
   "name": "python3"
  },
  "language_info": {
   "codemirror_mode": {
    "name": "ipython",
    "version": 3
   },
   "file_extension": ".py",
   "mimetype": "text/x-python",
   "name": "python",
   "nbconvert_exporter": "python",
   "pygments_lexer": "ipython3",
   "version": "3.8.8"
  }
 },
 "nbformat": 4,
 "nbformat_minor": 5
}
