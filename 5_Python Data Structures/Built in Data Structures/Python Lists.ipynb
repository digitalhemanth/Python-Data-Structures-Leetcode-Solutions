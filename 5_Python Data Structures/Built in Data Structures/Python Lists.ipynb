{
 "cells": [
  {
   "cell_type": "code",
   "execution_count": 1,
   "id": "742f3af1",
   "metadata": {},
   "outputs": [
    {
     "name": "stdout",
     "output_type": "stream",
     "text": [
      "[]\n",
      "[1, 2, 3, 'example', 3.132]\n"
     ]
    }
   ],
   "source": [
    "my_list = [] #create empty list\n",
    "print(my_list)\n",
    "my_list = [1, 2, 3, 'example', 3.132] #creating list with data\n",
    "print(my_list)"
   ]
  },
  {
   "cell_type": "code",
   "execution_count": 5,
   "id": "24db130a",
   "metadata": {},
   "outputs": [
    {
     "name": "stdout",
     "output_type": "stream",
     "text": [
      "[]\n"
     ]
    }
   ],
   "source": [
    "elist = []\n",
    "\n",
    "print(elist)"
   ]
  },
  {
   "cell_type": "code",
   "execution_count": 7,
   "id": "e8e58fd7",
   "metadata": {},
   "outputs": [
    {
     "name": "stdout",
     "output_type": "stream",
     "text": [
      "[8, 8]\n"
     ]
    }
   ],
   "source": [
    "elist.append(8)\n",
    "print(elist)\n",
    "\n",
    "elist.extend(['Hemanth',27])\n"
   ]
  },
  {
   "cell_type": "code",
   "execution_count": 8,
   "id": "88770a87",
   "metadata": {},
   "outputs": [
    {
     "name": "stdout",
     "output_type": "stream",
     "text": [
      "[8, 8, 'Hemanth', 27]\n"
     ]
    }
   ],
   "source": [
    "print(elist)"
   ]
  },
  {
   "cell_type": "code",
   "execution_count": 9,
   "id": "4e072c4f",
   "metadata": {},
   "outputs": [
    {
     "data": {
      "text/plain": [
       "27"
      ]
     },
     "execution_count": 9,
     "metadata": {},
     "output_type": "execute_result"
    }
   ],
   "source": [
    "elist[3]"
   ]
  },
  {
   "cell_type": "code",
   "execution_count": 10,
   "id": "eb90b9e0",
   "metadata": {},
   "outputs": [
    {
     "name": "stdout",
     "output_type": "stream",
     "text": [
      "[8, 8, 'Hemanth', 27, 'Data Scientist']\n"
     ]
    }
   ],
   "source": [
    "elist.insert(4,'Data Scientist')\n",
    "print(elist)"
   ]
  },
  {
   "cell_type": "code",
   "execution_count": 12,
   "id": "4261ed9f",
   "metadata": {},
   "outputs": [
    {
     "name": "stdout",
     "output_type": "stream",
     "text": [
      "['Hemanth', 27, 'Data Scientist']\n"
     ]
    }
   ],
   "source": [
    "del elist[0]\n",
    "\n",
    "print(elist)"
   ]
  },
  {
   "cell_type": "code",
   "execution_count": 13,
   "id": "2eeb9ff4",
   "metadata": {},
   "outputs": [
    {
     "name": "stdout",
     "output_type": "stream",
     "text": [
      "[0, 1, 2, 3, 4, 5, 6, 7, 8]\n"
     ]
    }
   ],
   "source": [
    "gen = []\n",
    "\n",
    "for i in range(9):\n",
    "    gen.append(i)\n",
    "print(gen)"
   ]
  },
  {
   "cell_type": "code",
   "execution_count": 14,
   "id": "f16fc81a",
   "metadata": {},
   "outputs": [
    {
     "name": "stdout",
     "output_type": "stream",
     "text": [
      "[0, 1, 2, 3, 4, 5, 6, 7]\n"
     ]
    }
   ],
   "source": [
    "gen.pop()\n",
    "\n",
    "print(gen)"
   ]
  },
  {
   "cell_type": "code",
   "execution_count": 17,
   "id": "ab6b06cb",
   "metadata": {},
   "outputs": [
    {
     "name": "stdout",
     "output_type": "stream",
     "text": [
      "[0, 1, 2, 3, 4, 6, 7]\n"
     ]
    }
   ],
   "source": [
    "del gen[5]\n",
    "\n",
    "print(gen)"
   ]
  },
  {
   "cell_type": "code",
   "execution_count": 18,
   "id": "4339d335",
   "metadata": {},
   "outputs": [
    {
     "name": "stdout",
     "output_type": "stream",
     "text": [
      "[]\n"
     ]
    }
   ],
   "source": [
    "gen.clear()\n",
    "\n",
    "print(gen)"
   ]
  },
  {
   "cell_type": "code",
   "execution_count": 30,
   "id": "8f719e23",
   "metadata": {},
   "outputs": [
    {
     "name": "stdout",
     "output_type": "stream",
     "text": [
      "['Hemanth', 27, 'Banglore', 'Data scientist', 3.2]\n"
     ]
    }
   ],
   "source": [
    "Temp = ['Hemanth',27,'Banglore', 'Data scientist', 3.2 ]\n",
    "print(Temp)"
   ]
  },
  {
   "cell_type": "code",
   "execution_count": 31,
   "id": "2ffb857a",
   "metadata": {},
   "outputs": [
    {
     "name": "stdout",
     "output_type": "stream",
     "text": [
      "My Name is  Hemanth And Iam a  Data scientist\n"
     ]
    }
   ],
   "source": [
    "Name = Temp[0]\n",
    "\n",
    "print(\"My Name is \", Name + ' ' +\"And Iam a \",Temp[-2])"
   ]
  },
  {
   "cell_type": "code",
   "execution_count": 32,
   "id": "a9d6ab1e",
   "metadata": {},
   "outputs": [
    {
     "data": {
      "text/plain": [
       "[3.2, 'Data scientist', 'Banglore', 27, 'Hemanth']"
      ]
     },
     "execution_count": 32,
     "metadata": {},
     "output_type": "execute_result"
    }
   ],
   "source": [
    "Temp[::-1]"
   ]
  },
  {
   "cell_type": "code",
   "execution_count": 33,
   "id": "ee3a1356",
   "metadata": {},
   "outputs": [
    {
     "data": {
      "text/plain": [
       "True"
      ]
     },
     "execution_count": 33,
     "metadata": {},
     "output_type": "execute_result"
    }
   ],
   "source": [
    "Temp[3] is Temp[-2]"
   ]
  },
  {
   "cell_type": "code",
   "execution_count": 34,
   "id": "652af147",
   "metadata": {},
   "outputs": [
    {
     "data": {
      "text/plain": [
       "True"
      ]
     },
     "execution_count": 34,
     "metadata": {},
     "output_type": "execute_result"
    }
   ],
   "source": [
    "Temp[3] == Temp[-2]"
   ]
  },
  {
   "cell_type": "code",
   "execution_count": 35,
   "id": "c844b6e3",
   "metadata": {},
   "outputs": [
    {
     "name": "stdout",
     "output_type": "stream",
     "text": [
      "6\n",
      "3\n",
      "2\n",
      "[1, 2, 3, 10, 10, 30]\n",
      "[30, 10, 10, 3, 2, 1]\n"
     ]
    }
   ],
   "source": [
    "my_list = [1, 2, 3, 10, 30, 10]\n",
    "print(len(my_list)) #find length of list\n",
    "print(my_list.index(10)) #find index of element that occurs first\n",
    "print(my_list.count(10)) #find count of the element\n",
    "print(sorted(my_list)) #print sorted list but not change original\n",
    "my_list.sort(reverse=True) #sort original list\n",
    "print(my_list)"
   ]
  },
  {
   "cell_type": "code",
   "execution_count": null,
   "id": "4e4c476e",
   "metadata": {},
   "outputs": [],
   "source": []
  }
 ],
 "metadata": {
  "kernelspec": {
   "display_name": "Python 3",
   "language": "python",
   "name": "python3"
  },
  "language_info": {
   "codemirror_mode": {
    "name": "ipython",
    "version": 3
   },
   "file_extension": ".py",
   "mimetype": "text/x-python",
   "name": "python",
   "nbconvert_exporter": "python",
   "pygments_lexer": "ipython3",
   "version": "3.8.8"
  }
 },
 "nbformat": 4,
 "nbformat_minor": 5
}
