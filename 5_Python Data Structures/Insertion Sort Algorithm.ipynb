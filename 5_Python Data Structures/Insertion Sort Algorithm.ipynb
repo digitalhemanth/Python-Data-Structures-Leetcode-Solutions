{
 "cells": [
  {
   "cell_type": "markdown",
   "id": "5d1e4286",
   "metadata": {},
   "source": [
    "# Insertion Sort Algorithm "
   ]
  },
  {
   "cell_type": "markdown",
   "id": "2a657db8",
   "metadata": {},
   "source": [
    "### An array is divided into two sub arrays namely sorted and unsorted subarray."
   ]
  },
  {
   "cell_type": "markdown",
   "id": "b3b1714e",
   "metadata": {},
   "source": [
    "## The algorithm is based on one assumption that a single element is always sorted."
   ]
  },
  {
   "cell_type": "code",
   "execution_count": 1,
   "id": "4495a70c",
   "metadata": {},
   "outputs": [
    {
     "name": "stdout",
     "output_type": "stream",
     "text": [
      "My List\n",
      "\n",
      "[55, 9, 3, 8, 4, 0, 6, 1]\n",
      "\n",
      " After Insertion sort \n",
      "\n",
      "[0, 1, 3, 4, 6, 8, 9, 55]\n"
     ]
    }
   ],
   "source": [
    "def Insertion_sort(my_list):\n",
    "    for item in range(1,len(my_list)):\n",
    "        current_ele = my_list[item]\n",
    "        sorted_list = item\n",
    "        while current_ele<my_list[sorted_list-1] and sorted_list>0:\n",
    "            my_list[sorted_list]=my_list[sorted_list-1]\n",
    "            sorted_list = sorted_list-1\n",
    "        my_list[sorted_list] = current_ele\n",
    "        \n",
    "print(\"My List\\n\")\n",
    "my_list = [55,9,3,8,4,0,6,1]\n",
    "print(my_list)\n",
    "Insertion_sort(my_list)\n",
    "print(\"\\n After Insertion sort \\n\")\n",
    "print(my_list)\n",
    "\n",
    "            "
   ]
  },
  {
   "cell_type": "markdown",
   "id": "1d20e244",
   "metadata": {},
   "source": [
    "## Insertion Sort Algorithm Time Space Complexity "
   ]
  },
  {
   "cell_type": "markdown",
   "id": "81d58f77",
   "metadata": {},
   "source": [
    "\n",
    "The worst case time complexity of Insertion sort is O(N^2), \n",
    "\n",
    "The average case time complexity of Insertion sort is O(N^2), \n",
    "\n",
    "The time complexity of the best case is O(N).\n",
    "\n",
    "The space complexity is O(1)\n"
   ]
  },
  {
   "cell_type": "code",
   "execution_count": null,
   "id": "941b43c9",
   "metadata": {},
   "outputs": [],
   "source": []
  }
 ],
 "metadata": {
  "kernelspec": {
   "display_name": "Python 3",
   "language": "python",
   "name": "python3"
  },
  "language_info": {
   "codemirror_mode": {
    "name": "ipython",
    "version": 3
   },
   "file_extension": ".py",
   "mimetype": "text/x-python",
   "name": "python",
   "nbconvert_exporter": "python",
   "pygments_lexer": "ipython3",
   "version": "3.8.8"
  }
 },
 "nbformat": 4,
 "nbformat_minor": 5
}
