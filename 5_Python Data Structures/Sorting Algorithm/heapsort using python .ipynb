{
 "cells": [
  {
   "cell_type": "markdown",
   "id": "95547834",
   "metadata": {},
   "source": [
    "# Heap Sort using Python "
   ]
  },
  {
   "cell_type": "code",
   "execution_count": 5,
   "id": "d45f53d8",
   "metadata": {},
   "outputs": [],
   "source": [
    "def heapify(arr,n,i):\n",
    "    largest = i\n",
    "    l= 2*i + 1\n",
    "    r= 2*i + 2\n",
    "    \n",
    "    if l<n and arr[i]<arr[l]:\n",
    "        largest = l\n",
    "    \n",
    "    if r<n and arr[largest]<arr[r]:\n",
    "        largest = r\n",
    "    \n",
    "    if largest !=i:\n",
    "        arr[i],arr[largest] = arr[largest],arr[i]\n",
    "        heapify(arr,n,largest)"
   ]
  },
  {
   "cell_type": "code",
   "execution_count": 6,
   "id": "e8b6752a",
   "metadata": {},
   "outputs": [],
   "source": [
    "def heapsort(arr):\n",
    "    n = len(arr)\n",
    "    \n",
    "    for i in range(n , -1, -1):\n",
    "        heapify(arr, n , i)\n",
    "        \n",
    "    for i in range(n-1, 0, -1):\n",
    "        arr[i], arr[0] = arr[0],arr[i]\n",
    "        heapify(arr,i,0)"
   ]
  },
  {
   "cell_type": "code",
   "execution_count": 7,
   "id": "d07b81ea",
   "metadata": {},
   "outputs": [
    {
     "name": "stdout",
     "output_type": "stream",
     "text": [
      "[0, 1, 3, 5, 7, 9, 55]\n"
     ]
    }
   ],
   "source": [
    "arr = [55,3,9,7,0,5,1]\n",
    "\n",
    "heapsort(arr)\n",
    "\n",
    "print(arr)"
   ]
  },
  {
   "cell_type": "markdown",
   "id": "1a26fb08",
   "metadata": {},
   "source": [
    "O(n log n)\n",
    "\n",
    "O(1)"
   ]
  },
  {
   "cell_type": "code",
   "execution_count": null,
   "id": "12ceea1b",
   "metadata": {},
   "outputs": [],
   "source": []
  }
 ],
 "metadata": {
  "kernelspec": {
   "display_name": "Python 3",
   "language": "python",
   "name": "python3"
  },
  "language_info": {
   "codemirror_mode": {
    "name": "ipython",
    "version": 3
   },
   "file_extension": ".py",
   "mimetype": "text/x-python",
   "name": "python",
   "nbconvert_exporter": "python",
   "pygments_lexer": "ipython3",
   "version": "3.8.8"
  }
 },
 "nbformat": 4,
 "nbformat_minor": 5
}
