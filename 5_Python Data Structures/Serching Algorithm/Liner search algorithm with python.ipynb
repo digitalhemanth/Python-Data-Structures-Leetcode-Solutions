{
 "cells": [
  {
   "cell_type": "markdown",
   "id": "ba214e27",
   "metadata": {},
   "source": [
    "# Liner search algorithm "
   ]
  },
  {
   "cell_type": "code",
   "execution_count": 6,
   "id": "a03cdab8",
   "metadata": {},
   "outputs": [
    {
     "name": "stdout",
     "output_type": "stream",
     "text": [
      "9 value is found\n"
     ]
    }
   ],
   "source": [
    "def liner_search(lists, key):\n",
    "    for x in range(len(lists)):\n",
    "        if lists[x] == key:\n",
    "            print(key,\"value is found\")\n",
    "            break\n",
    "    else:\n",
    "           print(\"Value is not found !\")\n",
    "            \n",
    "lists = [29,3,7,0,9,3,10]\n",
    "key = 9\n",
    "liner_search(lists, key)"
   ]
  },
  {
   "cell_type": "markdown",
   "id": "04906827",
   "metadata": {},
   "source": [
    "Worst-case performance: O(n)\n",
    "    \n",
    "Best-case performance: O(1)\n",
    "\n",
    "Worst-case space complexity: O(1) iterative"
   ]
  },
  {
   "cell_type": "code",
   "execution_count": null,
   "id": "647d2022",
   "metadata": {},
   "outputs": [],
   "source": []
  }
 ],
 "metadata": {
  "kernelspec": {
   "display_name": "Python 3",
   "language": "python",
   "name": "python3"
  },
  "language_info": {
   "codemirror_mode": {
    "name": "ipython",
    "version": 3
   },
   "file_extension": ".py",
   "mimetype": "text/x-python",
   "name": "python",
   "nbconvert_exporter": "python",
   "pygments_lexer": "ipython3",
   "version": "3.8.8"
  }
 },
 "nbformat": 4,
 "nbformat_minor": 5
}
