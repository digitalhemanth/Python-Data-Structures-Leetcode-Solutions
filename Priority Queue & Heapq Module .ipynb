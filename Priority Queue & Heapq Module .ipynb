{
 "cells": [
  {
   "cell_type": "markdown",
   "id": "e22513d3",
   "metadata": {},
   "source": [
    "## Priority Queue & Heapq Module "
   ]
  },
  {
   "cell_type": "code",
   "execution_count": 1,
   "id": "f40b932f",
   "metadata": {},
   "outputs": [],
   "source": [
    "import heapq"
   ]
  },
  {
   "cell_type": "code",
   "execution_count": 13,
   "id": "600c3639",
   "metadata": {},
   "outputs": [
    {
     "data": {
      "text/plain": [
       "[1, 6, 5, 10, 11, 9]"
      ]
     },
     "execution_count": 13,
     "metadata": {},
     "output_type": "execute_result"
    }
   ],
   "source": [
    "heap = []\n",
    "\n",
    "heapq.heappush(heap,10)\n",
    "heapq.heappush(heap,1)\n",
    "heapq.heappush(heap,5)\n",
    "heapq.heappush(heap,6)\n",
    "heapq.heappush(heap,11)\n",
    "heapq.heappush(heap,9)\n",
    "\n",
    "heap"
   ]
  },
  {
   "cell_type": "code",
   "execution_count": 14,
   "id": "a34dfcaa",
   "metadata": {},
   "outputs": [
    {
     "data": {
      "text/plain": [
       "1"
      ]
     },
     "execution_count": 14,
     "metadata": {},
     "output_type": "execute_result"
    }
   ],
   "source": [
    "heapq.heappop(heap)"
   ]
  },
  {
   "cell_type": "code",
   "execution_count": 15,
   "id": "1dedb6f7",
   "metadata": {},
   "outputs": [
    {
     "data": {
      "text/plain": [
       "5"
      ]
     },
     "execution_count": 15,
     "metadata": {},
     "output_type": "execute_result"
    }
   ],
   "source": [
    "heapq.heappop(heap)\n"
   ]
  },
  {
   "cell_type": "code",
   "execution_count": 16,
   "id": "6aa6760a",
   "metadata": {},
   "outputs": [
    {
     "data": {
      "text/plain": [
       "[6, 10, 9, 11]"
      ]
     },
     "execution_count": 16,
     "metadata": {},
     "output_type": "execute_result"
    }
   ],
   "source": [
    "heap"
   ]
  },
  {
   "cell_type": "code",
   "execution_count": 17,
   "id": "20c22da7",
   "metadata": {},
   "outputs": [
    {
     "name": "stdout",
     "output_type": "stream",
     "text": [
      "[1, 5, 2, 9, 77, 3, 55]\n"
     ]
    }
   ],
   "source": [
    "My_list = [1,5,2,9,77,3,55]\n",
    "\n",
    "heapq.heapify(My_list)\n",
    "\n",
    "print(My_list)"
   ]
  },
  {
   "cell_type": "code",
   "execution_count": 19,
   "id": "3ac4c4b9",
   "metadata": {},
   "outputs": [
    {
     "data": {
      "text/plain": [
       "1"
      ]
     },
     "execution_count": 19,
     "metadata": {},
     "output_type": "execute_result"
    }
   ],
   "source": [
    "heapq.heappushpop(My_list,58)"
   ]
  },
  {
   "cell_type": "code",
   "execution_count": 20,
   "id": "569b21c6",
   "metadata": {},
   "outputs": [
    {
     "name": "stdout",
     "output_type": "stream",
     "text": [
      "[2, 5, 3, 9, 77, 58, 55]\n"
     ]
    }
   ],
   "source": [
    "print(My_list)"
   ]
  },
  {
   "cell_type": "code",
   "execution_count": 22,
   "id": "e633afc7",
   "metadata": {},
   "outputs": [
    {
     "data": {
      "text/plain": [
       "2"
      ]
     },
     "execution_count": 22,
     "metadata": {},
     "output_type": "execute_result"
    }
   ],
   "source": [
    "heapq.heapreplace(My_list,4)"
   ]
  },
  {
   "cell_type": "code",
   "execution_count": 23,
   "id": "1ee9feab",
   "metadata": {},
   "outputs": [
    {
     "name": "stdout",
     "output_type": "stream",
     "text": [
      "[3, 5, 4, 9, 77, 58, 55]\n"
     ]
    }
   ],
   "source": [
    "print(My_list)"
   ]
  },
  {
   "cell_type": "code",
   "execution_count": 26,
   "id": "2fb0bde6",
   "metadata": {},
   "outputs": [
    {
     "data": {
      "text/plain": [
       "[0, 1]"
      ]
     },
     "execution_count": 26,
     "metadata": {},
     "output_type": "execute_result"
    }
   ],
   "source": [
    "My_list = [1,5,2,9,88,75,0,6,77,3,55]\n",
    "\n",
    "heapq.nsmallest(2,My_list)"
   ]
  },
  {
   "cell_type": "code",
   "execution_count": 29,
   "id": "cee5ffb9",
   "metadata": {},
   "outputs": [
    {
     "data": {
      "text/plain": [
       "[88, 77, 75, 55, 9]"
      ]
     },
     "execution_count": 29,
     "metadata": {},
     "output_type": "execute_result"
    }
   ],
   "source": [
    "heapq.nlargest(5,My_list)"
   ]
  },
  {
   "cell_type": "code",
   "execution_count": null,
   "id": "dd9301e6",
   "metadata": {},
   "outputs": [],
   "source": []
  }
 ],
 "metadata": {
  "kernelspec": {
   "display_name": "Python 3",
   "language": "python",
   "name": "python3"
  },
  "language_info": {
   "codemirror_mode": {
    "name": "ipython",
    "version": 3
   },
   "file_extension": ".py",
   "mimetype": "text/x-python",
   "name": "python",
   "nbconvert_exporter": "python",
   "pygments_lexer": "ipython3",
   "version": "3.8.8"
  }
 },
 "nbformat": 4,
 "nbformat_minor": 5
}
