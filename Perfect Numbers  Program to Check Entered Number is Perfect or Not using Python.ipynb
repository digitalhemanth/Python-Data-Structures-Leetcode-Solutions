{
 "cells": [
  {
   "cell_type": "markdown",
   "id": "4495051f",
   "metadata": {},
   "source": [
    "# Perfect Numbers | Program to Check Entered Number is Perfect or Not using Python"
   ]
  },
  {
   "cell_type": "markdown",
   "id": "5dfa68d8",
   "metadata": {},
   "source": [
    "In number theory, a perfect number is a positive integer that is equal to the sum of its positive divisors, excluding the number itself."
   ]
  },
  {
   "cell_type": "code",
   "execution_count": 6,
   "id": "c7660486",
   "metadata": {},
   "outputs": [
    {
     "name": "stdout",
     "output_type": "stream",
     "text": [
      "Please enter a positive number : 8\n",
      "Sorry ! \n"
     ]
    }
   ],
   "source": [
    "num = int(input(\"Please enter a positive number : \"))\n",
    "res = 0\n",
    "\n",
    "for i in range(1,num):\n",
    "    if (num%i)==0:\n",
    "        res = res+i\n",
    "        \n",
    "if res==num:\n",
    "    print(num + \" \"+ \"is a Perfect number\")\n",
    "else:\n",
    "    print(\"Sorry ! \")"
   ]
  },
  {
   "cell_type": "code",
   "execution_count": 7,
   "id": "d4a9e588",
   "metadata": {},
   "outputs": [
    {
     "name": "stdout",
     "output_type": "stream",
     "text": [
      "Please enter a positive number : 6\n",
      "6 is a Perfect number\n"
     ]
    }
   ],
   "source": [
    "num = int(input(\"Please enter a positive number : \"))\n",
    "res = 0\n",
    "\n",
    "for i in range(1,num):\n",
    "    if (num%i)==0:\n",
    "        res = res+i\n",
    "        \n",
    "if res==num:\n",
    "    print(num , \"is a Perfect number\")\n",
    "else:\n",
    "    print(\"Sorry ! \")"
   ]
  },
  {
   "cell_type": "markdown",
   "id": "4c9d6c94",
   "metadata": {},
   "source": [
    "# Program to Print Perfect Numbers in Given Interval"
   ]
  },
  {
   "cell_type": "code",
   "execution_count": 9,
   "id": "8b8031fd",
   "metadata": {},
   "outputs": [
    {
     "name": "stdout",
     "output_type": "stream",
     "text": [
      "Please enter lower positive number : 5\n",
      "Please enter a upper positive number : 15\n",
      "6 is a Perfect number\n"
     ]
    }
   ],
   "source": [
    "lower = int(input(\"Please enter lower positive number : \"))\n",
    "upper = int(input(\"Please enter a upper positive number : \"))\n",
    "\n",
    "for num in range(lower,upper+1):\n",
    "    res = 0\n",
    "    for i in range(1,num):\n",
    "        if (num%i)==0:\n",
    "            res = res+i\n",
    "    if res==num:\n",
    "        print(num , \"is a Perfect number\")\n"
   ]
  },
  {
   "cell_type": "code",
   "execution_count": 10,
   "id": "45232c03",
   "metadata": {},
   "outputs": [
    {
     "name": "stdout",
     "output_type": "stream",
     "text": [
      "Please enter lower positive number : 1\n",
      "Please enter a upper positive number : 100\n",
      "6 is a Perfect number\n",
      "28 is a Perfect number\n"
     ]
    }
   ],
   "source": [
    "lower = int(input(\"Please enter lower positive number : \"))\n",
    "upper = int(input(\"Please enter a upper positive number : \"))\n",
    "\n",
    "for num in range(lower,upper+1):\n",
    "    res = 0\n",
    "    for i in range(1,num):\n",
    "        if (num%i)==0:\n",
    "            res = res+i\n",
    "    if res==num:\n",
    "        print(num , \"is a Perfect number\")"
   ]
  },
  {
   "cell_type": "code",
   "execution_count": null,
   "id": "f0d73cfe",
   "metadata": {},
   "outputs": [],
   "source": []
  }
 ],
 "metadata": {
  "kernelspec": {
   "display_name": "Python 3",
   "language": "python",
   "name": "python3"
  },
  "language_info": {
   "codemirror_mode": {
    "name": "ipython",
    "version": 3
   },
   "file_extension": ".py",
   "mimetype": "text/x-python",
   "name": "python",
   "nbconvert_exporter": "python",
   "pygments_lexer": "ipython3",
   "version": "3.8.8"
  }
 },
 "nbformat": 4,
 "nbformat_minor": 5
}
