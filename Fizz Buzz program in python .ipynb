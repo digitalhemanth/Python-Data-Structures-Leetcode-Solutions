{
 "cells": [
  {
   "cell_type": "markdown",
   "id": "1ccd546f",
   "metadata": {},
   "source": [
    "Write a program that prints the numbers from 1 to 100 and for multiples of ‘3’ print “Fizz” instead of the number and for the multiples of ‘5’ print “Buzz”. "
   ]
  },
  {
   "cell_type": "code",
   "execution_count": 13,
   "id": "d952dff5",
   "metadata": {},
   "outputs": [
    {
     "name": "stdout",
     "output_type": "stream",
     "text": [
      "1 2 Fizz 4 Buzz 5 Fizz 7 8 Fizz Buzz 10 11 Fizz 13 14 FizzBuzz 16 17 Fizz 19 Buzz 20 Fizz 22 23 Fizz Buzz 25 26 Fizz 28 29 FizzBuzz 31 32 Fizz 34 Buzz 35 Fizz 37 38 Fizz Buzz 40 41 Fizz 43 44 FizzBuzz 46 47 Fizz 49 Buzz 50 Fizz 52 53 Fizz Buzz 55 56 Fizz 58 59 FizzBuzz 61 62 Fizz 64 Buzz 65 Fizz 67 68 Fizz Buzz 70 71 Fizz 73 74 FizzBuzz 76 77 Fizz 79 Buzz 80 Fizz 82 83 Fizz Buzz 85 86 Fizz 88 89 FizzBuzz 91 92 Fizz 94 Buzz 95 Fizz 97 98 Fizz "
     ]
    }
   ],
   "source": [
    "for i in range(1,100):\n",
    "    if i % 15 == 0:\n",
    "        print(\"FizzBuzz\",end=\" \")\n",
    "        continue\n",
    "    elif i % 3 == 0:\n",
    "        print(\"Fizz\",end=\" \")\n",
    "        continue\n",
    "    elif i % 5 == 0:\n",
    "        print(\"Buzz\",end=\" \")\n",
    "       \n",
    "    print(i,end=\" \")"
   ]
  },
  {
   "cell_type": "code",
   "execution_count": null,
   "id": "1a8c5b87",
   "metadata": {},
   "outputs": [],
   "source": []
  }
 ],
 "metadata": {
  "kernelspec": {
   "display_name": "Python 3",
   "language": "python",
   "name": "python3"
  },
  "language_info": {
   "codemirror_mode": {
    "name": "ipython",
    "version": 3
   },
   "file_extension": ".py",
   "mimetype": "text/x-python",
   "name": "python",
   "nbconvert_exporter": "python",
   "pygments_lexer": "ipython3",
   "version": "3.8.8"
  }
 },
 "nbformat": 4,
 "nbformat_minor": 5
}
