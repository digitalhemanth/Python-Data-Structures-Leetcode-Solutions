{
 "cells": [
  {
   "cell_type": "markdown",
   "id": "68000f8b",
   "metadata": {},
   "source": [
    "# Two Sum in a array - HashMap - Python"
   ]
  },
  {
   "cell_type": "code",
   "execution_count": 21,
   "id": "250124de",
   "metadata": {},
   "outputs": [],
   "source": [
    "def Solution(arr, target):\n",
    "    indices = {}\n",
    "for i, n in enumerate(numbers):\n",
    "    if ((target - n) in hashTable and hashTable[target - n] == None):\n",
    "        hashTable[target - n] = n\n",
    "    else:\n",
    "        hashTable[n] = None\n",
    "    indices[n] = i\n",
    "\n",
    "results = [[indices[k], indices[v]] for k, v in hashTable.items() if v != None]\n",
    "print(results)"
   ]
  },
  {
   "cell_type": "code",
   "execution_count": 22,
   "id": "016d0ebb",
   "metadata": {},
   "outputs": [
    {
     "name": "stdout",
     "output_type": "stream",
     "text": [
      "[6, 4]\n",
      "[7, 5]\n"
     ]
    },
    {
     "data": {
      "text/plain": [
       "{0: 8, 1: 6, 2: 7, 3: 1, 4: 3, 5: 2}"
      ]
     },
     "execution_count": 22,
     "metadata": {},
     "output_type": "execute_result"
    }
   ],
   "source": [
    "arr = [8,6,7,1,3,2]\n",
    "target = 4\n",
    "Solution(arr, target)"
   ]
  },
  {
   "cell_type": "code",
   "execution_count": null,
   "id": "6b797635",
   "metadata": {},
   "outputs": [],
   "source": []
  }
 ],
 "metadata": {
  "kernelspec": {
   "display_name": "Python 3",
   "language": "python",
   "name": "python3"
  },
  "language_info": {
   "codemirror_mode": {
    "name": "ipython",
    "version": 3
   },
   "file_extension": ".py",
   "mimetype": "text/x-python",
   "name": "python",
   "nbconvert_exporter": "python",
   "pygments_lexer": "ipython3",
   "version": "3.8.8"
  }
 },
 "nbformat": 4,
 "nbformat_minor": 5
}
