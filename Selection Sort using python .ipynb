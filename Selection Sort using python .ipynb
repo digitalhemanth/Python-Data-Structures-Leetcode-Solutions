{
 "cells": [
  {
   "cell_type": "markdown",
   "id": "bd55a509",
   "metadata": {},
   "source": [
    "# Selection Sort "
   ]
  },
  {
   "cell_type": "code",
   "execution_count": 7,
   "id": "44bfa898",
   "metadata": {},
   "outputs": [
    {
     "name": "stdout",
     "output_type": "stream",
     "text": [
      "[9, 4, 88, 7, 0, 8, 3]\n",
      "[0, 3, 4, 7, 8, 9, 88]\n"
     ]
    }
   ],
   "source": [
    "list_tmp = [9,4,88,7,0,8,3]\n",
    "print(list_tmp)\n",
    "\n",
    "for i in range(len(list_tmp)):\n",
    "    minval = min(list_tmp[i:])\n",
    "    ind =list_tmp.index(minval)\n",
    "    list_tmp[i],list_tmp[ind] = list_tmp[ind],list_tmp[i]\n",
    "\n",
    "print(list_tmp)"
   ]
  },
  {
   "cell_type": "markdown",
   "id": "ee43c554",
   "metadata": {},
   "source": [
    "o(n2)"
   ]
  },
  {
   "cell_type": "code",
   "execution_count": null,
   "id": "a9cc0f0f",
   "metadata": {},
   "outputs": [],
   "source": []
  }
 ],
 "metadata": {
  "kernelspec": {
   "display_name": "Python 3",
   "language": "python",
   "name": "python3"
  },
  "language_info": {
   "codemirror_mode": {
    "name": "ipython",
    "version": 3
   },
   "file_extension": ".py",
   "mimetype": "text/x-python",
   "name": "python",
   "nbconvert_exporter": "python",
   "pygments_lexer": "ipython3",
   "version": "3.8.8"
  }
 },
 "nbformat": 4,
 "nbformat_minor": 5
}
