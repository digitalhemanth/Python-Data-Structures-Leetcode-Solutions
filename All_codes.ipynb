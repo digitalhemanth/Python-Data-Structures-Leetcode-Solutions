{
 "cells": [
  {
   "cell_type": "code",
   "execution_count": 5,
   "metadata": {},
   "outputs": [
    {
     "name": "stdout",
     "output_type": "stream",
     "text": [
      "{0: 'Hemanth', 1: 'Hem', 2: 'Krishna'}\n"
     ]
    }
   ],
   "source": [
    "#Convert List to Dictionaries in Python\n",
    "Names = ['Hemanth', 'Hem', 'Krishna']\n",
    "Dic_names = {}\n",
    "for key,name in enumerate(Names):\n",
    "    Dic_names[key] = name\n",
    "print(dict(Dic_names.items()))"
   ]
  },
  {
   "cell_type": "code",
   "execution_count": 8,
   "metadata": {},
   "outputs": [
    {
     "name": "stdout",
     "output_type": "stream",
     "text": [
      "{'Hemanth': 9000, 'Hem': 3000, 'Krishna': 8000}\n"
     ]
    }
   ],
   "source": [
    "#Convert 2 Lists to Dictionaries in Python\n",
    "names = ['Hemanth', 'Hem', 'Krishna']\n",
    "sals = [9000,3000,8000]\n",
    "print(dict(zip(names,sals)))"
   ]
  },
  {
   "cell_type": "code",
   "execution_count": 10,
   "metadata": {},
   "outputs": [
    {
     "name": "stdout",
     "output_type": "stream",
     "text": [
      "[9000, 3000, 8000]\n"
     ]
    }
   ],
   "source": [
    "#dictionary to list in python\n",
    "temps = dict(zip(names,sals))\n",
    "\n",
    "ls = []\n",
    "for key in temps.values():\n",
    "    ls.append(key)\n",
    "print(ls)"
   ]
  },
  {
   "cell_type": "code",
   "execution_count": 12,
   "metadata": {},
   "outputs": [
    {
     "name": "stdout",
     "output_type": "stream",
     "text": [
      "[9000, 3000, 8000]\n"
     ]
    }
   ],
   "source": [
    "tls = list(temps.values())\n",
    "print(tls)"
   ]
  },
  {
   "cell_type": "code",
   "execution_count": 21,
   "metadata": {},
   "outputs": [
    {
     "name": "stdout",
     "output_type": "stream",
     "text": [
      "45\n"
     ]
    }
   ],
   "source": [
    "# Python program to find largest number\n",
    "# in a list\n",
    "list1 = [10, 20, 20, 4, 45, 45, 45, 99, 99]\n",
    "list2 = list(set(list1))\n",
    "# Sorting the  list\n",
    "list2.sort()\n",
    "print(list2[-2])"
   ]
  },
  {
   "cell_type": "code",
   "execution_count": 25,
   "metadata": {},
   "outputs": [
    {
     "name": "stdout",
     "output_type": "stream",
     "text": [
      "20\n"
     ]
    }
   ],
   "source": [
    "print(sorted(set(list1))[-3])"
   ]
  },
  {
   "cell_type": "code",
   "execution_count": 50,
   "metadata": {},
   "outputs": [
    {
     "name": "stdout",
     "output_type": "stream",
     "text": [
      "the current min  7\n",
      "the current min  1\n",
      "the current maxprofit  4\n",
      "the current maxprofit  4\n",
      "the current maxprofit  5\n",
      "the current maxprofit  5\n",
      "the current maxprofit  8\n",
      "8\n"
     ]
    }
   ],
   "source": [
    "#max stock price leetcode\n",
    "Price = [7,1,5,3,6,4,9]\n",
    "\n",
    "maxprofit = 0\n",
    "min = float('inf')\n",
    "\n",
    "for stock in Price:\n",
    "    if stock < min:\n",
    "        min = stock\n",
    "        print(\"the current min \", min)\n",
    "    else:\n",
    "        maxprofit=max(maxprofit,stock-min)\n",
    "        print(\"the current maxprofit \", maxprofit)\n",
    "        \n",
    "print(maxprofit)"
   ]
  },
  {
   "cell_type": "code",
   "execution_count": null,
   "metadata": {},
   "outputs": [],
   "source": []
  },
  {
   "cell_type": "code",
   "execution_count": null,
   "metadata": {},
   "outputs": [],
   "source": [
    "\n",
    "        "
   ]
  },
  {
   "cell_type": "code",
   "execution_count": 1,
   "metadata": {},
   "outputs": [
    {
     "name": "stdout",
     "output_type": "stream",
     "text": [
      "{'a': 1, 'b': 2, 'c': 3}\n"
     ]
    }
   ],
   "source": [
    "x =['a','b','c']\n",
    "y =[1,2,3]\n",
    "res = dict(zip(x,y))\n",
    "print(res)"
   ]
  },
  {
   "cell_type": "code",
   "execution_count": 2,
   "metadata": {},
   "outputs": [
    {
     "name": "stdout",
     "output_type": "stream",
     "text": [
      "{'a': 3, 'b': 3, 'c': 3}\n"
     ]
    }
   ],
   "source": [
    "dic = {}\n",
    "for key in x:\n",
    "    for value in y:\n",
    "        dic[key] = value\n",
    "print(dic) "
   ]
  },
  {
   "cell_type": "code",
   "execution_count": 5,
   "metadata": {},
   "outputs": [
    {
     "name": "stdout",
     "output_type": "stream",
     "text": [
      "{'a': 1, 'b': 2, 'c': 3}\n"
     ]
    }
   ],
   "source": [
    "val = {x[i]: y[i] for i in range(len(x))}\n",
    "print(val)"
   ]
  },
  {
   "cell_type": "code",
   "execution_count": 6,
   "metadata": {},
   "outputs": [
    {
     "name": "stdout",
     "output_type": "stream",
     "text": [
      "a\n"
     ]
    }
   ],
   "source": [
    "def myfunc2(x):\n",
    "    x+='b'\n",
    "\n",
    "myvar='a'\n",
    "myfunc2(myvar)\n",
    "print(myvar)"
   ]
  },
  {
   "cell_type": "code",
   "execution_count": 7,
   "metadata": {},
   "outputs": [
    {
     "name": "stdout",
     "output_type": "stream",
     "text": [
      "['a', 'b', ['c', 'd'], 'e', 'f']\n"
     ]
    }
   ],
   "source": [
    "list1=['a']\n",
    "list1.append('b')\n",
    "list1.append(['c','d'])\n",
    "list1.extend(['e','f'])\n",
    "print(list1)"
   ]
  },
  {
   "cell_type": "code",
   "execution_count": 8,
   "metadata": {},
   "outputs": [
    {
     "name": "stdout",
     "output_type": "stream",
     "text": [
      "True\n"
     ]
    }
   ],
   "source": [
    "def myfunc(x):\n",
    "    x.extend(['b'])\n",
    "    return x\n",
    "\n",
    "list1=['a']\n",
    "list2=myfunc(list1)\n",
    "print(list1==list2)"
   ]
  },
  {
   "cell_type": "code",
   "execution_count": 11,
   "metadata": {},
   "outputs": [
    {
     "name": "stdout",
     "output_type": "stream",
     "text": [
      "[2, 9, 3, 7, 2, 0, 7, 0]\n",
      "(2, 9, 3, 7, 2, 0, 7, 0)\n",
      "{0, 2, 3, 7, 9}\n"
     ]
    }
   ],
   "source": [
    "ls = [2,9,3,7,2,0,7,0]\n",
    "print(ls)\n",
    "print(tuple(ls))\n",
    "print(set(ls))"
   ]
  },
  {
   "cell_type": "code",
   "execution_count": 12,
   "metadata": {},
   "outputs": [
    {
     "name": "stdout",
     "output_type": "stream",
     "text": [
      "(1, 2, 3, 4, 5)\n"
     ]
    }
   ],
   "source": [
    "\n",
    "Li = [1,2,3,4,4,5]\n",
    "print(tuple(set(Li)))\n"
   ]
  },
  {
   "cell_type": "code",
   "execution_count": 25,
   "metadata": {},
   "outputs": [
    {
     "data": {
      "text/plain": [
       "[5, 4, 2]"
      ]
     },
     "execution_count": 25,
     "metadata": {},
     "output_type": "execute_result"
    }
   ],
   "source": [
    "Li[::-2]"
   ]
  },
  {
   "cell_type": "code",
   "execution_count": 4,
   "metadata": {},
   "outputs": [
    {
     "name": "stdout",
     "output_type": "stream",
     "text": [
      "{'a': 1, 'b': {'c': 3, 'd': 4}, 's': {'c': 3, 'd': 4}}\n"
     ]
    }
   ],
   "source": [
    "my_dict={\"a\": 1, \"b\": {\"c\": 3, \"d\": 4},\"s\": {\"c\": 3, \"d\": 4}}\n",
    "print(my_dict)"
   ]
  },
  {
   "cell_type": "code",
   "execution_count": 6,
   "metadata": {},
   "outputs": [
    {
     "name": "stdout",
     "output_type": "stream",
     "text": [
      "a\n",
      "b\n",
      "c\n",
      "d\n",
      "s\n",
      "c\n",
      "d\n",
      "Input : {'a': 1, 'b': {'c': 3, 'd': 4}, 's': {'c': 3, 'd': 4}}\n",
      "Output : {'a': 1, 'b_c': 3, 'b_d': 4, 's_c': 3, 's_d': 4}\n",
      "\n",
      "\n"
     ]
    }
   ],
   "source": [
    "def flatten_dict(my_dict, keystring=''):\n",
    "    if type(my_dict) == dict:\n",
    "        keystring = keystring + '_' if keystring else keystring\n",
    "        for k in my_dict:\n",
    "            print(k)\n",
    "            yield from flatten_dict(my_dict[k], keystring + str(k))\n",
    "    else:\n",
    "        yield keystring, my_dict\n",
    "        \n",
    "print(\"Input : %s\\nOutput : %s\\n\\n\" %\n",
    "     (my_dict, { k:v for k,v in flatten_dict(my_dict) }))"
   ]
  },
  {
   "cell_type": "code",
   "execution_count": 8,
   "metadata": {},
   "outputs": [
    {
     "data": {
      "text/plain": [
       "[2, 3, 5, 10]"
      ]
     },
     "execution_count": 8,
     "metadata": {},
     "output_type": "execute_result"
    }
   ],
   "source": [
    "def sort_list(arry_list) -> int:\n",
    "    n = len(arry_list)\n",
    "    for i in range(n):\n",
    "         for j in range( i+1, n ):\n",
    "            if \tarry_list[i] > arry_list[j] :\n",
    "                arry_list[i], arry_list[j] = arry_list[j],arry_list[i]\t\t\t\n",
    "    return arry_list\n",
    "\t\t\t \n",
    "arry_list = [5,10,2,3]\n",
    "\n",
    "sort_list(arry_list)"
   ]
  },
  {
   "cell_type": "code",
   "execution_count": 12,
   "metadata": {},
   "outputs": [
    {
     "name": "stdout",
     "output_type": "stream",
     "text": [
      "Longest palindrome substring is: level\n",
      "Length is: 5\n"
     ]
    }
   ],
   "source": [
    "\n",
    "\n",
    "\n",
    "def longestPalSubstr(string):\n",
    "\tn = len(string) # calculating size of string\n",
    "\tif (n < 2):\n",
    "\t\treturn n # if string is empty then size will be 0.\n",
    "\t\t\t\t# if n==1 then, answer will be 1(single\n",
    "\t\t\t\t# character will always palindrome)\n",
    "\tstart=0\n",
    "\tmaxLength = 1\n",
    "\tfor i in range(n):\n",
    "\t\tlow = i - 1\n",
    "\t\thigh = i + 1\n",
    "\t\twhile (high < n and string[high] == string[i] ):\t\t\t\t\t\t\t\n",
    "\t\t\thigh=high+1\n",
    "\t\n",
    "\t\twhile (low >= 0 and string[low] == string[i] ):\t\t\t\t\n",
    "\t\t\tlow=low-1\n",
    "\t\twhile (low >= 0 and high < n and string[low] == string[high] ):\n",
    "\t\t    low=low-1\n",
    "\t\t    high=high+1\n",
    "\t\tlength = high - low - 1\n",
    "\t\tif (maxLength < length):\n",
    "\t\t\tmaxLength = length\n",
    "\t\t\tstart=low+1\n",
    "\t\t\t\n",
    "\tprint (\"Longest palindrome substring is:\",end=\" \")\n",
    "\tprint (string[start:start + maxLength])\n",
    "\treturn maxLength\n",
    "\t\n",
    "# Driver program to test above functions\n",
    "string = (\"level\")\n",
    "print(\"Length is: \" + str(longestPalSubstr(string)))\n"
   ]
  },
  {
   "cell_type": "code",
   "execution_count": 13,
   "metadata": {},
   "outputs": [
    {
     "name": "stdout",
     "output_type": "stream",
     "text": [
      "9\n"
     ]
    }
   ],
   "source": [
    "x = [ i for i in range(10)]\n",
    "print(x.pop())\n",
    "    "
   ]
  },
  {
   "cell_type": "code",
   "execution_count": 22,
   "metadata": {},
   "outputs": [
    {
     "name": "stdout",
     "output_type": "stream",
     "text": [
      "0\n"
     ]
    }
   ],
   "source": [
    "print(x.pop())"
   ]
  }
 ],
 "metadata": {
  "kernelspec": {
   "display_name": "Python 3.8.8 ('base')",
   "language": "python",
   "name": "python3"
  },
  "language_info": {
   "codemirror_mode": {
    "name": "ipython",
    "version": 3
   },
   "file_extension": ".py",
   "mimetype": "text/x-python",
   "name": "python",
   "nbconvert_exporter": "python",
   "pygments_lexer": "ipython3",
   "version": "3.8.8"
  },
  "orig_nbformat": 4,
  "vscode": {
   "interpreter": {
    "hash": "fbe58ca63fe33f9eeae9e71d10368d2b4a57f2b1b395836210cc60d362c66949"
   }
  }
 },
 "nbformat": 4,
 "nbformat_minor": 2
}
