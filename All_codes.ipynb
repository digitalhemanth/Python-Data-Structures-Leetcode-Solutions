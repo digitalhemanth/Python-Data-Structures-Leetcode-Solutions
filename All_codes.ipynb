{
 "cells": [
  {
   "cell_type": "code",
   "execution_count": 1,
   "metadata": {},
   "outputs": [
    {
     "name": "stdout",
     "output_type": "stream",
     "text": [
      "{'a': 1, 'b': 2, 'c': 3}\n"
     ]
    }
   ],
   "source": [
    "x =['a','b','c']\n",
    "y =[1,2,3]\n",
    "res = dict(zip(x,y))\n",
    "print(res)"
   ]
  },
  {
   "cell_type": "code",
   "execution_count": 2,
   "metadata": {},
   "outputs": [
    {
     "name": "stdout",
     "output_type": "stream",
     "text": [
      "{'a': 3, 'b': 3, 'c': 3}\n"
     ]
    }
   ],
   "source": [
    "dic = {}\n",
    "for key in x:\n",
    "    for value in y:\n",
    "        dic[key] = value\n",
    "print(dic) "
   ]
  },
  {
   "cell_type": "code",
   "execution_count": 5,
   "metadata": {},
   "outputs": [
    {
     "name": "stdout",
     "output_type": "stream",
     "text": [
      "{'a': 1, 'b': 2, 'c': 3}\n"
     ]
    }
   ],
   "source": [
    "val = {x[i]: y[i] for i in range(len(x))}\n",
    "print(val)"
   ]
  },
  {
   "cell_type": "code",
   "execution_count": 6,
   "metadata": {},
   "outputs": [
    {
     "name": "stdout",
     "output_type": "stream",
     "text": [
      "a\n"
     ]
    }
   ],
   "source": [
    "def myfunc2(x):\n",
    "    x+='b'\n",
    "\n",
    "myvar='a'\n",
    "myfunc2(myvar)\n",
    "print(myvar)"
   ]
  },
  {
   "cell_type": "code",
   "execution_count": 7,
   "metadata": {},
   "outputs": [
    {
     "name": "stdout",
     "output_type": "stream",
     "text": [
      "['a', 'b', ['c', 'd'], 'e', 'f']\n"
     ]
    }
   ],
   "source": [
    "list1=['a']\n",
    "list1.append('b')\n",
    "list1.append(['c','d'])\n",
    "list1.extend(['e','f'])\n",
    "print(list1)"
   ]
  },
  {
   "cell_type": "code",
   "execution_count": 8,
   "metadata": {},
   "outputs": [
    {
     "name": "stdout",
     "output_type": "stream",
     "text": [
      "True\n"
     ]
    }
   ],
   "source": [
    "def myfunc(x):\n",
    "    x.extend(['b'])\n",
    "    return x\n",
    "\n",
    "list1=['a']\n",
    "list2=myfunc(list1)\n",
    "print(list1==list2)"
   ]
  },
  {
   "cell_type": "code",
   "execution_count": 11,
   "metadata": {},
   "outputs": [
    {
     "name": "stdout",
     "output_type": "stream",
     "text": [
      "[2, 9, 3, 7, 2, 0, 7, 0]\n",
      "(2, 9, 3, 7, 2, 0, 7, 0)\n",
      "{0, 2, 3, 7, 9}\n"
     ]
    }
   ],
   "source": [
    "ls = [2,9,3,7,2,0,7,0]\n",
    "print(ls)\n",
    "print(tuple(ls))\n",
    "print(set(ls))"
   ]
  },
  {
   "cell_type": "code",
   "execution_count": 12,
   "metadata": {},
   "outputs": [
    {
     "name": "stdout",
     "output_type": "stream",
     "text": [
      "(1, 2, 3, 4, 5)\n"
     ]
    }
   ],
   "source": [
    "\n",
    "Li = [1,2,3,4,4,5]\n",
    "print(tuple(set(Li)))\n"
   ]
  },
  {
   "cell_type": "code",
   "execution_count": 25,
   "metadata": {},
   "outputs": [
    {
     "data": {
      "text/plain": [
       "[5, 4, 2]"
      ]
     },
     "execution_count": 25,
     "metadata": {},
     "output_type": "execute_result"
    }
   ],
   "source": [
    "Li[::-2]"
   ]
  },
  {
   "cell_type": "code",
   "execution_count": 4,
   "metadata": {},
   "outputs": [
    {
     "name": "stdout",
     "output_type": "stream",
     "text": [
      "{'a': 1, 'b': {'c': 3, 'd': 4}, 's': {'c': 3, 'd': 4}}\n"
     ]
    }
   ],
   "source": [
    "my_dict={\"a\": 1, \"b\": {\"c\": 3, \"d\": 4},\"s\": {\"c\": 3, \"d\": 4}}\n",
    "print(my_dict)"
   ]
  },
  {
   "cell_type": "code",
   "execution_count": 6,
   "metadata": {},
   "outputs": [
    {
     "name": "stdout",
     "output_type": "stream",
     "text": [
      "a\n",
      "b\n",
      "c\n",
      "d\n",
      "s\n",
      "c\n",
      "d\n",
      "Input : {'a': 1, 'b': {'c': 3, 'd': 4}, 's': {'c': 3, 'd': 4}}\n",
      "Output : {'a': 1, 'b_c': 3, 'b_d': 4, 's_c': 3, 's_d': 4}\n",
      "\n",
      "\n"
     ]
    }
   ],
   "source": [
    "def flatten_dict(my_dict, keystring=''):\n",
    "    if type(my_dict) == dict:\n",
    "        keystring = keystring + '_' if keystring else keystring\n",
    "        for k in my_dict:\n",
    "            print(k)\n",
    "            yield from flatten_dict(my_dict[k], keystring + str(k))\n",
    "    else:\n",
    "        yield keystring, my_dict\n",
    "        \n",
    "print(\"Input : %s\\nOutput : %s\\n\\n\" %\n",
    "     (my_dict, { k:v for k,v in flatten_dict(my_dict) }))\n",
    "\n"
   ]
  }
 ],
 "metadata": {
  "kernelspec": {
   "display_name": "Python 3.8.8 ('base')",
   "language": "python",
   "name": "python3"
  },
  "language_info": {
   "codemirror_mode": {
    "name": "ipython",
    "version": 3
   },
   "file_extension": ".py",
   "mimetype": "text/x-python",
   "name": "python",
   "nbconvert_exporter": "python",
   "pygments_lexer": "ipython3",
   "version": "3.8.8"
  },
  "orig_nbformat": 4,
  "vscode": {
   "interpreter": {
    "hash": "fbe58ca63fe33f9eeae9e71d10368d2b4a57f2b1b395836210cc60d362c66949"
   }
  }
 },
 "nbformat": 4,
 "nbformat_minor": 2
}
