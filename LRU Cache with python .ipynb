{
 "cells": [
  {
   "cell_type": "code",
   "execution_count": null,
   "id": "11c2c1db",
   "metadata": {},
   "outputs": [],
   "source": [
    "class LRUCache:\n",
    "    \n",
    "    def __init__(self ,capacity:int):\n",
    "        self.dict = {}\n",
    "        self.capacity = capacity\n",
    "        \n",
    "    def get(self, key):\n",
    "        if key not in self.dict:\n",
    "            return -1\n",
    "        val = self.dict.pop(key)\n",
    "        self.dict[key] = val \n",
    "        return val \n",
    "    def put(self , key value)-> None:\n",
    "        if key in self.dict:\n",
    "            self.dict.pop(key)\n",
    "        else:\n",
    "            if len(self.dict)==sel.capacity:\n",
    "                dell self.dict[next(iter(self.dict))]\n",
    "            self.dict[key] = value\n",
    "    "
   ]
  }
 ],
 "metadata": {
  "kernelspec": {
   "display_name": "Python 3",
   "language": "python",
   "name": "python3"
  },
  "language_info": {
   "codemirror_mode": {
    "name": "ipython",
    "version": 3
   },
   "file_extension": ".py",
   "mimetype": "text/x-python",
   "name": "python",
   "nbconvert_exporter": "python",
   "pygments_lexer": "ipython3",
   "version": "3.8.8"
  }
 },
 "nbformat": 4,
 "nbformat_minor": 5
}
