{
 "cells": [
  {
   "cell_type": "code",
   "execution_count": 9,
   "id": "e0751fd2",
   "metadata": {},
   "outputs": [],
   "source": [
    "class LRUCache:\n",
    "    \n",
    "    def __init__(self ,capacity:int):\n",
    "        self.dict = {}\n",
    "        self.capacity = capacity\n",
    "        \n",
    "    def get(self, key):\n",
    "        if key not in self.dict:\n",
    "            return -1\n",
    "        val = self.dict.pop(key)\n",
    "        self.dict[key] = val \n",
    "        return val \n",
    "    def put(self , key, value)-> None:\n",
    "        if key in self.dict:\n",
    "            self.dict.pop(key)\n",
    "        else:\n",
    "            if len(self.dict)==self.capacity:\n",
    "                del self.dict[next(iter(self.dict))]\n",
    "            self.dict[key] = value\n",
    "    "
   ]
  },
  {
   "cell_type": "code",
   "execution_count": 10,
   "id": "6873ffac",
   "metadata": {},
   "outputs": [],
   "source": [
    "obj = LRUCache(3)"
   ]
  },
  {
   "cell_type": "code",
   "execution_count": 11,
   "id": "17204e9c",
   "metadata": {},
   "outputs": [],
   "source": [
    "obj.put('A','Hemanth')"
   ]
  },
  {
   "cell_type": "code",
   "execution_count": 12,
   "id": "6887fb8b",
   "metadata": {},
   "outputs": [
    {
     "data": {
      "text/plain": [
       "'Hemanth'"
      ]
     },
     "execution_count": 12,
     "metadata": {},
     "output_type": "execute_result"
    }
   ],
   "source": [
    "obj.get('A')"
   ]
  },
  {
   "cell_type": "code",
   "execution_count": 13,
   "id": "488aae1a",
   "metadata": {},
   "outputs": [],
   "source": [
    "obj.put('B','Hem')"
   ]
  },
  {
   "cell_type": "code",
   "execution_count": 14,
   "id": "3b7b6cc9",
   "metadata": {},
   "outputs": [],
   "source": [
    "obj.put('C','LoH')"
   ]
  },
  {
   "cell_type": "code",
   "execution_count": 15,
   "id": "18e0a5dd",
   "metadata": {},
   "outputs": [
    {
     "data": {
      "text/plain": [
       "'Hemanth'"
      ]
     },
     "execution_count": 15,
     "metadata": {},
     "output_type": "execute_result"
    }
   ],
   "source": [
    "obj.get('A')"
   ]
  },
  {
   "cell_type": "code",
   "execution_count": 16,
   "id": "2baa27bb",
   "metadata": {},
   "outputs": [],
   "source": [
    "obj.put('D','Om')"
   ]
  },
  {
   "cell_type": "code",
   "execution_count": 17,
   "id": "526a8fe9",
   "metadata": {},
   "outputs": [
    {
     "data": {
      "text/plain": [
       "-1"
      ]
     },
     "execution_count": 17,
     "metadata": {},
     "output_type": "execute_result"
    }
   ],
   "source": [
    "obj.get('B')"
   ]
  },
  {
   "cell_type": "code",
   "execution_count": null,
   "id": "c166fb7a",
   "metadata": {},
   "outputs": [],
   "source": []
  }
 ],
 "metadata": {
  "kernelspec": {
   "display_name": "Python 3",
   "language": "python",
   "name": "python3"
  },
  "language_info": {
   "codemirror_mode": {
    "name": "ipython",
    "version": 3
   },
   "file_extension": ".py",
   "mimetype": "text/x-python",
   "name": "python",
   "nbconvert_exporter": "python",
   "pygments_lexer": "ipython3",
   "version": "3.8.8"
  }
 },
 "nbformat": 4,
 "nbformat_minor": 5
}
