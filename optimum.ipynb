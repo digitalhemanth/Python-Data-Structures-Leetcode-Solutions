{
 "cells": [
  {
   "cell_type": "code",
   "execution_count": null,
   "metadata": {},
   "outputs": [],
   "source": [
    "Write a data structure that takes all this as input\n",
    "flight ID, PASS_ID, passenger name,No of luggages, source,  destination\n",
    "\n",
    " \n",
    "Each luggage is 50 pounds\n",
    "Each pasenger weighs 100 pounds\n",
    " \n",
    "How many flights are starting from Banglore ?    - mrthod to search \n",
    "How many passengers are going with the flight ID X? method 2 \n",
    "Based on the passengers and Luggages what is the fuel efficiency of the flight?  - \n",
    "If the total weight of passengers and luggaes is less than 5 tons fuel efficiency is good\n",
    "Above 5 tons or less than 3 tons then fuel effiency is bad"
   ]
  },
  {
   "cell_type": "code",
   "execution_count": 3,
   "metadata": {},
   "outputs": [
    {
     "ename": "TypeError",
     "evalue": "__init__() missing 6 required positional arguments: 'flight_id', 'pss_id', 'passenger_name', 'No_of_luggages', 'source', and 'destination'",
     "output_type": "error",
     "traceback": [
      "\u001b[1;31m---------------------------------------------------------------------------\u001b[0m",
      "\u001b[1;31mTypeError\u001b[0m                                 Traceback (most recent call last)",
      "\u001b[1;32m<ipython-input-3-fc411d1126cc>\u001b[0m in \u001b[0;36m<module>\u001b[1;34m\u001b[0m\n\u001b[0;32m     49\u001b[0m     \u001b[1;31m#     retun status\u001b[0m\u001b[1;33m\u001b[0m\u001b[1;33m\u001b[0m\u001b[1;33m\u001b[0m\u001b[0m\n\u001b[0;32m     50\u001b[0m \u001b[1;33m\u001b[0m\u001b[0m\n\u001b[1;32m---> 51\u001b[1;33m \u001b[0mfligts\u001b[0m \u001b[1;33m=\u001b[0m \u001b[0mfligts\u001b[0m\u001b[1;33m(\u001b[0m\u001b[1;33m)\u001b[0m\u001b[1;33m\u001b[0m\u001b[1;33m\u001b[0m\u001b[0m\n\u001b[0m\u001b[0;32m     52\u001b[0m \u001b[0mfligts\u001b[0m\u001b[1;33m.\u001b[0m\u001b[0mpassengers\u001b[0m\u001b[1;33m(\u001b[0m\u001b[1;36m2\u001b[0m\u001b[1;33m,\u001b[0m\u001b[1;36m1\u001b[0m\u001b[1;33m,\u001b[0m\u001b[1;34m'Hemanth'\u001b[0m\u001b[1;33m,\u001b[0m\u001b[1;36m2\u001b[0m\u001b[1;33m,\u001b[0m\u001b[1;34m'Banglore'\u001b[0m\u001b[1;33m,\u001b[0m\u001b[1;34m'Hydrabad'\u001b[0m\u001b[1;33m)\u001b[0m\u001b[1;33m\u001b[0m\u001b[1;33m\u001b[0m\u001b[0m\n\u001b[0;32m     53\u001b[0m \u001b[0mfligts\u001b[0m\u001b[1;33m.\u001b[0m\u001b[0mflight_search\u001b[0m\u001b[1;33m(\u001b[0m\u001b[1;34m'Banglore'\u001b[0m\u001b[1;33m)\u001b[0m\u001b[1;33m\u001b[0m\u001b[1;33m\u001b[0m\u001b[0m\n",
      "\u001b[1;31mTypeError\u001b[0m: __init__() missing 6 required positional arguments: 'flight_id', 'pss_id', 'passenger_name', 'No_of_luggages', 'source', and 'destination'"
     ]
    }
   ],
   "source": [
    "class fligts: \n",
    "         \n",
    "    global  passenger_del \n",
    "    passenger_del = {}\n",
    "     \n",
    "    def __init__(self,flight_id, pss_id,passenger_name,No_of_luggages,source,destination):\n",
    "        try :   \n",
    "             passenger_del['flight_id'] = self.flight_id \n",
    "             passenger_del['pss_id'] = self.pss_id \n",
    "             passenger_del['passenger_name'] = self.passenger_name \n",
    "             passenger_del['No_of_luggages'] = self.No_of_luggages \n",
    "             passenger_del['source'] = self.source \n",
    "             passenger_del['destination'] = self.destination \n",
    "             passenger_del['Ticket'] = str(self.flight_id + self.pss_id)\n",
    "             \n",
    "        except:\n",
    "            if passenger_del.get['Ticket'] == str(self.flight_id + self.pss_id):\n",
    "                print(\"the \" + passenger_name + \"is already booked for the trip .. !\")\n",
    "        return passenger_del.items()\n",
    "    \n",
    "    def flight_search(self,source): \n",
    "        total_flight  = 0\n",
    "        for source in  passenger_del:\n",
    "            if source == self.source:\n",
    "                total_flight = total_flight +1 \n",
    "            else:\n",
    "                pass\n",
    "        \n",
    "        # total_flight = { for x in passenger_del['source']:  sum(x)  passenger_del.get['source'] == self.source }\n",
    "        return total_flight\n",
    "        \n",
    "    def pss_search(self,flight_id): \n",
    "        total_pass = { for x in passenger_del['flight_id']:  sum(x)  passenger_del.get['flight_id'] == self.flight_id }\n",
    "        return total_pass\n",
    "        \n",
    "    def flight_cond(self,flight_id): \n",
    "        global status\n",
    "        status = ''\n",
    "        total_pass = { for x in passenger_del['pss_id']:  sum(pss_id)  passenger_del.get['flight_id'] == self.flight_id }\n",
    "        total_lug = { for x in passenger_del['No_of_luggages']:  sum(No_of_luggages)  passenger_del.get['flight_id'] == self.flight_id }\n",
    "        pass_w = total_pass * 100 \n",
    "        lug_w = total_lug * 50 \n",
    "        total = int(pass_w + lug_w)\n",
    "        tons = total // 2,000\n",
    "        if tons > 3  and  tons < 5:\n",
    "            status = 'Good'\n",
    "        else:\n",
    "            status = 'Bad'\n",
    "        retun status       \n",
    "        \n",
    "fligts = fligts()\n",
    "fligts.passengers(2,1,'Hemanth',2,'Banglore','Hydrabad')\n",
    "fligts.flight_search('Banglore')\n",
    "fligts.pss_search(1)\n",
    "\n",
    "\n",
    "fligts.flight_cond(1)\n",
    "        \n",
    "      \n",
    "        "
   ]
  },
  {
   "cell_type": "code",
   "execution_count": 2,
   "metadata": {},
   "outputs": [
    {
     "name": "stdout",
     "output_type": "stream",
     "text": [
      "<__main__.fligts object at 0x00000225D09F9040>\n"
     ]
    }
   ],
   "source": [
    "class fligts: \n",
    "    def __init__(self,passenger_del):\n",
    "          self.passenger_del = passenger_del \n",
    "          \n",
    "fligts = fligts({\"Name\":\"Hemanth\"})\n",
    "print(fligts)\n",
    "     "
   ]
  }
 ],
 "metadata": {
  "kernelspec": {
   "display_name": "Python 3.8.8 ('base')",
   "language": "python",
   "name": "python3"
  },
  "language_info": {
   "codemirror_mode": {
    "name": "ipython",
    "version": 3
   },
   "file_extension": ".py",
   "mimetype": "text/x-python",
   "name": "python",
   "nbconvert_exporter": "python",
   "pygments_lexer": "ipython3",
   "version": "3.8.8"
  },
  "orig_nbformat": 4,
  "vscode": {
   "interpreter": {
    "hash": "fbe58ca63fe33f9eeae9e71d10368d2b4a57f2b1b395836210cc60d362c66949"
   }
  }
 },
 "nbformat": 4,
 "nbformat_minor": 2
}
