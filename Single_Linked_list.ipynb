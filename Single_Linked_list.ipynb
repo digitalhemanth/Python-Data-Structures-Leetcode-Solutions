{
 "cells": [
  {
   "cell_type": "code",
   "execution_count": null,
   "id": "766637f5",
   "metadata": {},
   "outputs": [],
   "source": [
    "class Node:\n",
    "    def __init__(self,data):\n",
    "        self.data = data\n",
    "        self.ref = None\n"
   ]
  },
  {
   "cell_type": "code",
   "execution_count": 23,
   "id": "a25176e2",
   "metadata": {},
   "outputs": [
    {
     "data": {
      "text/plain": [
       "<__main__.Node at 0x1d01257e700>"
      ]
     },
     "execution_count": 23,
     "metadata": {},
     "output_type": "execute_result"
    }
   ],
   "source": [
    "Node(10)"
   ]
  },
  {
   "cell_type": "code",
   "execution_count": null,
   "id": "b3261aab",
   "metadata": {},
   "outputs": [],
   "source": [
    "class Linked_list:\n",
    "    def __init__(self):\n",
    "        self.head = None\n",
    "    def Show(self):\n",
    "        if self.head is None:\n",
    "            print(\"Sorry , The Node is Empty !\")\n",
    "        else:\n",
    "            n = self.head\n",
    "            while n is not None:\n",
    "                print(n.data)\n",
    "                n = n.ref\n"
   ]
  },
  {
   "cell_type": "code",
   "execution_count": 24,
   "id": "cd85c688",
   "metadata": {},
   "outputs": [
    {
     "name": "stdout",
     "output_type": "stream",
     "text": [
      "Sorry , The Node is Empty !\n"
     ]
    }
   ],
   "source": [
    "LL = Linked_list()\n",
    "LL.Show()"
   ]
  },
  {
   "cell_type": "code",
   "execution_count": 31,
   "id": "b2d7b6ef",
   "metadata": {},
   "outputs": [],
   "source": [
    "class Node:\n",
    "    def __init__(self,data):\n",
    "        self.data = data\n",
    "        self.ref = None\n",
    "\n",
    "class Linked_list:\n",
    "    def __init__(self):\n",
    "        self.head = None\n",
    "        \n",
    "    def Show(self):\n",
    "        #print(\"I am in Loop\")\n",
    "        if self.head is None:\n",
    "            print(\"Sorry , The Node is Empty !\")\n",
    "        else:\n",
    "            n = self.head\n",
    "            while n is not None:\n",
    "                print(n.data)\n",
    "                n = n.ref\n",
    "                \n",
    "    def add_begin(self,data):\n",
    "        new_node = Node(data)\n",
    "        print(\"Data added\",new_node)\n",
    "        new_node.ref = self.head\n",
    "        self.head = new_node"
   ]
  },
  {
   "cell_type": "code",
   "execution_count": 32,
   "id": "6e0ca863",
   "metadata": {},
   "outputs": [
    {
     "name": "stdout",
     "output_type": "stream",
     "text": [
      "Data added <__main__.Node object at 0x000001D0125C9310>\n",
      "Data added <__main__.Node object at 0x000001D01257EFD0>\n",
      "90\n",
      "10\n"
     ]
    }
   ],
   "source": [
    "LL1= Linked_list()\n",
    "LL1.add_begin(10)\n",
    "LL1.add_begin(90)\n",
    "LL1.Show()"
   ]
  },
  {
   "cell_type": "code",
   "execution_count": 33,
   "id": "785eb065",
   "metadata": {},
   "outputs": [
    {
     "name": "stdout",
     "output_type": "stream",
     "text": [
      "90\n",
      "10\n"
     ]
    }
   ],
   "source": [
    "LL1.Show()"
   ]
  },
  {
   "cell_type": "code",
   "execution_count": 34,
   "id": "86331dbe",
   "metadata": {},
   "outputs": [
    {
     "name": "stdout",
     "output_type": "stream",
     "text": [
      "Data added <__main__.Node object at 0x000001D0125C9430>\n",
      "70\n",
      "90\n",
      "10\n"
     ]
    }
   ],
   "source": [
    "LL1.add_begin(70)\n",
    "LL1.Show()"
   ]
  },
  {
   "cell_type": "code",
   "execution_count": 6,
   "id": "c2f7a768",
   "metadata": {},
   "outputs": [],
   "source": [
    "class Node:\n",
    "    def __init__(self,data):\n",
    "        self.data = data\n",
    "        self.ref = None\n",
    "\n",
    "class Linked_list:\n",
    "    def __init__(self):\n",
    "        self.head = None\n",
    "        \n",
    "    def Show(self):\n",
    "        #print(\"I am in Loop\")\n",
    "        if self.head is None:\n",
    "            print(\"Sorry , The Node is Empty !\")\n",
    "        else:\n",
    "            n = self.head\n",
    "            while n is not None:\n",
    "                print(n.data, \"--->\",end=\" \")\n",
    "                n = n.ref\n",
    "                \n",
    "    def add_begin(self,data):\n",
    "        new_node = Node(data)\n",
    "        print(\"Data added\",new_node)\n",
    "        new_node.ref = self.head\n",
    "        self.head = new_node\n",
    "        \n",
    "    def add_end(self,data):\n",
    "        new_node = Node(data)\n",
    "        print(\"new_node\")\n",
    "        if self.head is None:\n",
    "            self.head = new_node\n",
    "        else:\n",
    "            print(\" I am in else part\")\n",
    "            n = self.head\n",
    "            while n.ref is not None:\n",
    "                n = n.ref\n",
    "                print(n)\n",
    "            n.ref = new_node\n",
    "                "
   ]
  },
  {
   "cell_type": "code",
   "execution_count": 5,
   "id": "fae01a78",
   "metadata": {},
   "outputs": [
    {
     "name": "stdout",
     "output_type": "stream",
     "text": [
      "new_node\n",
      "9 ---> "
     ]
    }
   ],
   "source": [
    "LL= Linked_list()\n",
    "#LL.add_begin(10)\n",
    "#LL.add_begin(90)\n",
    "LL.add_end(9)\n",
    "LL.Show()"
   ]
  },
  {
   "cell_type": "code",
   "execution_count": 7,
   "id": "fb90bfe9",
   "metadata": {},
   "outputs": [
    {
     "name": "stdout",
     "output_type": "stream",
     "text": [
      "Data added <__main__.Node object at 0x0000020D099008E0>\n",
      "Data added <__main__.Node object at 0x0000020D099001C0>\n",
      "new_node\n",
      " I am in else part\n",
      "<__main__.Node object at 0x0000020D099008E0>\n",
      "90 ---> 10 ---> 9 ---> "
     ]
    }
   ],
   "source": [
    "LL= Linked_list()\n",
    "LL.add_begin(10)\n",
    "LL.add_begin(90)\n",
    "LL.add_end(9)\n",
    "LL.Show()"
   ]
  },
  {
   "cell_type": "code",
   "execution_count": null,
   "id": "53e4f14d",
   "metadata": {},
   "outputs": [],
   "source": [
    "LL.Show()"
   ]
  },
  {
   "cell_type": "code",
   "execution_count": 14,
   "id": "418063ea",
   "metadata": {},
   "outputs": [],
   "source": [
    "class Node:\n",
    "    def __init__(self,data):\n",
    "        self.data = data\n",
    "        self.ref = None\n",
    "\n",
    "class Linked_list:\n",
    "    def __init__(self):\n",
    "        self.head = None\n",
    "        \n",
    "    def Show(self):\n",
    "        #print(\"I am in Loop\")\n",
    "        if self.head is None:\n",
    "            print(\"Sorry , The Node is Empty !\")\n",
    "        else:\n",
    "            n = self.head\n",
    "            while n is not None:\n",
    "                print(n.data, \"--->\",end=\" \")\n",
    "                n = n.ref\n",
    "                \n",
    "    def add_begin(self,data):\n",
    "        new_node = Node(data)\n",
    "        print(\"Data added\",new_node)\n",
    "        new_node.ref = self.head\n",
    "        self.head = new_node\n",
    "        \n",
    "    def add_end(self,data):\n",
    "        new_node = Node(data)\n",
    "        print(\"new_node\")\n",
    "        if self.head is None:\n",
    "            self.head = new_node\n",
    "        else:\n",
    "            print(\" I am in else part\")\n",
    "            n = self.head\n",
    "            while n.ref is not None:\n",
    "                n = n.ref\n",
    "                print(n)\n",
    "            n.ref = new_node\n",
    "    def add_after(self,data,x):\n",
    "        n=self.head\n",
    "        while n is not None:\n",
    "            if x==n.data:\n",
    "                break\n",
    "            n = n.ref\n",
    "        if n is None:\n",
    "            print(\"The Node is not avelable in the group please try again.\")\n",
    "        else:\n",
    "            new_node = Node(data)\n",
    "            new_node.ref = n.ref\n",
    "            n.ref = new_node\n",
    "                "
   ]
  },
  {
   "cell_type": "code",
   "execution_count": 15,
   "id": "9012781e",
   "metadata": {},
   "outputs": [
    {
     "name": "stdout",
     "output_type": "stream",
     "text": [
      "Data added <__main__.Node object at 0x000001EA9DA52C70>\n",
      "Data added <__main__.Node object at 0x000001EA9DA524F0>\n",
      "new_node\n",
      " I am in else part\n",
      "<__main__.Node object at 0x000001EA9DA52C70>\n",
      "90 ---> 10 ---> 9 ---> "
     ]
    }
   ],
   "source": [
    "LL= Linked_list()\n",
    "LL.add_begin(10)\n",
    "LL.add_begin(90)\n",
    "LL.add_end(9)\n",
    "LL.Show()"
   ]
  },
  {
   "cell_type": "code",
   "execution_count": 16,
   "id": "cd47bf2e",
   "metadata": {},
   "outputs": [
    {
     "name": "stdout",
     "output_type": "stream",
     "text": [
      "90 ---> 10 ---> 400 ---> 9 ---> "
     ]
    }
   ],
   "source": [
    "#LL.add_begin(10)\n",
    "#LL.add_begin(90)\n",
    "LL.add_after(400,10)\n",
    "LL.Show()"
   ]
  },
  {
   "cell_type": "code",
   "execution_count": 17,
   "id": "699004fb",
   "metadata": {},
   "outputs": [
    {
     "name": "stdout",
     "output_type": "stream",
     "text": [
      "The Node is not avelable in the group please try again.\n",
      "90 ---> 10 ---> 400 ---> 9 ---> "
     ]
    }
   ],
   "source": [
    "LL.add_after(900,1000)\n",
    "LL.Show()"
   ]
  },
  {
   "cell_type": "code",
   "execution_count": 2,
   "id": "3097ec01",
   "metadata": {},
   "outputs": [],
   "source": [
    "class Node:\n",
    "    def __init__(self,data):\n",
    "        self.data = data\n",
    "        self.ref = None\n",
    "\n",
    "class Linked_list:\n",
    "    def __init__(self):\n",
    "        self.head = None\n",
    "        \n",
    "    def Show(self):\n",
    "        #print(\"I am in Loop\")\n",
    "        if self.head is None:\n",
    "            print(\"Sorry , The Node is Empty !\")\n",
    "        else:\n",
    "            n = self.head\n",
    "            while n is not None:\n",
    "                print(n.data, \"--->\",end=\" \")\n",
    "                n = n.ref\n",
    "                \n",
    "    def add_begin(self,data):\n",
    "        new_node = Node(data)\n",
    "        print(\"Data added\",new_node)\n",
    "        new_node.ref = self.head\n",
    "        self.head = new_node\n",
    "        \n",
    "    def add_end(self,data):\n",
    "        new_node = Node(data)\n",
    "        print(\"new_node\")\n",
    "        if self.head is None:\n",
    "            self.head = new_node\n",
    "        else:\n",
    "            print(\" I am in else part\")\n",
    "            n = self.head\n",
    "            while n.ref is not None:\n",
    "                n = n.ref\n",
    "                print(n)\n",
    "            n.ref = new_node\n",
    "    def add_after(self,data,x):\n",
    "        n=self.head\n",
    "        while n is not None:\n",
    "            if x==n.data:\n",
    "                break\n",
    "            n = n.ref\n",
    "        if n is None:\n",
    "            print(\"The Node is not avelable in the group please try again.\")\n",
    "        else:\n",
    "            new_node = Node(data)\n",
    "            new_node.ref = n.ref\n",
    "            n.ref = new_node\n",
    "            \n",
    "    def add_before(self,data,x):\n",
    "        if self.head is None:\n",
    "            print(\"Linked list is empty . \")\n",
    "            return\n",
    "        if self.head.data==x:\n",
    "            new_node = Node(data)\n",
    "            new_node.ref = self.head\n",
    "            self.head = new_node\n",
    "            return\n",
    "        n=self.head\n",
    "        while n is not None:\n",
    "            if n.ref.data==x:\n",
    "                break\n",
    "            n = n.ref\n",
    "        if n is None:\n",
    "            print(\"The Node is not avelable in the group please try again.\")\n",
    "        else:\n",
    "            new_node = Node(data)\n",
    "            new_node.ref = n.ref\n",
    "            n.ref = new_node"
   ]
  },
  {
   "cell_type": "code",
   "execution_count": 3,
   "id": "08b32134",
   "metadata": {},
   "outputs": [
    {
     "name": "stdout",
     "output_type": "stream",
     "text": [
      "Data added <__main__.Node object at 0x00000291E10EEE50>\n",
      "Data added <__main__.Node object at 0x00000291E10EEE80>\n",
      "new_node\n",
      " I am in else part\n",
      "<__main__.Node object at 0x00000291E10EEE50>\n",
      "90 ---> 10 ---> 9 ---> "
     ]
    }
   ],
   "source": [
    "LL= Linked_list()\n",
    "LL.add_begin(10)\n",
    "LL.add_begin(90)\n",
    "LL.add_end(9)\n",
    "LL.Show()"
   ]
  },
  {
   "cell_type": "code",
   "execution_count": 5,
   "id": "3d5e2ea4",
   "metadata": {},
   "outputs": [
    {
     "name": "stdout",
     "output_type": "stream",
     "text": [
      "90 ---> 10 ---> 900 ---> 9 ---> "
     ]
    }
   ],
   "source": [
    "LL.add_after(900,10)\n",
    "LL.Show()"
   ]
  },
  {
   "cell_type": "code",
   "execution_count": 6,
   "id": "2a2e1ea3",
   "metadata": {},
   "outputs": [
    {
     "name": "stdout",
     "output_type": "stream",
     "text": [
      "90 ---> 90 ---> 10 ---> 900 ---> 9 ---> "
     ]
    }
   ],
   "source": [
    "LL.add_before(90,10)\n",
    "LL.Show()"
   ]
  },
  {
   "cell_type": "code",
   "execution_count": 7,
   "id": "50f533c1",
   "metadata": {},
   "outputs": [],
   "source": [
    "LL.add_after(900,90)\n"
   ]
  },
  {
   "cell_type": "code",
   "execution_count": 8,
   "id": "950e3c33",
   "metadata": {},
   "outputs": [
    {
     "name": "stdout",
     "output_type": "stream",
     "text": [
      "90 ---> 900 ---> 90 ---> 10 ---> 900 ---> 9 ---> "
     ]
    }
   ],
   "source": [
    "LL.Show()"
   ]
  },
  {
   "cell_type": "code",
   "execution_count": 9,
   "id": "90f3c1be",
   "metadata": {},
   "outputs": [
    {
     "name": "stdout",
     "output_type": "stream",
     "text": [
      "Linked list is empty . \n",
      "Sorry , The Node is Empty !\n"
     ]
    }
   ],
   "source": [
    "LL= Linked_list()\n",
    "LL.add_before(90,10)\n",
    "LL.Show()"
   ]
  },
  {
   "cell_type": "code",
   "execution_count": 10,
   "id": "80c05a48",
   "metadata": {},
   "outputs": [],
   "source": [
    "class Node:\n",
    "    def __init__(self,data):\n",
    "        self.data = data\n",
    "        self.ref = None\n",
    "\n",
    "class Linked_list:\n",
    "    def __init__(self):\n",
    "        self.head = None\n",
    "        \n",
    "    def Show(self):\n",
    "        #print(\"I am in Loop\")\n",
    "        if self.head is None:\n",
    "            print(\"Sorry , The Node is Empty !\")\n",
    "        else:\n",
    "            n = self.head\n",
    "            while n is not None:\n",
    "                print(n.data, \"--->\",end=\" \")\n",
    "                n = n.ref\n",
    "                \n",
    "    def add_begin(self,data):\n",
    "        new_node = Node(data)\n",
    "        print(\"Data added\",new_node)\n",
    "        new_node.ref = self.head\n",
    "        self.head = new_node\n",
    "        \n",
    "    def add_end(self,data):\n",
    "        new_node = Node(data)\n",
    "        print(\"new_node\")\n",
    "        if self.head is None:\n",
    "            self.head = new_node\n",
    "        else:\n",
    "            print(\" I am in else part\")\n",
    "            n = self.head\n",
    "            while n.ref is not None:\n",
    "                n = n.ref\n",
    "                print(n)\n",
    "            n.ref = new_node\n",
    "    def add_after(self,data,x):\n",
    "        n=self.head\n",
    "        while n is not None:\n",
    "            if x==n.data:\n",
    "                break\n",
    "            n = n.ref\n",
    "        if n is None:\n",
    "            print(\"The Node is not avelable in the group please try again.\")\n",
    "        else:\n",
    "            new_node = Node(data)\n",
    "            new_node.ref = n.ref\n",
    "            n.ref = new_node\n",
    "            \n",
    "    def add_before(self,data,x):\n",
    "        if self.head is None:\n",
    "            print(\"Linked list is empty . \")\n",
    "            return\n",
    "        if self.head.data==x:\n",
    "            new_node = Node(data)\n",
    "            new_node.ref = self.head\n",
    "            self.head = new_node\n",
    "            return\n",
    "        n=self.head\n",
    "        while n is not None:\n",
    "            if n.ref.data==x:\n",
    "                break\n",
    "            n = n.ref\n",
    "        if n is None:\n",
    "            print(\"The Node is not avelable in the group please try again.\")\n",
    "        else:\n",
    "            new_node = Node(data)\n",
    "            new_node.ref = n.ref\n",
    "            n.ref = new_node\n",
    "    def delete_start(self):\n",
    "        if self.head is None:\n",
    "            print(\"Delete is not posible since LL is Empty \")\n",
    "        else:\n",
    "            self.head = self.head.ref"
   ]
  },
  {
   "cell_type": "code",
   "execution_count": 11,
   "id": "2b2c3079",
   "metadata": {},
   "outputs": [
    {
     "name": "stdout",
     "output_type": "stream",
     "text": [
      "Data added <__main__.Node object at 0x00000291E10D7490>\n",
      "Data added <__main__.Node object at 0x00000291E0FF9D00>\n",
      "new_node\n",
      " I am in else part\n",
      "<__main__.Node object at 0x00000291E10D7490>\n",
      "90 ---> 10 ---> 9 ---> "
     ]
    }
   ],
   "source": [
    "LL= Linked_list()\n",
    "LL.add_begin(10)\n",
    "LL.add_begin(90)\n",
    "LL.add_end(9)\n",
    "LL.Show()"
   ]
  },
  {
   "cell_type": "code",
   "execution_count": 12,
   "id": "d33bda23",
   "metadata": {},
   "outputs": [
    {
     "name": "stdout",
     "output_type": "stream",
     "text": [
      "10 ---> 9 ---> "
     ]
    }
   ],
   "source": [
    "LL.delete_start()\n",
    "LL.Show()"
   ]
  },
  {
   "cell_type": "code",
   "execution_count": 13,
   "id": "1c7404eb",
   "metadata": {},
   "outputs": [
    {
     "name": "stdout",
     "output_type": "stream",
     "text": [
      "9 ---> "
     ]
    }
   ],
   "source": [
    "LL.delete_start()\n",
    "LL.Show()"
   ]
  },
  {
   "cell_type": "code",
   "execution_count": 14,
   "id": "21c538c2",
   "metadata": {},
   "outputs": [
    {
     "name": "stdout",
     "output_type": "stream",
     "text": [
      "Sorry , The Node is Empty !\n"
     ]
    }
   ],
   "source": [
    "LL.delete_start()\n",
    "LL.Show()"
   ]
  },
  {
   "cell_type": "code",
   "execution_count": 15,
   "id": "fabd1212",
   "metadata": {},
   "outputs": [
    {
     "name": "stdout",
     "output_type": "stream",
     "text": [
      "Delete is not posible since LL is Empty \n",
      "Sorry , The Node is Empty !\n"
     ]
    }
   ],
   "source": [
    "LL.delete_start()\n",
    "LL.Show()"
   ]
  },
  {
   "cell_type": "code",
   "execution_count": null,
   "id": "17fcb26d",
   "metadata": {},
   "outputs": [],
   "source": []
  }
 ],
 "metadata": {
  "kernelspec": {
   "display_name": "Python 3",
   "language": "python",
   "name": "python3"
  },
  "language_info": {
   "codemirror_mode": {
    "name": "ipython",
    "version": 3
   },
   "file_extension": ".py",
   "mimetype": "text/x-python",
   "name": "python",
   "nbconvert_exporter": "python",
   "pygments_lexer": "ipython3",
   "version": "3.8.8"
  }
 },
 "nbformat": 4,
 "nbformat_minor": 5
}
