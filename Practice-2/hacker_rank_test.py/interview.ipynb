{
 "cells": [
  {
   "cell_type": "code",
   "execution_count": 8,
   "id": "039f468b",
   "metadata": {},
   "outputs": [],
   "source": [
    "col = [5,9,3,7,1,6,11]"
   ]
  },
  {
   "cell_type": "code",
   "execution_count": 9,
   "id": "53af0da3",
   "metadata": {},
   "outputs": [],
   "source": [
    "low = 0\n",
    "high = len(col)+1"
   ]
  },
  {
   "cell_type": "code",
   "execution_count": 10,
   "id": "716b0ccd",
   "metadata": {},
   "outputs": [],
   "source": [
    "mid = (low+high)//2"
   ]
  },
  {
   "cell_type": "code",
   "execution_count": 11,
   "id": "89c11f31",
   "metadata": {},
   "outputs": [
    {
     "data": {
      "text/plain": [
       "4"
      ]
     },
     "execution_count": 11,
     "metadata": {},
     "output_type": "execute_result"
    }
   ],
   "source": [
    "mid"
   ]
  },
  {
   "cell_type": "code",
   "execution_count": 12,
   "id": "60ea64f7",
   "metadata": {},
   "outputs": [
    {
     "data": {
      "text/plain": [
       "[1, 6, 11]"
      ]
     },
     "execution_count": 12,
     "metadata": {},
     "output_type": "execute_result"
    }
   ],
   "source": [
    "col[mid:]"
   ]
  },
  {
   "cell_type": "code",
   "execution_count": 17,
   "id": "bf207749",
   "metadata": {},
   "outputs": [
    {
     "data": {
      "text/plain": [
       "[5, 9, 3, 7]"
      ]
     },
     "execution_count": 17,
     "metadata": {},
     "output_type": "execute_result"
    }
   ],
   "source": [
    "col[:mid]"
   ]
  },
  {
   "cell_type": "code",
   "execution_count": 16,
   "id": "a0ebf2d8",
   "metadata": {},
   "outputs": [],
   "source": [
    "def smart_divide(func):\n",
    "    def inner(a, b):\n",
    "        print(\"I am going to divide\", a, \"and\", b)\n",
    "        if b == 0:\n",
    "            print(\"Whoops! cannot divide\")\n",
    "            return\n",
    "\n",
    "        return func(a, b)\n",
    "    return inner\n",
    "\n",
    "\n",
    "@smart_divide\n",
    "def divide(a, b):\n",
    "    print(a/b)"
   ]
  },
  {
   "cell_type": "code",
   "execution_count": null,
   "id": "4a661179",
   "metadata": {},
   "outputs": [],
   "source": []
  },
  {
   "cell_type": "code",
   "execution_count": null,
   "id": "17a7f70b",
   "metadata": {},
   "outputs": [],
   "source": []
  }
 ],
 "metadata": {
  "kernelspec": {
   "display_name": "Python 3",
   "language": "python",
   "name": "python3"
  },
  "language_info": {
   "codemirror_mode": {
    "name": "ipython",
    "version": 3
   },
   "file_extension": ".py",
   "mimetype": "text/x-python",
   "name": "python",
   "nbconvert_exporter": "python",
   "pygments_lexer": "ipython3",
   "version": "3.8.8"
  }
 },
 "nbformat": 4,
 "nbformat_minor": 5
}
