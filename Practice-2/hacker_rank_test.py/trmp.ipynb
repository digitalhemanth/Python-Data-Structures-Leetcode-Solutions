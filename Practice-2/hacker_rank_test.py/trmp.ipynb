{
 "cells": [
  {
   "cell_type": "code",
   "execution_count": 1,
   "id": "5b7b784e",
   "metadata": {},
   "outputs": [],
   "source": [
    "List = [2,8,3,7,0,5]"
   ]
  },
  {
   "cell_type": "code",
   "execution_count": 5,
   "id": "df16ccc8",
   "metadata": {},
   "outputs": [
    {
     "data": {
      "text/plain": [
       "8"
      ]
     },
     "execution_count": 5,
     "metadata": {},
     "output_type": "execute_result"
    }
   ],
   "source": [
    "max(List[:])"
   ]
  },
  {
   "cell_type": "code",
   "execution_count": 9,
   "id": "4492c811",
   "metadata": {},
   "outputs": [
    {
     "data": {
      "text/plain": [
       "4"
      ]
     },
     "execution_count": 9,
     "metadata": {},
     "output_type": "execute_result"
    }
   ],
   "source": [
    "List.index(min(List[:]))"
   ]
  },
  {
   "cell_type": "code",
   "execution_count": null,
   "id": "c96e90f7",
   "metadata": {},
   "outputs": [],
   "source": []
  }
 ],
 "metadata": {
  "kernelspec": {
   "display_name": "Python 3",
   "language": "python",
   "name": "python3"
  },
  "language_info": {
   "codemirror_mode": {
    "name": "ipython",
    "version": 3
   },
   "file_extension": ".py",
   "mimetype": "text/x-python",
   "name": "python",
   "nbconvert_exporter": "python",
   "pygments_lexer": "ipython3",
   "version": "3.8.8"
  }
 },
 "nbformat": 4,
 "nbformat_minor": 5
}
