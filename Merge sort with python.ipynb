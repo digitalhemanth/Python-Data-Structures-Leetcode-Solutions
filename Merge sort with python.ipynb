{
 "cells": [
  {
   "cell_type": "markdown",
   "id": "b62be224",
   "metadata": {},
   "source": [
    "# Merge Sort"
   ]
  },
  {
   "cell_type": "code",
   "execution_count": 16,
   "id": "0e5443d9",
   "metadata": {},
   "outputs": [
    {
     "name": "stdout",
     "output_type": "stream",
     "text": [
      "How Many elements you wants to pass : 5\n",
      "99\n",
      "6\n",
      "0\n",
      "3\n",
      "9\n",
      "\n",
      " before sort \n",
      "[99, 6, 0, 3, 9]\n",
      "\n",
      " After sort\n",
      "[0, 3, 6, 9, 99]\n"
     ]
    }
   ],
   "source": [
    "def mergesort(list_n):\n",
    "    if len(list_n)>1:\n",
    "        #devide and concore\n",
    "        mid = len(list_n)//2\n",
    "        llist=list_n[:mid]\n",
    "        rlist=list_n[mid:]\n",
    "        mergesort(llist)\n",
    "        mergesort(rlist)\n",
    "        i=0 \n",
    "        j=0 \n",
    "        k=0 \n",
    "        #merging\n",
    "        while i<len(llist) and j<len(rlist):\n",
    "            if llist[i]<rlist[j]:\n",
    "                list_n[k]=llist[i]\n",
    "                i = i+1\n",
    "                k = k+1\n",
    "            else:\n",
    "                list_n[k]=rlist[j]\n",
    "                j +=1\n",
    "                k +=1\n",
    "        while i<len(llist):\n",
    "            list_n[k]=llist[i]\n",
    "            i = i+1\n",
    "            k = k+1\n",
    "        while j<len(rlist):\n",
    "            list_n[k]=rlist[j]\n",
    "            j = j+1\n",
    "            k = k+1\n",
    "   \n",
    "n = int(input(\"How Many elements you wants to pass : \"))\n",
    "list_n = [int(input()) for x in range(n)]\n",
    "print(\"\\n before sort \")\n",
    "print(list_n)\n",
    "mergesort(list_n)\n",
    "print(\"\\n After sort\")\n",
    "print(list_n)\n"
   ]
  },
  {
   "cell_type": "code",
   "execution_count": null,
   "id": "0453c44f",
   "metadata": {},
   "outputs": [],
   "source": []
  },
  {
   "cell_type": "code",
   "execution_count": null,
   "id": "57f07f67",
   "metadata": {},
   "outputs": [],
   "source": []
  },
  {
   "cell_type": "code",
   "execution_count": null,
   "id": "bd2ef5d0",
   "metadata": {},
   "outputs": [],
   "source": []
  }
 ],
 "metadata": {
  "kernelspec": {
   "display_name": "Python 3",
   "language": "python",
   "name": "python3"
  },
  "language_info": {
   "codemirror_mode": {
    "name": "ipython",
    "version": 3
   },
   "file_extension": ".py",
   "mimetype": "text/x-python",
   "name": "python",
   "nbconvert_exporter": "python",
   "pygments_lexer": "ipython3",
   "version": "3.8.8"
  }
 },
 "nbformat": 4,
 "nbformat_minor": 5
}
