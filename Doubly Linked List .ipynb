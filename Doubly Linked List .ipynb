{
 "cells": [
  {
   "cell_type": "code",
   "execution_count": 24,
   "id": "ddb04115",
   "metadata": {},
   "outputs": [],
   "source": [
    "class Node:\n",
    "    def __init__(self,data):\n",
    "        self.data = data\n",
    "        self.nref = None\n",
    "        self.pref = None\n",
    "\n",
    "class DLinkedlist:\n",
    "    def __init__(self):\n",
    "        self.head = None\n",
    "        \n",
    "    def Show(self):\n",
    "        \n",
    "        if self.head is None:\n",
    "            print(\"Sorry , The Linked List is Empty !\")\n",
    "        else:\n",
    "            n = self.head\n",
    "            while n is not None:\n",
    "                print(n.data, \"--->\",end=\" \")\n",
    "                n = n.nref\n",
    "                \n",
    "    def RevShow(self):\n",
    "        print(\"\\n\")\n",
    "        if self.head is None:\n",
    "            print(\"Sorry , The Linked List is Empty !\")\n",
    "        else:\n",
    "            n = self.head\n",
    "            while n.nref is not None:\n",
    "                n = n.nref\n",
    "            while n is not None:\n",
    "                print(n.data, \"<---\",end=\" \")\n",
    "                n = n.pref\n",
    "    \n",
    "    def Addifempty(self,data):\n",
    "        if self.head is None:\n",
    "            new_node = Node(data)\n",
    "            self.head = new_node\n",
    "        else:\n",
    "            print(\"Helo , The LL is not empty .. ! try to add next this node \")\n",
    "    \n",
    "    def Addbegin(self,data):\n",
    "        new_node=Node(data)\n",
    "        if self.head is None:\n",
    "            self.head = new_node\n",
    "        else:\n",
    "            new_node.nref=self.head\n",
    "            self.head.pref = new_node\n",
    "            self.head = new_node\n",
    "            \n",
    "    def Addend(self,data):\n",
    "        new_node=Node(data)\n",
    "        if self.head is None:\n",
    "            self.head = new_node\n",
    "        else:\n",
    "            n = self.head\n",
    "            while n.nref is not None:\n",
    "                n = n.nref\n",
    "            n.nref= new_node\n",
    "            new_node.pref = n\n",
    "                            \n",
    "                \n",
    "                "
   ]
  },
  {
   "cell_type": "code",
   "execution_count": 25,
   "id": "346d06ea",
   "metadata": {},
   "outputs": [
    {
     "name": "stdout",
     "output_type": "stream",
     "text": [
      "200 ---> 100 ---> 300 ---> \n",
      "\n",
      "300 <--- 100 <--- 200 <--- "
     ]
    }
   ],
   "source": [
    "LL = DLinkedlist()\n",
    "LL.Addifempty(100)\n",
    "LL.Addbegin(200)\n",
    "LL.Addend(300)\n",
    "LL.Show()\n",
    "LL.RevShow()"
   ]
  },
  {
   "cell_type": "code",
   "execution_count": null,
   "id": "a0ff51a1",
   "metadata": {},
   "outputs": [],
   "source": []
  },
  {
   "cell_type": "code",
   "execution_count": null,
   "id": "791376c8",
   "metadata": {},
   "outputs": [],
   "source": []
  }
 ],
 "metadata": {
  "kernelspec": {
   "display_name": "Python 3",
   "language": "python",
   "name": "python3"
  },
  "language_info": {
   "codemirror_mode": {
    "name": "ipython",
    "version": 3
   },
   "file_extension": ".py",
   "mimetype": "text/x-python",
   "name": "python",
   "nbconvert_exporter": "python",
   "pygments_lexer": "ipython3",
   "version": "3.8.8"
  }
 },
 "nbformat": 4,
 "nbformat_minor": 5
}
