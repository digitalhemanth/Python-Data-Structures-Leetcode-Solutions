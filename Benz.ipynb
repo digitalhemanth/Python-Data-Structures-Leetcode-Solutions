{
 "cells": [
  {
   "cell_type": "code",
   "execution_count": 1,
   "metadata": {},
   "outputs": [
    {
     "name": "stdout",
     "output_type": "stream",
     "text": [
      "[[4 1]\n",
      " [5 6]\n",
      " [6 7]]\n"
     ]
    }
   ],
   "source": [
    "#list of [[4,5,6],[1,6,7]]\n",
    "\n",
    "arry = [[4,5,6],[1,6,7]]\n",
    "\n",
    "import numpy as np\n",
    "\n",
    "print(np.transpose(arry))\n",
    "\n"
   ]
  },
  {
   "cell_type": "code",
   "execution_count": 10,
   "metadata": {},
   "outputs": [
    {
     "name": "stdout",
     "output_type": "stream",
     "text": [
      "[[4, 1], [5, 6], [6, 7]]\n"
     ]
    }
   ],
   "source": [
    "m = [[4,5,6],[1,6,7]]\n",
    "\n",
    "rez = [[m[j][i] for j in range(len(m))] for i in range(len(m[0]))]\n",
    "print(rez)\n",
    "    \n",
    "    \n",
    "\n"
   ]
  },
  {
   "cell_type": "code",
   "execution_count": 6,
   "metadata": {},
   "outputs": [
    {
     "name": "stdout",
     "output_type": "stream",
     "text": [
      "                       A     B     C\n",
      "0                   A b      2   3.0\n",
      "1                    NaN     2   3.0\n",
      "2                 random    43   4.0\n",
      "3   any txt is possible    2 1  22.0\n",
      "4                           23  99.0\n",
      "5                  help     23   NaN\n"
     ]
    }
   ],
   "source": [
    "import pandas as pd \n",
    "import numpy as np\n",
    "\n",
    "df=pd.DataFrame([[\"A b \",2,3],[np.nan,2,3],\\\n",
    "[\" random\",43,4],[\" any txt is possible \",\" 2 1\",22],\\\n",
    "[\"\",23,99],[\" help \",23,np.nan]],columns=['A','B','C'])\n",
    "\n",
    "print (df)"
   ]
  },
  {
   "cell_type": "code",
   "execution_count": 9,
   "metadata": {},
   "outputs": [
    {
     "name": "stdout",
     "output_type": "stream",
     "text": [
      "                     A    B     C\n",
      "0                  A b  NaN   3.0\n",
      "1                  NaN  NaN   3.0\n",
      "2               random  NaN   4.0\n",
      "3  any txt is possible  2 1  22.0\n",
      "4                       NaN  99.0\n",
      "5                 help  NaN   NaN\n"
     ]
    }
   ],
   "source": [
    "cols = df.select_dtypes(['object']).columns\n",
    "df[cols] = df[cols].apply(lambda x: x.str.strip())\n",
    "print (df)"
   ]
  }
 ],
 "metadata": {
  "kernelspec": {
   "display_name": "Python 3.8.8 ('base')",
   "language": "python",
   "name": "python3"
  },
  "language_info": {
   "codemirror_mode": {
    "name": "ipython",
    "version": 3
   },
   "file_extension": ".py",
   "mimetype": "text/x-python",
   "name": "python",
   "nbconvert_exporter": "python",
   "pygments_lexer": "ipython3",
   "version": "3.8.8"
  },
  "orig_nbformat": 4,
  "vscode": {
   "interpreter": {
    "hash": "fbe58ca63fe33f9eeae9e71d10368d2b4a57f2b1b395836210cc60d362c66949"
   }
  }
 },
 "nbformat": 4,
 "nbformat_minor": 2
}
