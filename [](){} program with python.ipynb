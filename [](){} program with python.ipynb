{
 "cells": [
  {
   "cell_type": "code",
   "execution_count": 16,
   "id": "182a7797",
   "metadata": {},
   "outputs": [
    {
     "name": "stdout",
     "output_type": "stream",
     "text": [
      "1\n",
      "1\n",
      "1\n",
      "1\n"
     ]
    },
    {
     "data": {
      "text/plain": [
       "True"
      ]
     },
     "execution_count": 16,
     "metadata": {},
     "output_type": "execute_result"
    }
   ],
   "source": [
    "def solution(str):\n",
    "    stack = []\n",
    "    for i in str:\n",
    "        if i in [\"{\",\"[\",\"(\"]:\n",
    "            stack.append(i)\n",
    "        print(len(stack))\n",
    "        if len(stack) <= 0:\n",
    "            return False\n",
    "        elif i == \"}\" and stack.pop() != \"{\":\n",
    "            return False\n",
    "        elif i == \"]\" and stack.pop() != \"[\":\n",
    "            return False\n",
    "        elif i == \")\" and stack.pop() != \"(\":\n",
    "            return False\n",
    "    if len(stack) ==0:\n",
    "        return True\n",
    "    return False\n",
    "\n",
    "solution('{}()')"
   ]
  },
  {
   "cell_type": "code",
   "execution_count": null,
   "id": "4d628394",
   "metadata": {},
   "outputs": [],
   "source": []
  },
  {
   "cell_type": "code",
   "execution_count": null,
   "id": "e40f89ae",
   "metadata": {},
   "outputs": [],
   "source": []
  }
 ],
 "metadata": {
  "kernelspec": {
   "display_name": "Python 3",
   "language": "python",
   "name": "python3"
  },
  "language_info": {
   "codemirror_mode": {
    "name": "ipython",
    "version": 3
   },
   "file_extension": ".py",
   "mimetype": "text/x-python",
   "name": "python",
   "nbconvert_exporter": "python",
   "pygments_lexer": "ipython3",
   "version": "3.8.8"
  }
 },
 "nbformat": 4,
 "nbformat_minor": 5
}
