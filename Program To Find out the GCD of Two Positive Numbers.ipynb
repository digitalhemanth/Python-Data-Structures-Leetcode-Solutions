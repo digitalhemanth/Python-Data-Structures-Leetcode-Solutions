{
 "cells": [
  {
   "cell_type": "markdown",
   "id": "148cd197",
   "metadata": {},
   "source": [
    "# Program To Find out the GCD of Two Positive Numbers "
   ]
  },
  {
   "cell_type": "code",
   "execution_count": 3,
   "id": "d5e9e690",
   "metadata": {},
   "outputs": [
    {
     "name": "stdout",
     "output_type": "stream",
     "text": [
      "please enter the a value : 64\n",
      "please enter the b value : 48\n",
      "Result is  16\n"
     ]
    }
   ],
   "source": [
    "#using recorsive function \n",
    "\n",
    "def ComputeGCD(a,b):\n",
    "    if b==0:\n",
    "        return a\n",
    "    else:\n",
    "        return ComputeGCD(b,a%b)\n",
    "\n",
    "a = int(input(\"please enter the a value : \"))\n",
    "b = int(input(\"please enter the b value : \"))\n",
    "\n",
    "GCD = ComputeGCD(a,b)\n",
    "\n",
    "print(\"Result is \", GCD)\n",
    "\n",
    "\n"
   ]
  },
  {
   "cell_type": "code",
   "execution_count": 5,
   "id": "40af6de1",
   "metadata": {},
   "outputs": [
    {
     "data": {
      "text/plain": [
       "16"
      ]
     },
     "execution_count": 5,
     "metadata": {},
     "output_type": "execute_result"
    }
   ],
   "source": [
    "import math \n",
    "\n",
    "math.gcd(64,48)"
   ]
  },
  {
   "cell_type": "code",
   "execution_count": null,
   "id": "3922b3b3",
   "metadata": {},
   "outputs": [],
   "source": []
  }
 ],
 "metadata": {
  "kernelspec": {
   "display_name": "Python 3",
   "language": "python",
   "name": "python3"
  },
  "language_info": {
   "codemirror_mode": {
    "name": "ipython",
    "version": 3
   },
   "file_extension": ".py",
   "mimetype": "text/x-python",
   "name": "python",
   "nbconvert_exporter": "python",
   "pygments_lexer": "ipython3",
   "version": "3.8.8"
  }
 },
 "nbformat": 4,
 "nbformat_minor": 5
}
