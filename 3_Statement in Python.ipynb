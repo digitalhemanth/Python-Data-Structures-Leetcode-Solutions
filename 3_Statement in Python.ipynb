{
 "cells": [
  {
   "cell_type": "markdown",
   "id": "15e6a8c1",
   "metadata": {},
   "source": [
    "# if...else statement in Python"
   ]
  },
  {
   "cell_type": "markdown",
   "id": "9ceee96b",
   "metadata": {},
   "source": [
    "Decision making is required when we want to execute a code only if a certain condition is satisfied.The if…elif…else statement is used in Python for decision making."
   ]
  },
  {
   "cell_type": "code",
   "execution_count": 3,
   "id": "a8d5be85",
   "metadata": {},
   "outputs": [
    {
     "name": "stdout",
     "output_type": "stream",
     "text": [
      "Please Enter a number : 5\n",
      "Its a positive Number\n"
     ]
    }
   ],
   "source": [
    "num = int(input(\"Please Enter a number : \"))\n",
    "\n",
    "if num>=0:\n",
    "   print(\"Its a positive Number\")\n",
    "else:\n",
    "   print(\"Its Nagative Number \")\n"
   ]
  },
  {
   "cell_type": "code",
   "execution_count": 4,
   "id": "6bb4a753",
   "metadata": {},
   "outputs": [
    {
     "name": "stdout",
     "output_type": "stream",
     "text": [
      "Please Enter a number : -5\n",
      "Its Nagative Number \n"
     ]
    }
   ],
   "source": [
    "num = int(input(\"Please Enter a number : \"))\n",
    "\n",
    "if num>=0:\n",
    "   print(\"Its a positive Number\")\n",
    "else:\n",
    "   print(\"Its Nagative Number \")\n"
   ]
  },
  {
   "cell_type": "markdown",
   "id": "43e2c8bc",
   "metadata": {},
   "source": [
    "# Python if...elif...else Statement"
   ]
  },
  {
   "cell_type": "code",
   "execution_count": 13,
   "id": "d68570db",
   "metadata": {},
   "outputs": [
    {
     "name": "stdout",
     "output_type": "stream",
     "text": [
      "Please enter a letter : p\n",
      "please enter a letter from given groups , Thanks\n"
     ]
    }
   ],
   "source": [
    "s1 = 'ABCDE'\n",
    "s2 = 'FGHIJ'\n",
    "s3 = 'LMNOP'\n",
    "\n",
    "str = input(\"Please enter a letter : \")\n",
    "\n",
    "if str in s1:\n",
    "    print(\"Your letter from s1 group\")\n",
    "elif str in s2:\n",
    "    print(\"Your letter from s2 group\")\n",
    "elif str in s3:\n",
    "    print(\"Your letter from s3 group\")\n",
    "else:\n",
    "    print(\"please enter a letter from given groups , Thanks\")"
   ]
  },
  {
   "cell_type": "code",
   "execution_count": 15,
   "id": "24e01db3",
   "metadata": {},
   "outputs": [
    {
     "name": "stdout",
     "output_type": "stream",
     "text": [
      "Please enter a letter : p\n",
      "P\n",
      "Your letter from s3 group\n"
     ]
    }
   ],
   "source": [
    "s1 = 'ABCDE'\n",
    "s2 = 'FGHIJ'\n",
    "s3 = 'LMNOP'\n",
    "\n",
    "str = input(\"Please enter a letter : \")\n",
    "str = str.upper()\n",
    "\n",
    "print(str)\n",
    "\n",
    "if str in s1:\n",
    "    print(\"Your letter from s1 group\")\n",
    "elif str in s2:\n",
    "    print(\"Your letter from s2 group\")\n",
    "elif str in s3:\n",
    "    print(\"Your letter from s3 group\")\n",
    "else:\n",
    "    print(\"please enter a letter from given groups , Thanks\")"
   ]
  },
  {
   "cell_type": "code",
   "execution_count": null,
   "id": "3ebfed00",
   "metadata": {},
   "outputs": [],
   "source": [
    "# s1 = 'ABCDE'\n",
    "s2 = 'FGHIJ'\n",
    "s3 = 'LMNOP'\n",
    "\n",
    "str = input(\"Please enter a letter : \")\n",
    "str = str.upper()\n",
    "\n",
    "print(str)\n",
    "\n",
    "if str in s1:\n",
    "    print(\"Your letter from s1 group\")\n",
    "elif str in s2:\n",
    "    print(\"Your letter from s2 group\")\n",
    "elif str in s3:\n",
    "    print(\"Your letter from s3 group\")\n",
    "else:\n",
    "    print(\"please enter a letter from given groups , Thanks\")"
   ]
  },
  {
   "cell_type": "markdown",
   "id": "af3fad0c",
   "metadata": {},
   "source": [
    "# Nested if statements"
   ]
  },
  {
   "cell_type": "code",
   "execution_count": 17,
   "id": "a87ca9b7",
   "metadata": {},
   "outputs": [
    {
     "ename": "ValueError",
     "evalue": "invalid literal for int() with base 10: 'please enter a number : '",
     "output_type": "error",
     "traceback": [
      "\u001b[1;31m---------------------------------------------------------------------------\u001b[0m",
      "\u001b[1;31mValueError\u001b[0m                                Traceback (most recent call last)",
      "\u001b[1;32m<ipython-input-17-bd6f8d28565f>\u001b[0m in \u001b[0;36m<module>\u001b[1;34m\u001b[0m\n\u001b[1;32m----> 1\u001b[1;33m \u001b[0mnum\u001b[0m \u001b[1;33m=\u001b[0m \u001b[0mint\u001b[0m\u001b[1;33m(\u001b[0m\u001b[1;34m\"please enter a number : \"\u001b[0m\u001b[1;33m)\u001b[0m\u001b[1;33m\u001b[0m\u001b[1;33m\u001b[0m\u001b[0m\n\u001b[0m\u001b[0;32m      2\u001b[0m \u001b[1;33m\u001b[0m\u001b[0m\n\u001b[0;32m      3\u001b[0m \u001b[1;33m\u001b[0m\u001b[0m\n\u001b[0;32m      4\u001b[0m \u001b[1;32mif\u001b[0m \u001b[0mnum\u001b[0m \u001b[1;33m>=\u001b[0m\u001b[1;36m0\u001b[0m\u001b[1;33m:\u001b[0m\u001b[1;33m\u001b[0m\u001b[1;33m\u001b[0m\u001b[0m\n\u001b[0;32m      5\u001b[0m     \u001b[1;32mif\u001b[0m \u001b[0mnum\u001b[0m\u001b[1;33m==\u001b[0m\u001b[1;36m0\u001b[0m\u001b[1;33m:\u001b[0m\u001b[1;33m\u001b[0m\u001b[1;33m\u001b[0m\u001b[0m\n",
      "\u001b[1;31mValueError\u001b[0m: invalid literal for int() with base 10: 'please enter a number : '"
     ]
    }
   ],
   "source": [
    "num = int((\"please enter a number : \")\n",
    "\n",
    "\n",
    "if num >=0:\n",
    "    if num==0:\n",
    "        print(\"its 0 \")\n",
    "    else:\n",
    "        print(\"Positive Number\")\n",
    "else:\n",
    "    print(\"negative number\")\n",
    "    "
   ]
  },
  {
   "cell_type": "code",
   "execution_count": null,
   "id": "89fb9bee",
   "metadata": {},
   "outputs": [],
   "source": []
  }
 ],
 "metadata": {
  "kernelspec": {
   "display_name": "Python 3",
   "language": "python",
   "name": "python3"
  },
  "language_info": {
   "codemirror_mode": {
    "name": "ipython",
    "version": 3
   },
   "file_extension": ".py",
   "mimetype": "text/x-python",
   "name": "python",
   "nbconvert_exporter": "python",
   "pygments_lexer": "ipython3",
   "version": "3.8.8"
  }
 },
 "nbformat": 4,
 "nbformat_minor": 5
}
