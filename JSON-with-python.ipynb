{
 "cells": [
  {
   "cell_type": "code",
   "execution_count": 109,
   "id": "db3e6b76",
   "metadata": {},
   "outputs": [
    {
     "data": {
      "text/plain": [
       "'JSON with Python'"
      ]
     },
     "execution_count": 109,
     "metadata": {},
     "output_type": "execute_result"
    }
   ],
   "source": [
    "'JSON with Python'"
   ]
  },
  {
   "cell_type": "code",
   "execution_count": 63,
   "id": "a907e081",
   "metadata": {},
   "outputs": [
    {
     "name": "stdout",
     "output_type": "stream",
     "text": [
      "     userId                                              title  completed\n",
      "id                                                                       \n",
      "1         1                                 delectus aut autem      False\n",
      "2         1                 quis ut nam facilis et officia qui      False\n",
      "3         1                                fugiat veniam minus      False\n",
      "4         1                                   et porro tempora       True\n",
      "5         1  laboriosam mollitia et enim quasi adipisci qui...      False\n",
      "..      ...                                                ...        ...\n",
      "196      10                consequuntur aut ut fugit similique       True\n",
      "197      10                  dignissimos quo nobis earum saepe       True\n",
      "198      10                       quis eius est sint explicabo       True\n",
      "199      10                       numquam repellendus a magnam       True\n",
      "200      10                       ipsam aperiam voluptates qui      False\n",
      "\n",
      "[200 rows x 3 columns]\n"
     ]
    }
   ],
   "source": [
    "import json\n",
    "import requests\n",
    "import pandas as pd\n",
    "import numpy as np\n",
    "\n",
    "response = requests.get(\"https://jsonplaceholder.typicode.com/todos\")\n",
    "\n",
    "#print(response.text)\n",
    "todos = json.loads(response.text)\n",
    "#todos\n",
    "\n",
    "todos == response.json()\n",
    "#todos\n",
    "\n",
    "basic_data = pd.DataFrame.from_dict(todos)\n",
    "\n",
    "#print(basic_data)\n",
    "\n",
    "basic_data = basic_data.set_index('id')\n",
    "\n",
    "print(basic_data)"
   ]
  },
  {
   "cell_type": "code",
   "execution_count": 8,
   "id": "3ef1d06e",
   "metadata": {},
   "outputs": [
    {
     "data": {
      "text/plain": [
       "pandas.core.frame.DataFrame"
      ]
     },
     "execution_count": 8,
     "metadata": {},
     "output_type": "execute_result"
    }
   ],
   "source": [
    "type(basic_data)"
   ]
  },
  {
   "cell_type": "code",
   "execution_count": 10,
   "id": "a6aad1ed",
   "metadata": {},
   "outputs": [
    {
     "data": {
      "text/plain": [
       "[{'userId': 1, 'id': 1, 'title': 'delectus aut autem', 'completed': False},\n",
       " {'userId': 1,\n",
       "  'id': 2,\n",
       "  'title': 'quis ut nam facilis et officia qui',\n",
       "  'completed': False},\n",
       " {'userId': 1, 'id': 3, 'title': 'fugiat veniam minus', 'completed': False},\n",
       " {'userId': 1, 'id': 4, 'title': 'et porro tempora', 'completed': True},\n",
       " {'userId': 1,\n",
       "  'id': 5,\n",
       "  'title': 'laboriosam mollitia et enim quasi adipisci quia provident illum',\n",
       "  'completed': False}]"
      ]
     },
     "execution_count": 10,
     "metadata": {},
     "output_type": "execute_result"
    }
   ],
   "source": [
    "todos[:5]"
   ]
  },
  {
   "cell_type": "code",
   "execution_count": 13,
   "id": "466f38c4",
   "metadata": {},
   "outputs": [
    {
     "name": "stdout",
     "output_type": "stream",
     "text": [
      "File created Successfully !\n"
     ]
    }
   ],
   "source": [
    "with open(\"D:\\\\Code_Place\\\\todos_file.json\", \"w\") as write_file:\n",
    "    json.dump(todos, write_file)\n",
    "    \n",
    "print(\"File created Successfully !\")"
   ]
  },
  {
   "cell_type": "code",
   "execution_count": 14,
   "id": "01719c6e",
   "metadata": {},
   "outputs": [
    {
     "name": "stdout",
     "output_type": "stream",
     "text": [
      "[{'userId': 1, 'id': 1, 'title': 'delectus aut autem', 'completed': False}, {'userId': 1, 'id': 2, 'title': 'quis ut nam facilis et officia qui', 'completed': False}, {'userId': 1, 'id': 3, 'title': 'fugiat veniam minus', 'completed': False}, {'userId': 1, 'id': 4, 'title': 'et porro tempora', 'completed': True}, {'userId': 1, 'id': 5, 'title': 'laboriosam mollitia et enim quasi adipisci quia provident illum', 'completed': False}, {'userId': 1, 'id': 6, 'title': 'qui ullam ratione quibusdam voluptatem quia omnis', 'completed': False}, {'userId': 1, 'id': 7, 'title': 'illo expedita consequatur quia in', 'completed': False}, {'userId': 1, 'id': 8, 'title': 'quo adipisci enim quam ut ab', 'completed': True}, {'userId': 1, 'id': 9, 'title': 'molestiae perspiciatis ipsa', 'completed': False}, {'userId': 1, 'id': 10, 'title': 'illo est ratione doloremque quia maiores aut', 'completed': True}, {'userId': 1, 'id': 11, 'title': 'vero rerum temporibus dolor', 'completed': True}, {'userId': 1, 'id': 12, 'title': 'ipsa repellendus fugit nisi', 'completed': True}, {'userId': 1, 'id': 13, 'title': 'et doloremque nulla', 'completed': False}, {'userId': 1, 'id': 14, 'title': 'repellendus sunt dolores architecto voluptatum', 'completed': True}, {'userId': 1, 'id': 15, 'title': 'ab voluptatum amet voluptas', 'completed': True}, {'userId': 1, 'id': 16, 'title': 'accusamus eos facilis sint et aut voluptatem', 'completed': True}, {'userId': 1, 'id': 17, 'title': 'quo laboriosam deleniti aut qui', 'completed': True}, {'userId': 1, 'id': 18, 'title': 'dolorum est consequatur ea mollitia in culpa', 'completed': False}, {'userId': 1, 'id': 19, 'title': 'molestiae ipsa aut voluptatibus pariatur dolor nihil', 'completed': True}, {'userId': 1, 'id': 20, 'title': 'ullam nobis libero sapiente ad optio sint', 'completed': True}, {'userId': 2, 'id': 21, 'title': 'suscipit repellat esse quibusdam voluptatem incidunt', 'completed': False}, {'userId': 2, 'id': 22, 'title': 'distinctio vitae autem nihil ut molestias quo', 'completed': True}, {'userId': 2, 'id': 23, 'title': 'et itaque necessitatibus maxime molestiae qui quas velit', 'completed': False}, {'userId': 2, 'id': 24, 'title': 'adipisci non ad dicta qui amet quaerat doloribus ea', 'completed': False}, {'userId': 2, 'id': 25, 'title': 'voluptas quo tenetur perspiciatis explicabo natus', 'completed': True}, {'userId': 2, 'id': 26, 'title': 'aliquam aut quasi', 'completed': True}, {'userId': 2, 'id': 27, 'title': 'veritatis pariatur delectus', 'completed': True}, {'userId': 2, 'id': 28, 'title': 'nesciunt totam sit blanditiis sit', 'completed': False}, {'userId': 2, 'id': 29, 'title': 'laborum aut in quam', 'completed': False}, {'userId': 2, 'id': 30, 'title': 'nemo perspiciatis repellat ut dolor libero commodi blanditiis omnis', 'completed': True}, {'userId': 2, 'id': 31, 'title': 'repudiandae totam in est sint facere fuga', 'completed': False}, {'userId': 2, 'id': 32, 'title': 'earum doloribus ea doloremque quis', 'completed': False}, {'userId': 2, 'id': 33, 'title': 'sint sit aut vero', 'completed': False}, {'userId': 2, 'id': 34, 'title': 'porro aut necessitatibus eaque distinctio', 'completed': False}, {'userId': 2, 'id': 35, 'title': 'repellendus veritatis molestias dicta incidunt', 'completed': True}, {'userId': 2, 'id': 36, 'title': 'excepturi deleniti adipisci voluptatem et neque optio illum ad', 'completed': True}, {'userId': 2, 'id': 37, 'title': 'sunt cum tempora', 'completed': False}, {'userId': 2, 'id': 38, 'title': 'totam quia non', 'completed': False}, {'userId': 2, 'id': 39, 'title': 'doloremque quibusdam asperiores libero corrupti illum qui omnis', 'completed': False}, {'userId': 2, 'id': 40, 'title': 'totam atque quo nesciunt', 'completed': True}, {'userId': 3, 'id': 41, 'title': 'aliquid amet impedit consequatur aspernatur placeat eaque fugiat suscipit', 'completed': False}, {'userId': 3, 'id': 42, 'title': 'rerum perferendis error quia ut eveniet', 'completed': False}, {'userId': 3, 'id': 43, 'title': 'tempore ut sint quis recusandae', 'completed': True}, {'userId': 3, 'id': 44, 'title': 'cum debitis quis accusamus doloremque ipsa natus sapiente omnis', 'completed': True}, {'userId': 3, 'id': 45, 'title': 'velit soluta adipisci molestias reiciendis harum', 'completed': False}, {'userId': 3, 'id': 46, 'title': 'vel voluptatem repellat nihil placeat corporis', 'completed': False}, {'userId': 3, 'id': 47, 'title': 'nam qui rerum fugiat accusamus', 'completed': False}, {'userId': 3, 'id': 48, 'title': 'sit reprehenderit omnis quia', 'completed': False}, {'userId': 3, 'id': 49, 'title': 'ut necessitatibus aut maiores debitis officia blanditiis velit et', 'completed': False}, {'userId': 3, 'id': 50, 'title': 'cupiditate necessitatibus ullam aut quis dolor voluptate', 'completed': True}, {'userId': 3, 'id': 51, 'title': 'distinctio exercitationem ab doloribus', 'completed': False}, {'userId': 3, 'id': 52, 'title': 'nesciunt dolorum quis recusandae ad pariatur ratione', 'completed': False}, {'userId': 3, 'id': 53, 'title': 'qui labore est occaecati recusandae aliquid quam', 'completed': False}, {'userId': 3, 'id': 54, 'title': 'quis et est ut voluptate quam dolor', 'completed': True}, {'userId': 3, 'id': 55, 'title': 'voluptatum omnis minima qui occaecati provident nulla voluptatem ratione', 'completed': True}, {'userId': 3, 'id': 56, 'title': 'deleniti ea temporibus enim', 'completed': True}, {'userId': 3, 'id': 57, 'title': 'pariatur et magnam ea doloribus similique voluptatem rerum quia', 'completed': False}, {'userId': 3, 'id': 58, 'title': 'est dicta totam qui explicabo doloribus qui dignissimos', 'completed': False}, {'userId': 3, 'id': 59, 'title': 'perspiciatis velit id laborum placeat iusto et aliquam odio', 'completed': False}, {'userId': 3, 'id': 60, 'title': 'et sequi qui architecto ut adipisci', 'completed': True}, {'userId': 4, 'id': 61, 'title': 'odit optio omnis qui sunt', 'completed': True}, {'userId': 4, 'id': 62, 'title': 'et placeat et tempore aspernatur sint numquam', 'completed': False}, {'userId': 4, 'id': 63, 'title': 'doloremque aut dolores quidem fuga qui nulla', 'completed': True}, {'userId': 4, 'id': 64, 'title': 'voluptas consequatur qui ut quia magnam nemo esse', 'completed': False}, {'userId': 4, 'id': 65, 'title': 'fugiat pariatur ratione ut asperiores necessitatibus magni', 'completed': False}, {'userId': 4, 'id': 66, 'title': 'rerum eum molestias autem voluptatum sit optio', 'completed': False}, {'userId': 4, 'id': 67, 'title': 'quia voluptatibus voluptatem quos similique maiores repellat', 'completed': False}, {'userId': 4, 'id': 68, 'title': 'aut id perspiciatis voluptatem iusto', 'completed': False}, {'userId': 4, 'id': 69, 'title': 'doloribus sint dolorum ab adipisci itaque dignissimos aliquam suscipit', 'completed': False}, {'userId': 4, 'id': 70, 'title': 'ut sequi accusantium et mollitia delectus sunt', 'completed': False}, {'userId': 4, 'id': 71, 'title': 'aut velit saepe ullam', 'completed': False}, {'userId': 4, 'id': 72, 'title': 'praesentium facilis facere quis harum voluptatibus voluptatem eum', 'completed': False}, {'userId': 4, 'id': 73, 'title': 'sint amet quia totam corporis qui exercitationem commodi', 'completed': True}, {'userId': 4, 'id': 74, 'title': 'expedita tempore nobis eveniet laborum maiores', 'completed': False}, {'userId': 4, 'id': 75, 'title': 'occaecati adipisci est possimus totam', 'completed': False}, {'userId': 4, 'id': 76, 'title': 'sequi dolorem sed', 'completed': True}, {'userId': 4, 'id': 77, 'title': 'maiores aut nesciunt delectus exercitationem vel assumenda eligendi at', 'completed': False}, {'userId': 4, 'id': 78, 'title': 'reiciendis est magnam amet nemo iste recusandae impedit quaerat', 'completed': False}, {'userId': 4, 'id': 79, 'title': 'eum ipsa maxime ut', 'completed': True}, {'userId': 4, 'id': 80, 'title': 'tempore molestias dolores rerum sequi voluptates ipsum consequatur', 'completed': True}, {'userId': 5, 'id': 81, 'title': 'suscipit qui totam', 'completed': True}, {'userId': 5, 'id': 82, 'title': 'voluptates eum voluptas et dicta', 'completed': False}, {'userId': 5, 'id': 83, 'title': 'quidem at rerum quis ex aut sit quam', 'completed': True}, {'userId': 5, 'id': 84, 'title': 'sunt veritatis ut voluptate', 'completed': False}, {'userId': 5, 'id': 85, 'title': 'et quia ad iste a', 'completed': True}, {'userId': 5, 'id': 86, 'title': 'incidunt ut saepe autem', 'completed': True}, {'userId': 5, 'id': 87, 'title': 'laudantium quae eligendi consequatur quia et vero autem', 'completed': True}, {'userId': 5, 'id': 88, 'title': 'vitae aut excepturi laboriosam sint aliquam et et accusantium', 'completed': False}, {'userId': 5, 'id': 89, 'title': 'sequi ut omnis et', 'completed': True}, {'userId': 5, 'id': 90, 'title': 'molestiae nisi accusantium tenetur dolorem et', 'completed': True}, {'userId': 5, 'id': 91, 'title': 'nulla quis consequatur saepe qui id expedita', 'completed': True}, {'userId': 5, 'id': 92, 'title': 'in omnis laboriosam', 'completed': True}, {'userId': 5, 'id': 93, 'title': 'odio iure consequatur molestiae quibusdam necessitatibus quia sint', 'completed': True}, {'userId': 5, 'id': 94, 'title': 'facilis modi saepe mollitia', 'completed': False}, {'userId': 5, 'id': 95, 'title': 'vel nihil et molestiae iusto assumenda nemo quo ut', 'completed': True}, {'userId': 5, 'id': 96, 'title': 'nobis suscipit ducimus enim asperiores voluptas', 'completed': False}, {'userId': 5, 'id': 97, 'title': 'dolorum laboriosam eos qui iure aliquam', 'completed': False}, {'userId': 5, 'id': 98, 'title': 'debitis accusantium ut quo facilis nihil quis sapiente necessitatibus', 'completed': True}, {'userId': 5, 'id': 99, 'title': 'neque voluptates ratione', 'completed': False}, {'userId': 5, 'id': 100, 'title': 'excepturi a et neque qui expedita vel voluptate', 'completed': False}, {'userId': 6, 'id': 101, 'title': 'explicabo enim cumque porro aperiam occaecati minima', 'completed': False}, {'userId': 6, 'id': 102, 'title': 'sed ab consequatur', 'completed': False}, {'userId': 6, 'id': 103, 'title': 'non sunt delectus illo nulla tenetur enim omnis', 'completed': False}, {'userId': 6, 'id': 104, 'title': 'excepturi non laudantium quo', 'completed': False}, {'userId': 6, 'id': 105, 'title': 'totam quia dolorem et illum repellat voluptas optio', 'completed': True}, {'userId': 6, 'id': 106, 'title': 'ad illo quis voluptatem temporibus', 'completed': True}, {'userId': 6, 'id': 107, 'title': 'praesentium facilis omnis laudantium fugit ad iusto nihil nesciunt', 'completed': False}, {'userId': 6, 'id': 108, 'title': 'a eos eaque nihil et exercitationem incidunt delectus', 'completed': True}, {'userId': 6, 'id': 109, 'title': 'autem temporibus harum quisquam in culpa', 'completed': True}, {'userId': 6, 'id': 110, 'title': 'aut aut ea corporis', 'completed': True}, {'userId': 6, 'id': 111, 'title': 'magni accusantium labore et id quis provident', 'completed': False}, {'userId': 6, 'id': 112, 'title': 'consectetur impedit quisquam qui deserunt non rerum consequuntur eius', 'completed': False}, {'userId': 6, 'id': 113, 'title': 'quia atque aliquam sunt impedit voluptatum rerum assumenda nisi', 'completed': False}, {'userId': 6, 'id': 114, 'title': 'cupiditate quos possimus corporis quisquam exercitationem beatae', 'completed': False}, {'userId': 6, 'id': 115, 'title': 'sed et ea eum', 'completed': False}, {'userId': 6, 'id': 116, 'title': 'ipsa dolores vel facilis ut', 'completed': True}, {'userId': 6, 'id': 117, 'title': 'sequi quae est et qui qui eveniet asperiores', 'completed': False}, {'userId': 6, 'id': 118, 'title': 'quia modi consequatur vero fugiat', 'completed': False}, {'userId': 6, 'id': 119, 'title': 'corporis ducimus ea perspiciatis iste', 'completed': False}, {'userId': 6, 'id': 120, 'title': 'dolorem laboriosam vel voluptas et aliquam quasi', 'completed': False}, {'userId': 7, 'id': 121, 'title': 'inventore aut nihil minima laudantium hic qui omnis', 'completed': True}, {'userId': 7, 'id': 122, 'title': 'provident aut nobis culpa', 'completed': True}, {'userId': 7, 'id': 123, 'title': 'esse et quis iste est earum aut impedit', 'completed': False}, {'userId': 7, 'id': 124, 'title': 'qui consectetur id', 'completed': False}, {'userId': 7, 'id': 125, 'title': 'aut quasi autem iste tempore illum possimus', 'completed': False}, {'userId': 7, 'id': 126, 'title': 'ut asperiores perspiciatis veniam ipsum rerum saepe', 'completed': True}, {'userId': 7, 'id': 127, 'title': 'voluptatem libero consectetur rerum ut', 'completed': True}, {'userId': 7, 'id': 128, 'title': 'eius omnis est qui voluptatem autem', 'completed': False}, {'userId': 7, 'id': 129, 'title': 'rerum culpa quis harum', 'completed': False}, {'userId': 7, 'id': 130, 'title': 'nulla aliquid eveniet harum laborum libero alias ut unde', 'completed': True}, {'userId': 7, 'id': 131, 'title': 'qui ea incidunt quis', 'completed': False}, {'userId': 7, 'id': 132, 'title': 'qui molestiae voluptatibus velit iure harum quisquam', 'completed': True}, {'userId': 7, 'id': 133, 'title': 'et labore eos enim rerum consequatur sunt', 'completed': True}, {'userId': 7, 'id': 134, 'title': 'molestiae doloribus et laborum quod ea', 'completed': False}, {'userId': 7, 'id': 135, 'title': 'facere ipsa nam eum voluptates reiciendis vero qui', 'completed': False}, {'userId': 7, 'id': 136, 'title': 'asperiores illo tempora fuga sed ut quasi adipisci', 'completed': False}, {'userId': 7, 'id': 137, 'title': 'qui sit non', 'completed': False}, {'userId': 7, 'id': 138, 'title': 'placeat minima consequatur rem qui ut', 'completed': True}, {'userId': 7, 'id': 139, 'title': 'consequatur doloribus id possimus voluptas a voluptatem', 'completed': False}, {'userId': 7, 'id': 140, 'title': 'aut consectetur in blanditiis deserunt quia sed laboriosam', 'completed': True}, {'userId': 8, 'id': 141, 'title': 'explicabo consectetur debitis voluptates quas quae culpa rerum non', 'completed': True}, {'userId': 8, 'id': 142, 'title': 'maiores accusantium architecto necessitatibus reiciendis ea aut', 'completed': True}, {'userId': 8, 'id': 143, 'title': 'eum non recusandae cupiditate animi', 'completed': False}, {'userId': 8, 'id': 144, 'title': 'ut eum exercitationem sint', 'completed': False}, {'userId': 8, 'id': 145, 'title': 'beatae qui ullam incidunt voluptatem non nisi aliquam', 'completed': False}, {'userId': 8, 'id': 146, 'title': 'molestiae suscipit ratione nihil odio libero impedit vero totam', 'completed': True}, {'userId': 8, 'id': 147, 'title': 'eum itaque quod reprehenderit et facilis dolor autem ut', 'completed': True}, {'userId': 8, 'id': 148, 'title': 'esse quas et quo quasi exercitationem', 'completed': False}, {'userId': 8, 'id': 149, 'title': 'animi voluptas quod perferendis est', 'completed': False}, {'userId': 8, 'id': 150, 'title': 'eos amet tempore laudantium fugit a', 'completed': False}, {'userId': 8, 'id': 151, 'title': 'accusamus adipisci dicta qui quo ea explicabo sed vero', 'completed': True}, {'userId': 8, 'id': 152, 'title': 'odit eligendi recusandae doloremque cumque non', 'completed': False}, {'userId': 8, 'id': 153, 'title': 'ea aperiam consequatur qui repellat eos', 'completed': False}, {'userId': 8, 'id': 154, 'title': 'rerum non ex sapiente', 'completed': True}, {'userId': 8, 'id': 155, 'title': 'voluptatem nobis consequatur et assumenda magnam', 'completed': True}, {'userId': 8, 'id': 156, 'title': 'nam quia quia nulla repellat assumenda quibusdam sit nobis', 'completed': True}, {'userId': 8, 'id': 157, 'title': 'dolorem veniam quisquam deserunt repellendus', 'completed': True}, {'userId': 8, 'id': 158, 'title': 'debitis vitae delectus et harum accusamus aut deleniti a', 'completed': True}, {'userId': 8, 'id': 159, 'title': 'debitis adipisci quibusdam aliquam sed dolore ea praesentium nobis', 'completed': True}, {'userId': 8, 'id': 160, 'title': 'et praesentium aliquam est', 'completed': False}, {'userId': 9, 'id': 161, 'title': 'ex hic consequuntur earum omnis alias ut occaecati culpa', 'completed': True}, {'userId': 9, 'id': 162, 'title': 'omnis laboriosam molestias animi sunt dolore', 'completed': True}, {'userId': 9, 'id': 163, 'title': 'natus corrupti maxime laudantium et voluptatem laboriosam odit', 'completed': False}, {'userId': 9, 'id': 164, 'title': 'reprehenderit quos aut aut consequatur est sed', 'completed': False}, {'userId': 9, 'id': 165, 'title': 'fugiat perferendis sed aut quidem', 'completed': False}, {'userId': 9, 'id': 166, 'title': 'quos quo possimus suscipit minima ut', 'completed': False}, {'userId': 9, 'id': 167, 'title': 'et quis minus quo a asperiores molestiae', 'completed': False}, {'userId': 9, 'id': 168, 'title': 'recusandae quia qui sunt libero', 'completed': False}, {'userId': 9, 'id': 169, 'title': 'ea odio perferendis officiis', 'completed': True}, {'userId': 9, 'id': 170, 'title': 'quisquam aliquam quia doloribus aut', 'completed': False}, {'userId': 9, 'id': 171, 'title': 'fugiat aut voluptatibus corrupti deleniti velit iste odio', 'completed': True}, {'userId': 9, 'id': 172, 'title': 'et provident amet rerum consectetur et voluptatum', 'completed': False}, {'userId': 9, 'id': 173, 'title': 'harum ad aperiam quis', 'completed': False}, {'userId': 9, 'id': 174, 'title': 'similique aut quo', 'completed': False}, {'userId': 9, 'id': 175, 'title': 'laudantium eius officia perferendis provident perspiciatis asperiores', 'completed': True}, {'userId': 9, 'id': 176, 'title': 'magni soluta corrupti ut maiores rem quidem', 'completed': False}, {'userId': 9, 'id': 177, 'title': 'et placeat temporibus voluptas est tempora quos quibusdam', 'completed': False}, {'userId': 9, 'id': 178, 'title': 'nesciunt itaque commodi tempore', 'completed': True}, {'userId': 9, 'id': 179, 'title': 'omnis consequuntur cupiditate impedit itaque ipsam quo', 'completed': True}, {'userId': 9, 'id': 180, 'title': 'debitis nisi et dolorem repellat et', 'completed': True}, {'userId': 10, 'id': 181, 'title': 'ut cupiditate sequi aliquam fuga maiores', 'completed': False}, {'userId': 10, 'id': 182, 'title': 'inventore saepe cumque et aut illum enim', 'completed': True}, {'userId': 10, 'id': 183, 'title': 'omnis nulla eum aliquam distinctio', 'completed': True}, {'userId': 10, 'id': 184, 'title': 'molestias modi perferendis perspiciatis', 'completed': False}, {'userId': 10, 'id': 185, 'title': 'voluptates dignissimos sed doloribus animi quaerat aut', 'completed': False}, {'userId': 10, 'id': 186, 'title': 'explicabo odio est et', 'completed': False}, {'userId': 10, 'id': 187, 'title': 'consequuntur animi possimus', 'completed': False}, {'userId': 10, 'id': 188, 'title': 'vel non beatae est', 'completed': True}, {'userId': 10, 'id': 189, 'title': 'culpa eius et voluptatem et', 'completed': True}, {'userId': 10, 'id': 190, 'title': 'accusamus sint iusto et voluptatem exercitationem', 'completed': True}, {'userId': 10, 'id': 191, 'title': 'temporibus atque distinctio omnis eius impedit tempore molestias pariatur', 'completed': True}, {'userId': 10, 'id': 192, 'title': 'ut quas possimus exercitationem sint voluptates', 'completed': False}, {'userId': 10, 'id': 193, 'title': 'rerum debitis voluptatem qui eveniet tempora distinctio a', 'completed': True}, {'userId': 10, 'id': 194, 'title': 'sed ut vero sit molestiae', 'completed': False}, {'userId': 10, 'id': 195, 'title': 'rerum ex veniam mollitia voluptatibus pariatur', 'completed': True}, {'userId': 10, 'id': 196, 'title': 'consequuntur aut ut fugit similique', 'completed': True}, {'userId': 10, 'id': 197, 'title': 'dignissimos quo nobis earum saepe', 'completed': True}, {'userId': 10, 'id': 198, 'title': 'quis eius est sint explicabo', 'completed': True}, {'userId': 10, 'id': 199, 'title': 'numquam repellendus a magnam', 'completed': True}, {'userId': 10, 'id': 200, 'title': 'ipsam aperiam voluptates qui', 'completed': False}]\n"
     ]
    }
   ],
   "source": [
    "with open(\"todos_file.json\", \"r\") as read_file:\n",
    "                data = json.load(read_file)\n",
    "    \n",
    "print(data)"
   ]
  },
  {
   "cell_type": "code",
   "execution_count": 15,
   "id": "34536f0b",
   "metadata": {},
   "outputs": [
    {
     "name": "stdout",
     "output_type": "stream",
     "text": [
      "     userId                                              title  completed\n",
      "id                                                                       \n",
      "1         1                                 delectus aut autem      False\n",
      "2         1                 quis ut nam facilis et officia qui      False\n",
      "3         1                                fugiat veniam minus      False\n",
      "4         1                                   et porro tempora       True\n",
      "5         1  laboriosam mollitia et enim quasi adipisci qui...      False\n",
      "..      ...                                                ...        ...\n",
      "196      10                consequuntur aut ut fugit similique       True\n",
      "197      10                  dignissimos quo nobis earum saepe       True\n",
      "198      10                       quis eius est sint explicabo       True\n",
      "199      10                       numquam repellendus a magnam       True\n",
      "200      10                       ipsam aperiam voluptates qui      False\n",
      "\n",
      "[200 rows x 3 columns]\n"
     ]
    }
   ],
   "source": [
    "local_data = pd.read_json(\"todos_file.json\")\n",
    "\n",
    "local_data = local_data.set_index('id')\n",
    "print(local_data)"
   ]
  },
  {
   "cell_type": "code",
   "execution_count": 18,
   "id": "12b28bd3",
   "metadata": {},
   "outputs": [
    {
     "name": "stdout",
     "output_type": "stream",
     "text": [
      "     userId                                              title  completed\n",
      "id                                                                       \n",
      "200      10                       ipsam aperiam voluptates qui      False\n",
      "199      10                       numquam repellendus a magnam       True\n",
      "198      10                       quis eius est sint explicabo       True\n",
      "197      10                  dignissimos quo nobis earum saepe       True\n",
      "196      10                consequuntur aut ut fugit similique       True\n",
      "..      ...                                                ...        ...\n",
      "5         1  laboriosam mollitia et enim quasi adipisci qui...      False\n",
      "4         1                                   et porro tempora       True\n",
      "3         1                                fugiat veniam minus      False\n",
      "2         1                 quis ut nam facilis et officia qui      False\n",
      "1         1                                 delectus aut autem      False\n",
      "\n",
      "[200 rows x 3 columns]\n"
     ]
    }
   ],
   "source": [
    "local_data_sorted = local_data.sort_values('id', ascending=False)\n",
    "print(local_data_sorted)"
   ]
  },
  {
   "cell_type": "code",
   "execution_count": 19,
   "id": "ae0f6634",
   "metadata": {},
   "outputs": [
    {
     "data": {
      "text/plain": [
       "pandas.core.frame.DataFrame"
      ]
     },
     "execution_count": 19,
     "metadata": {},
     "output_type": "execute_result"
    }
   ],
   "source": [
    "type(local_data_sorted)"
   ]
  },
  {
   "cell_type": "code",
   "execution_count": 20,
   "id": "47252d76",
   "metadata": {
    "scrolled": true
   },
   "outputs": [
    {
     "name": "stdout",
     "output_type": "stream",
     "text": [
      "     userId                                              title  completed\n",
      "id                                                                       \n",
      "200      10                       ipsam aperiam voluptates qui      False\n",
      "199      10                       numquam repellendus a magnam       True\n",
      "198      10                       quis eius est sint explicabo       True\n",
      "197      10                  dignissimos quo nobis earum saepe       True\n",
      "196      10                consequuntur aut ut fugit similique       True\n",
      "..      ...                                                ...        ...\n",
      "5         1  laboriosam mollitia et enim quasi adipisci qui...      False\n",
      "4         1                                   et porro tempora       True\n",
      "3         1                                fugiat veniam minus      False\n",
      "2         1                 quis ut nam facilis et officia qui      False\n",
      "1         1                                 delectus aut autem      False\n",
      "\n",
      "[200 rows x 3 columns]\n"
     ]
    }
   ],
   "source": [
    "data_2 = local_data_sorted.copy()\n",
    "\n",
    "print(data_2)"
   ]
  },
  {
   "cell_type": "code",
   "execution_count": 23,
   "id": "7415d2d3",
   "metadata": {},
   "outputs": [
    {
     "data": {
      "text/plain": [
       "userId                                        10\n",
       "title        consequuntur aut ut fugit similique\n",
       "completed                                   True\n",
       "Name: 196, dtype: object"
      ]
     },
     "execution_count": 23,
     "metadata": {},
     "output_type": "execute_result"
    }
   ],
   "source": [
    "data_2.iloc[4]"
   ]
  },
  {
   "cell_type": "code",
   "execution_count": 24,
   "id": "299f3d2e",
   "metadata": {},
   "outputs": [
    {
     "name": "stdout",
     "output_type": "stream",
     "text": [
      "(200, 3)\n"
     ]
    },
    {
     "data": {
      "text/plain": [
       "pandas.core.frame.DataFrame"
      ]
     },
     "execution_count": 24,
     "metadata": {},
     "output_type": "execute_result"
    }
   ],
   "source": [
    "print(data_2.shape)\n",
    "type(data_2)"
   ]
  },
  {
   "cell_type": "code",
   "execution_count": 69,
   "id": "a4151e9f",
   "metadata": {},
   "outputs": [
    {
     "data": {
      "text/html": [
       "<div>\n",
       "<style scoped>\n",
       "    .dataframe tbody tr th:only-of-type {\n",
       "        vertical-align: middle;\n",
       "    }\n",
       "\n",
       "    .dataframe tbody tr th {\n",
       "        vertical-align: top;\n",
       "    }\n",
       "\n",
       "    .dataframe thead th {\n",
       "        text-align: right;\n",
       "    }\n",
       "</style>\n",
       "<table border=\"1\" class=\"dataframe\">\n",
       "  <thead>\n",
       "    <tr style=\"text-align: right;\">\n",
       "      <th></th>\n",
       "      <th>userId</th>\n",
       "      <th>title</th>\n",
       "      <th>completed</th>\n",
       "    </tr>\n",
       "    <tr>\n",
       "      <th>id</th>\n",
       "      <th></th>\n",
       "      <th></th>\n",
       "      <th></th>\n",
       "    </tr>\n",
       "  </thead>\n",
       "  <tbody>\n",
       "    <tr>\n",
       "      <th>200</th>\n",
       "      <td>10</td>\n",
       "      <td>ipsam aperiam voluptates qui</td>\n",
       "      <td>False</td>\n",
       "    </tr>\n",
       "    <tr>\n",
       "      <th>199</th>\n",
       "      <td>10</td>\n",
       "      <td>numquam repellendus a magnam</td>\n",
       "      <td>True</td>\n",
       "    </tr>\n",
       "    <tr>\n",
       "      <th>198</th>\n",
       "      <td>10</td>\n",
       "      <td>quis eius est sint explicabo</td>\n",
       "      <td>True</td>\n",
       "    </tr>\n",
       "    <tr>\n",
       "      <th>197</th>\n",
       "      <td>10</td>\n",
       "      <td>dignissimos quo nobis earum saepe</td>\n",
       "      <td>True</td>\n",
       "    </tr>\n",
       "    <tr>\n",
       "      <th>196</th>\n",
       "      <td>10</td>\n",
       "      <td>consequuntur aut ut fugit similique</td>\n",
       "      <td>True</td>\n",
       "    </tr>\n",
       "    <tr>\n",
       "      <th>195</th>\n",
       "      <td>10</td>\n",
       "      <td>rerum ex veniam mollitia voluptatibus pariatur</td>\n",
       "      <td>True</td>\n",
       "    </tr>\n",
       "    <tr>\n",
       "      <th>194</th>\n",
       "      <td>10</td>\n",
       "      <td>sed ut vero sit molestiae</td>\n",
       "      <td>False</td>\n",
       "    </tr>\n",
       "    <tr>\n",
       "      <th>193</th>\n",
       "      <td>10</td>\n",
       "      <td>rerum debitis voluptatem qui eveniet tempora d...</td>\n",
       "      <td>True</td>\n",
       "    </tr>\n",
       "    <tr>\n",
       "      <th>192</th>\n",
       "      <td>10</td>\n",
       "      <td>ut quas possimus exercitationem sint voluptates</td>\n",
       "      <td>False</td>\n",
       "    </tr>\n",
       "    <tr>\n",
       "      <th>191</th>\n",
       "      <td>10</td>\n",
       "      <td>temporibus atque distinctio omnis eius impedit...</td>\n",
       "      <td>True</td>\n",
       "    </tr>\n",
       "    <tr>\n",
       "      <th>189</th>\n",
       "      <td>10</td>\n",
       "      <td>culpa eius et voluptatem et</td>\n",
       "      <td>True</td>\n",
       "    </tr>\n",
       "    <tr>\n",
       "      <th>188</th>\n",
       "      <td>10</td>\n",
       "      <td>vel non beatae est</td>\n",
       "      <td>True</td>\n",
       "    </tr>\n",
       "  </tbody>\n",
       "</table>\n",
       "</div>"
      ],
      "text/plain": [
       "     userId                                              title  completed\n",
       "id                                                                       \n",
       "200      10                       ipsam aperiam voluptates qui      False\n",
       "199      10                       numquam repellendus a magnam       True\n",
       "198      10                       quis eius est sint explicabo       True\n",
       "197      10                  dignissimos quo nobis earum saepe       True\n",
       "196      10                consequuntur aut ut fugit similique       True\n",
       "195      10     rerum ex veniam mollitia voluptatibus pariatur       True\n",
       "194      10                          sed ut vero sit molestiae      False\n",
       "193      10  rerum debitis voluptatem qui eveniet tempora d...       True\n",
       "192      10    ut quas possimus exercitationem sint voluptates      False\n",
       "191      10  temporibus atque distinctio omnis eius impedit...       True\n",
       "189      10                        culpa eius et voluptatem et       True\n",
       "188      10                                 vel non beatae est       True"
      ]
     },
     "execution_count": 69,
     "metadata": {},
     "output_type": "execute_result"
    }
   ],
   "source": [
    "data = data_2.drop(data_2.index[10])\n",
    "data.shape\n",
    "data.head(12)\n"
   ]
  },
  {
   "cell_type": "code",
   "execution_count": 68,
   "id": "0962e4ff",
   "metadata": {},
   "outputs": [
    {
     "data": {
      "text/html": [
       "<div>\n",
       "<style scoped>\n",
       "    .dataframe tbody tr th:only-of-type {\n",
       "        vertical-align: middle;\n",
       "    }\n",
       "\n",
       "    .dataframe tbody tr th {\n",
       "        vertical-align: top;\n",
       "    }\n",
       "\n",
       "    .dataframe thead th {\n",
       "        text-align: right;\n",
       "    }\n",
       "</style>\n",
       "<table border=\"1\" class=\"dataframe\">\n",
       "  <thead>\n",
       "    <tr style=\"text-align: right;\">\n",
       "      <th></th>\n",
       "      <th>userId</th>\n",
       "      <th>title</th>\n",
       "      <th>completed</th>\n",
       "    </tr>\n",
       "    <tr>\n",
       "      <th>id</th>\n",
       "      <th></th>\n",
       "      <th></th>\n",
       "      <th></th>\n",
       "    </tr>\n",
       "  </thead>\n",
       "  <tbody>\n",
       "    <tr>\n",
       "      <th>1</th>\n",
       "      <td>1</td>\n",
       "      <td>delectus aut autem</td>\n",
       "      <td>False</td>\n",
       "    </tr>\n",
       "    <tr>\n",
       "      <th>2</th>\n",
       "      <td>1</td>\n",
       "      <td>quis ut nam facilis et officia qui</td>\n",
       "      <td>False</td>\n",
       "    </tr>\n",
       "    <tr>\n",
       "      <th>3</th>\n",
       "      <td>1</td>\n",
       "      <td>fugiat veniam minus</td>\n",
       "      <td>False</td>\n",
       "    </tr>\n",
       "    <tr>\n",
       "      <th>4</th>\n",
       "      <td>1</td>\n",
       "      <td>et porro tempora</td>\n",
       "      <td>True</td>\n",
       "    </tr>\n",
       "    <tr>\n",
       "      <th>5</th>\n",
       "      <td>1</td>\n",
       "      <td>laboriosam mollitia et enim quasi adipisci qui...</td>\n",
       "      <td>False</td>\n",
       "    </tr>\n",
       "    <tr>\n",
       "      <th>6</th>\n",
       "      <td>1</td>\n",
       "      <td>qui ullam ratione quibusdam voluptatem quia omnis</td>\n",
       "      <td>False</td>\n",
       "    </tr>\n",
       "    <tr>\n",
       "      <th>7</th>\n",
       "      <td>1</td>\n",
       "      <td>illo expedita consequatur quia in</td>\n",
       "      <td>False</td>\n",
       "    </tr>\n",
       "    <tr>\n",
       "      <th>8</th>\n",
       "      <td>1</td>\n",
       "      <td>quo adipisci enim quam ut ab</td>\n",
       "      <td>True</td>\n",
       "    </tr>\n",
       "    <tr>\n",
       "      <th>9</th>\n",
       "      <td>1</td>\n",
       "      <td>molestiae perspiciatis ipsa</td>\n",
       "      <td>False</td>\n",
       "    </tr>\n",
       "    <tr>\n",
       "      <th>10</th>\n",
       "      <td>1</td>\n",
       "      <td>illo est ratione doloremque quia maiores aut</td>\n",
       "      <td>True</td>\n",
       "    </tr>\n",
       "    <tr>\n",
       "      <th>11</th>\n",
       "      <td>1</td>\n",
       "      <td>vero rerum temporibus dolor</td>\n",
       "      <td>True</td>\n",
       "    </tr>\n",
       "    <tr>\n",
       "      <th>12</th>\n",
       "      <td>1</td>\n",
       "      <td>ipsa repellendus fugit nisi</td>\n",
       "      <td>True</td>\n",
       "    </tr>\n",
       "  </tbody>\n",
       "</table>\n",
       "</div>"
      ],
      "text/plain": [
       "    userId                                              title  completed\n",
       "id                                                                      \n",
       "1        1                                 delectus aut autem      False\n",
       "2        1                 quis ut nam facilis et officia qui      False\n",
       "3        1                                fugiat veniam minus      False\n",
       "4        1                                   et porro tempora       True\n",
       "5        1  laboriosam mollitia et enim quasi adipisci qui...      False\n",
       "6        1  qui ullam ratione quibusdam voluptatem quia omnis      False\n",
       "7        1                  illo expedita consequatur quia in      False\n",
       "8        1                       quo adipisci enim quam ut ab       True\n",
       "9        1                        molestiae perspiciatis ipsa      False\n",
       "10       1       illo est ratione doloremque quia maiores aut       True\n",
       "11       1                        vero rerum temporibus dolor       True\n",
       "12       1                        ipsa repellendus fugit nisi       True"
      ]
     },
     "execution_count": 68,
     "metadata": {},
     "output_type": "execute_result"
    }
   ],
   "source": [
    "data = data_2.sort_values('id', ascending=True)\n",
    "data.head(12)"
   ]
  },
  {
   "cell_type": "code",
   "execution_count": 30,
   "id": "4cbf4eb6",
   "metadata": {},
   "outputs": [],
   "source": [
    "data.loc[198, 'completed'] = 'Temp'"
   ]
  },
  {
   "cell_type": "code",
   "execution_count": 31,
   "id": "0715352b",
   "metadata": {},
   "outputs": [
    {
     "data": {
      "text/html": [
       "<div>\n",
       "<style scoped>\n",
       "    .dataframe tbody tr th:only-of-type {\n",
       "        vertical-align: middle;\n",
       "    }\n",
       "\n",
       "    .dataframe tbody tr th {\n",
       "        vertical-align: top;\n",
       "    }\n",
       "\n",
       "    .dataframe thead th {\n",
       "        text-align: right;\n",
       "    }\n",
       "</style>\n",
       "<table border=\"1\" class=\"dataframe\">\n",
       "  <thead>\n",
       "    <tr style=\"text-align: right;\">\n",
       "      <th></th>\n",
       "      <th>userId</th>\n",
       "      <th>title</th>\n",
       "      <th>completed</th>\n",
       "    </tr>\n",
       "    <tr>\n",
       "      <th>id</th>\n",
       "      <th></th>\n",
       "      <th></th>\n",
       "      <th></th>\n",
       "    </tr>\n",
       "  </thead>\n",
       "  <tbody>\n",
       "    <tr>\n",
       "      <th>1</th>\n",
       "      <td>1</td>\n",
       "      <td>delectus aut autem</td>\n",
       "      <td>False</td>\n",
       "    </tr>\n",
       "    <tr>\n",
       "      <th>2</th>\n",
       "      <td>1</td>\n",
       "      <td>quis ut nam facilis et officia qui</td>\n",
       "      <td>False</td>\n",
       "    </tr>\n",
       "    <tr>\n",
       "      <th>3</th>\n",
       "      <td>1</td>\n",
       "      <td>fugiat veniam minus</td>\n",
       "      <td>False</td>\n",
       "    </tr>\n",
       "    <tr>\n",
       "      <th>4</th>\n",
       "      <td>1</td>\n",
       "      <td>et porro tempora</td>\n",
       "      <td>True</td>\n",
       "    </tr>\n",
       "    <tr>\n",
       "      <th>5</th>\n",
       "      <td>1</td>\n",
       "      <td>laboriosam mollitia et enim quasi adipisci qui...</td>\n",
       "      <td>True</td>\n",
       "    </tr>\n",
       "    <tr>\n",
       "      <th>...</th>\n",
       "      <td>...</td>\n",
       "      <td>...</td>\n",
       "      <td>...</td>\n",
       "    </tr>\n",
       "    <tr>\n",
       "      <th>196</th>\n",
       "      <td>10</td>\n",
       "      <td>consequuntur aut ut fugit similique</td>\n",
       "      <td>True</td>\n",
       "    </tr>\n",
       "    <tr>\n",
       "      <th>197</th>\n",
       "      <td>10</td>\n",
       "      <td>dignissimos quo nobis earum saepe</td>\n",
       "      <td>True</td>\n",
       "    </tr>\n",
       "    <tr>\n",
       "      <th>198</th>\n",
       "      <td>10</td>\n",
       "      <td>quis eius est sint explicabo</td>\n",
       "      <td>Temp</td>\n",
       "    </tr>\n",
       "    <tr>\n",
       "      <th>199</th>\n",
       "      <td>10</td>\n",
       "      <td>numquam repellendus a magnam</td>\n",
       "      <td>True</td>\n",
       "    </tr>\n",
       "    <tr>\n",
       "      <th>200</th>\n",
       "      <td>10</td>\n",
       "      <td>ipsam aperiam voluptates qui</td>\n",
       "      <td>True</td>\n",
       "    </tr>\n",
       "  </tbody>\n",
       "</table>\n",
       "<p>200 rows × 3 columns</p>\n",
       "</div>"
      ],
      "text/plain": [
       "     userId                                              title completed\n",
       "id                                                                      \n",
       "1         1                                 delectus aut autem     False\n",
       "2         1                 quis ut nam facilis et officia qui     False\n",
       "3         1                                fugiat veniam minus     False\n",
       "4         1                                   et porro tempora      True\n",
       "5         1  laboriosam mollitia et enim quasi adipisci qui...      True\n",
       "..      ...                                                ...       ...\n",
       "196      10                consequuntur aut ut fugit similique      True\n",
       "197      10                  dignissimos quo nobis earum saepe      True\n",
       "198      10                       quis eius est sint explicabo      Temp\n",
       "199      10                       numquam repellendus a magnam      True\n",
       "200      10                       ipsam aperiam voluptates qui      True\n",
       "\n",
       "[200 rows x 3 columns]"
      ]
     },
     "execution_count": 31,
     "metadata": {},
     "output_type": "execute_result"
    }
   ],
   "source": [
    "data"
   ]
  },
  {
   "cell_type": "code",
   "execution_count": 85,
   "id": "413eae62",
   "metadata": {},
   "outputs": [
    {
     "data": {
      "text/plain": [
       "' \\nbasic_data = np.array(basic_data)\\ntype(basic_data )\\n\\n\\ndata = np.array(data)\\ntype(data )\\n'"
      ]
     },
     "execution_count": 85,
     "metadata": {},
     "output_type": "execute_result"
    }
   ],
   "source": [
    "''' \n",
    "basic_data = np.array(basic_data)\n",
    "type(basic_data )\n",
    "\n",
    "data = np.array(data)\n",
    "type(data )\n",
    "'''\n",
    "\n",
    "\n"
   ]
  },
  {
   "cell_type": "code",
   "execution_count": 32,
   "id": "55acd232",
   "metadata": {},
   "outputs": [
    {
     "data": {
      "text/html": [
       "<div>\n",
       "<style scoped>\n",
       "    .dataframe tbody tr th:only-of-type {\n",
       "        vertical-align: middle;\n",
       "    }\n",
       "\n",
       "    .dataframe tbody tr th {\n",
       "        vertical-align: top;\n",
       "    }\n",
       "\n",
       "    .dataframe thead tr th {\n",
       "        text-align: left;\n",
       "    }\n",
       "\n",
       "    .dataframe thead tr:last-of-type th {\n",
       "        text-align: right;\n",
       "    }\n",
       "</style>\n",
       "<table border=\"1\" class=\"dataframe\">\n",
       "  <thead>\n",
       "    <tr>\n",
       "      <th></th>\n",
       "      <th colspan=\"2\" halign=\"left\">completed</th>\n",
       "    </tr>\n",
       "    <tr>\n",
       "      <th></th>\n",
       "      <th>self</th>\n",
       "      <th>other</th>\n",
       "    </tr>\n",
       "    <tr>\n",
       "      <th>id</th>\n",
       "      <th></th>\n",
       "      <th></th>\n",
       "    </tr>\n",
       "  </thead>\n",
       "  <tbody>\n",
       "    <tr>\n",
       "      <th>5</th>\n",
       "      <td>True</td>\n",
       "      <td>0.0</td>\n",
       "    </tr>\n",
       "    <tr>\n",
       "      <th>198</th>\n",
       "      <td>Temp</td>\n",
       "      <td>1.0</td>\n",
       "    </tr>\n",
       "    <tr>\n",
       "      <th>200</th>\n",
       "      <td>True</td>\n",
       "      <td>0.0</td>\n",
       "    </tr>\n",
       "  </tbody>\n",
       "</table>\n",
       "</div>"
      ],
      "text/plain": [
       "    completed      \n",
       "         self other\n",
       "id                 \n",
       "5        True   0.0\n",
       "198      Temp   1.0\n",
       "200      True   0.0"
      ]
     },
     "execution_count": 32,
     "metadata": {},
     "output_type": "execute_result"
    }
   ],
   "source": [
    "data.compare(basic_data)"
   ]
  },
  {
   "cell_type": "code",
   "execution_count": 34,
   "id": "9793919a",
   "metadata": {},
   "outputs": [
    {
     "name": "stdout",
     "output_type": "stream",
     "text": [
      "<class 'pandas.core.frame.DataFrame'>\n",
      "Int64Index: 200 entries, 1 to 200\n",
      "Data columns (total 3 columns):\n",
      " #   Column     Non-Null Count  Dtype \n",
      "---  ------     --------------  ----- \n",
      " 0   userId     200 non-null    int64 \n",
      " 1   title      200 non-null    object\n",
      " 2   completed  200 non-null    object\n",
      "dtypes: int64(1), object(2)\n",
      "memory usage: 14.4+ KB\n"
     ]
    }
   ],
   "source": [
    "data.info()"
   ]
  },
  {
   "cell_type": "code",
   "execution_count": 33,
   "id": "a27c5e70",
   "metadata": {},
   "outputs": [
    {
     "data": {
      "text/html": [
       "<div>\n",
       "<style scoped>\n",
       "    .dataframe tbody tr th:only-of-type {\n",
       "        vertical-align: middle;\n",
       "    }\n",
       "\n",
       "    .dataframe tbody tr th {\n",
       "        vertical-align: top;\n",
       "    }\n",
       "\n",
       "    .dataframe thead tr th {\n",
       "        text-align: left;\n",
       "    }\n",
       "\n",
       "    .dataframe thead tr:last-of-type th {\n",
       "        text-align: right;\n",
       "    }\n",
       "</style>\n",
       "<table border=\"1\" class=\"dataframe\">\n",
       "  <thead>\n",
       "    <tr>\n",
       "      <th></th>\n",
       "      <th colspan=\"2\" halign=\"left\">completed</th>\n",
       "    </tr>\n",
       "    <tr>\n",
       "      <th></th>\n",
       "      <th>self</th>\n",
       "      <th>other</th>\n",
       "    </tr>\n",
       "    <tr>\n",
       "      <th>id</th>\n",
       "      <th></th>\n",
       "      <th></th>\n",
       "    </tr>\n",
       "  </thead>\n",
       "  <tbody>\n",
       "    <tr>\n",
       "      <th>5</th>\n",
       "      <td>0.0</td>\n",
       "      <td>True</td>\n",
       "    </tr>\n",
       "    <tr>\n",
       "      <th>198</th>\n",
       "      <td>1.0</td>\n",
       "      <td>Temp</td>\n",
       "    </tr>\n",
       "    <tr>\n",
       "      <th>200</th>\n",
       "      <td>0.0</td>\n",
       "      <td>True</td>\n",
       "    </tr>\n",
       "  </tbody>\n",
       "</table>\n",
       "</div>"
      ],
      "text/plain": [
       "    completed      \n",
       "         self other\n",
       "id                 \n",
       "5         0.0  True\n",
       "198       1.0  Temp\n",
       "200       0.0  True"
      ]
     },
     "execution_count": 33,
     "metadata": {},
     "output_type": "execute_result"
    }
   ],
   "source": [
    "basic_data.compare(data)"
   ]
  },
  {
   "cell_type": "code",
   "execution_count": 38,
   "id": "68e18b2a",
   "metadata": {},
   "outputs": [],
   "source": [
    "data.to_csv(\"data.csv\")"
   ]
  },
  {
   "cell_type": "code",
   "execution_count": 39,
   "id": "dd833eb9",
   "metadata": {},
   "outputs": [],
   "source": [
    "data.to_json(\"data.json\")"
   ]
  },
  {
   "cell_type": "code",
   "execution_count": 55,
   "id": "e104f77c",
   "metadata": {},
   "outputs": [
    {
     "data": {
      "text/html": [
       "<div>\n",
       "<style scoped>\n",
       "    .dataframe tbody tr th:only-of-type {\n",
       "        vertical-align: middle;\n",
       "    }\n",
       "\n",
       "    .dataframe tbody tr th {\n",
       "        vertical-align: top;\n",
       "    }\n",
       "\n",
       "    .dataframe thead th {\n",
       "        text-align: right;\n",
       "    }\n",
       "</style>\n",
       "<table border=\"1\" class=\"dataframe\">\n",
       "  <thead>\n",
       "    <tr style=\"text-align: right;\">\n",
       "      <th></th>\n",
       "      <th>userId</th>\n",
       "      <th>title</th>\n",
       "      <th>completed</th>\n",
       "    </tr>\n",
       "  </thead>\n",
       "  <tbody>\n",
       "    <tr>\n",
       "      <th>1</th>\n",
       "      <td>1</td>\n",
       "      <td>delectus aut autem</td>\n",
       "      <td>False</td>\n",
       "    </tr>\n",
       "    <tr>\n",
       "      <th>2</th>\n",
       "      <td>1</td>\n",
       "      <td>quis ut nam facilis et officia qui</td>\n",
       "      <td>False</td>\n",
       "    </tr>\n",
       "    <tr>\n",
       "      <th>3</th>\n",
       "      <td>1</td>\n",
       "      <td>fugiat veniam minus</td>\n",
       "      <td>False</td>\n",
       "    </tr>\n",
       "    <tr>\n",
       "      <th>4</th>\n",
       "      <td>1</td>\n",
       "      <td>et porro tempora</td>\n",
       "      <td>True</td>\n",
       "    </tr>\n",
       "    <tr>\n",
       "      <th>5</th>\n",
       "      <td>1</td>\n",
       "      <td>laboriosam mollitia et enim quasi adipisci qui...</td>\n",
       "      <td>True</td>\n",
       "    </tr>\n",
       "    <tr>\n",
       "      <th>...</th>\n",
       "      <td>...</td>\n",
       "      <td>...</td>\n",
       "      <td>...</td>\n",
       "    </tr>\n",
       "    <tr>\n",
       "      <th>96</th>\n",
       "      <td>5</td>\n",
       "      <td>nobis suscipit ducimus enim asperiores voluptas</td>\n",
       "      <td>False</td>\n",
       "    </tr>\n",
       "    <tr>\n",
       "      <th>97</th>\n",
       "      <td>5</td>\n",
       "      <td>dolorum laboriosam eos qui iure aliquam</td>\n",
       "      <td>False</td>\n",
       "    </tr>\n",
       "    <tr>\n",
       "      <th>98</th>\n",
       "      <td>5</td>\n",
       "      <td>debitis accusantium ut quo facilis nihil quis ...</td>\n",
       "      <td>True</td>\n",
       "    </tr>\n",
       "    <tr>\n",
       "      <th>99</th>\n",
       "      <td>5</td>\n",
       "      <td>neque voluptates ratione</td>\n",
       "      <td>False</td>\n",
       "    </tr>\n",
       "    <tr>\n",
       "      <th>100</th>\n",
       "      <td>5</td>\n",
       "      <td>excepturi a et neque qui expedita vel voluptate</td>\n",
       "      <td>False</td>\n",
       "    </tr>\n",
       "  </tbody>\n",
       "</table>\n",
       "<p>100 rows × 3 columns</p>\n",
       "</div>"
      ],
      "text/plain": [
       "     userId                                              title completed\n",
       "1         1                                 delectus aut autem     False\n",
       "2         1                 quis ut nam facilis et officia qui     False\n",
       "3         1                                fugiat veniam minus     False\n",
       "4         1                                   et porro tempora      True\n",
       "5         1  laboriosam mollitia et enim quasi adipisci qui...      True\n",
       "..      ...                                                ...       ...\n",
       "96        5    nobis suscipit ducimus enim asperiores voluptas     False\n",
       "97        5            dolorum laboriosam eos qui iure aliquam     False\n",
       "98        5  debitis accusantium ut quo facilis nihil quis ...      True\n",
       "99        5                           neque voluptates ratione     False\n",
       "100       5    excepturi a et neque qui expedita vel voluptate     False\n",
       "\n",
       "[100 rows x 3 columns]"
      ]
     },
     "execution_count": 55,
     "metadata": {},
     "output_type": "execute_result"
    }
   ],
   "source": [
    "data = pd.read_json(\"data.json\")\n",
    "data.head(100)"
   ]
  },
  {
   "cell_type": "code",
   "execution_count": 66,
   "id": "3725871d",
   "metadata": {},
   "outputs": [],
   "source": [
    "#data = data.to_json(orient='index')\n",
    "\n",
    "with open(\"student.json\", \"w\") as write_file:\n",
    "     json.dump(todos, write_file,indent= 4, sort_keys=True )\n",
    "          "
   ]
  },
  {
   "cell_type": "code",
   "execution_count": null,
   "id": "025ecaf4",
   "metadata": {},
   "outputs": [],
   "source": []
  }
 ],
 "metadata": {
  "kernelspec": {
   "display_name": "Python 3",
   "language": "python",
   "name": "python3"
  },
  "language_info": {
   "codemirror_mode": {
    "name": "ipython",
    "version": 3
   },
   "file_extension": ".py",
   "mimetype": "text/x-python",
   "name": "python",
   "nbconvert_exporter": "python",
   "pygments_lexer": "ipython3",
   "version": "3.8.8"
  }
 },
 "nbformat": 4,
 "nbformat_minor": 5
}
