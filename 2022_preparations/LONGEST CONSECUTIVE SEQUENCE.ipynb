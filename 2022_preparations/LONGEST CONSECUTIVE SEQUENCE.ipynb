{
 "cells": [
  {
   "cell_type": "markdown",
   "id": "899f8993",
   "metadata": {},
   "source": [
    "# LONGEST CONSECUTIVE SEQUENCE"
   ]
  },
  {
   "cell_type": "code",
   "execution_count": 3,
   "id": "5dab37e3",
   "metadata": {},
   "outputs": [],
   "source": [
    "def solution(arr):\n",
    "    temp = set(arr)\n",
    "    maxlenght = 0 \n",
    "    for i in  arr:\n",
    "        if (i-1) not in temp:\n",
    "            lenghth = 0 \n",
    "            while ( i + lenghth) in temp:\n",
    "                lenghth +=1\n",
    "            maxlenght = max(lenghth, maxlenght)\n",
    "    return maxlenght"
   ]
  },
  {
   "cell_type": "code",
   "execution_count": 9,
   "id": "d1022e9d",
   "metadata": {},
   "outputs": [
    {
     "name": "stdout",
     "output_type": "stream",
     "text": [
      "[1, 2, 3, 7, 8, 100]\n",
      "3\n"
     ]
    }
   ],
   "source": [
    "arr = [100,8,3,1,7,2]\n",
    "\n",
    "print(sorted(arr))\n",
    "\n",
    "print(solution(arr))"
   ]
  },
  {
   "cell_type": "markdown",
   "id": "1224919d",
   "metadata": {},
   "source": [
    "O(n)"
   ]
  }
 ],
 "metadata": {
  "kernelspec": {
   "display_name": "Python 3",
   "language": "python",
   "name": "python3"
  },
  "language_info": {
   "codemirror_mode": {
    "name": "ipython",
    "version": 3
   },
   "file_extension": ".py",
   "mimetype": "text/x-python",
   "name": "python",
   "nbconvert_exporter": "python",
   "pygments_lexer": "ipython3",
   "version": "3.8.8"
  }
 },
 "nbformat": 4,
 "nbformat_minor": 5
}
