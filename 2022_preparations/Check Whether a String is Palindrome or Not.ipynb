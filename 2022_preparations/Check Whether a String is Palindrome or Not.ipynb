{
 "cells": [
  {
   "cell_type": "code",
   "execution_count": 33,
   "id": "fd39b895",
   "metadata": {},
   "outputs": [
    {
     "name": "stdout",
     "output_type": "stream",
     "text": [
      "palindrome is a word, phrase or number that reads the same backward as forward\n"
     ]
    }
   ],
   "source": [
    "print(\"palindrome is a word, phrase or number that reads the same backward as forward\")\n"
   ]
  },
  {
   "cell_type": "code",
   "execution_count": 34,
   "id": "ed7d5dab",
   "metadata": {},
   "outputs": [],
   "source": []
  },
  {
   "cell_type": "code",
   "execution_count": 45,
   "id": "d54521aa",
   "metadata": {},
   "outputs": [
    {
     "name": "stdout",
     "output_type": "stream",
     "text": [
      "Please enter a word or num : \n",
      "madam\n",
      "\n",
      "String is : madam\n",
      "madam\n",
      "madam\n",
      "Yes the word is Palindrome\n"
     ]
    }
   ],
   "source": [
    "Str = input(\"Please enter a word or num : \\n\")\n",
    "Str = Str.lower()\n",
    "print(\"\\nString is :\",Str)\n",
    "\n",
    "Rstr = str(Str)[::-1]\n",
    "#Reversed(Str)\n",
    "\n",
    "if str(Str)== str(Rstr):\n",
    "    print(\"Yes the word is Palindrome\")\n",
    "else:\n",
    "    print(\"Nope,the word is not a Palindrome\")\n",
    "    "
   ]
  },
  {
   "cell_type": "code",
   "execution_count": 48,
   "id": "f1b78050",
   "metadata": {},
   "outputs": [
    {
     "name": "stdout",
     "output_type": "stream",
     "text": [
      "Please enter a word or num : \n",
      "madam\n",
      "\n",
      "String is : madam\n",
      "Yes the word is Palindrome\n"
     ]
    }
   ],
   "source": [
    "def Reversed(Str):\n",
    "    Rstr=''\n",
    "    for i in Str:\n",
    "        Rstr = i+Rstr\n",
    "    return Rstr\n",
    "     \n",
    "Str = input(\"Please enter a word or num : \\n\")\n",
    "Str = Str.lower()\n",
    "print(\"\\nString is :\",Str)\n",
    "\n",
    "Reversed(Str)\n",
    "\n",
    "if Str==Rstr:\n",
    "    print(\"Yes the word is Palindrome\")\n",
    "else:\n",
    "    print(\"Nope,the word is not a Palindrome\")"
   ]
  },
  {
   "cell_type": "code",
   "execution_count": 55,
   "id": "ed32227b",
   "metadata": {},
   "outputs": [
    {
     "name": "stdout",
     "output_type": "stream",
     "text": [
      "Please enter a word or num : \n",
      "mom\n",
      "\n",
      "String is : ['m', 'o', 'm']\n",
      "\n",
      "String is : ['m', 'o', 'm']\n",
      "Yes the word is Palindrome\n"
     ]
    }
   ],
   "source": [
    "Str = input(\"Please enter a word or num : \\n\")\n",
    "Str = list(Str.lower())\n",
    "print(\"\\nString is :\",Str)\n",
    "\n",
    "Rstr= reversed(Str)\n",
    "Rstr = list(Rstr)\n",
    "print(\"\\nString is :\",Rstr)\n",
    "\n",
    "if Str==Rstr:\n",
    "    print(\"Yes the word is Palindrome\")\n",
    "else:\n",
    "    print(\"Nope,the word is not a Palindrome\")"
   ]
  },
  {
   "cell_type": "code",
   "execution_count": null,
   "id": "30169950",
   "metadata": {},
   "outputs": [],
   "source": []
  }
 ],
 "metadata": {
  "kernelspec": {
   "display_name": "Python 3",
   "language": "python",
   "name": "python3"
  },
  "language_info": {
   "codemirror_mode": {
    "name": "ipython",
    "version": 3
   },
   "file_extension": ".py",
   "mimetype": "text/x-python",
   "name": "python",
   "nbconvert_exporter": "python",
   "pygments_lexer": "ipython3",
   "version": "3.8.8"
  }
 },
 "nbformat": 4,
 "nbformat_minor": 5
}
