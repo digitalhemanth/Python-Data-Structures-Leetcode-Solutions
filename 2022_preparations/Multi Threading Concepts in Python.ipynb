{
 "cells": [
  {
   "cell_type": "code",
   "execution_count": 1,
   "id": "87a21709",
   "metadata": {},
   "outputs": [],
   "source": [
    "from threading import *"
   ]
  },
  {
   "cell_type": "code",
   "execution_count": 3,
   "id": "64f72d03",
   "metadata": {},
   "outputs": [
    {
     "name": "stdout",
     "output_type": "stream",
     "text": [
      "Hey I am from SampleTerminated ...\n",
      "\n",
      "Hey I am from Sample\n",
      "Hey I am from Sample\n",
      "Hey I am from Sample\n",
      "Hey I am from Sample\n"
     ]
    }
   ],
   "source": [
    "def Sample():\n",
    "    for i in range(5):\n",
    "        print(\"Hey I am from Sample\")\n",
    "t1 = Thread(target= Sample)\n",
    "t1.start()\n",
    "print(\"Terminated ...\")"
   ]
  },
  {
   "cell_type": "code",
   "execution_count": 9,
   "id": "89f9cda0",
   "metadata": {},
   "outputs": [
    {
     "name": "stdout",
     "output_type": "stream",
     "text": [
      "Hey I am from Sample..... Thread-12\n",
      "Hey I am from Sample..... Thread-12\n",
      "Hey I am from Sample..... Thread-12\n",
      "Hey I am from Sample..... Thread-12\n",
      "Hey I am from Sample..... Thread-12\n",
      "Terminated ... MainThread\n"
     ]
    }
   ],
   "source": [
    "def Sample():\n",
    "    for i in range(5):\n",
    "        print(\"Hey I am from Sample.....\", current_thread().getName())\n",
    "t1 = Thread(target= Sample)\n",
    "t1.start()\n",
    "t1.join()\n",
    "print(\"Terminated ...\",current_thread().getName())"
   ]
  },
  {
   "cell_type": "code",
   "execution_count": null,
   "id": "dc5eb1f5",
   "metadata": {},
   "outputs": [],
   "source": []
  },
  {
   "cell_type": "code",
   "execution_count": null,
   "id": "0b82ca70",
   "metadata": {},
   "outputs": [],
   "source": []
  }
 ],
 "metadata": {
  "kernelspec": {
   "display_name": "Python 3",
   "language": "python",
   "name": "python3"
  },
  "language_info": {
   "codemirror_mode": {
    "name": "ipython",
    "version": 3
   },
   "file_extension": ".py",
   "mimetype": "text/x-python",
   "name": "python",
   "nbconvert_exporter": "python",
   "pygments_lexer": "ipython3",
   "version": "3.8.8"
  }
 },
 "nbformat": 4,
 "nbformat_minor": 5
}
