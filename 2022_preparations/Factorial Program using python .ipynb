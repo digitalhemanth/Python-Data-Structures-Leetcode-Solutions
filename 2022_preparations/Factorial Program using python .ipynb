{
 "cells": [
  {
   "cell_type": "markdown",
   "id": "77492c79",
   "metadata": {},
   "source": [
    "# Factorial Program"
   ]
  },
  {
   "cell_type": "markdown",
   "id": "7fef776b",
   "metadata": {},
   "source": [
    "In mathematics, the factorial of a non-negative integer n, denoted by n!, is the product of all positive integers less than or equal to n:"
   ]
  },
  {
   "cell_type": "markdown",
   "id": "c040f00a",
   "metadata": {},
   "source": [
    "# Using Math "
   ]
  },
  {
   "cell_type": "code",
   "execution_count": 3,
   "id": "47c575ad",
   "metadata": {},
   "outputs": [
    {
     "name": "stdout",
     "output_type": "stream",
     "text": [
      "Plase enter the N value5\n",
      "Factorial is :  120\n"
     ]
    }
   ],
   "source": [
    "import math \n",
    "\n",
    "n = int(input(\"Plase enter the N value\"))\n",
    "\n",
    "result = math.factorial(n)\n",
    "\n",
    "print(\"Factorial is : \",result)"
   ]
  },
  {
   "cell_type": "markdown",
   "id": "bbc965e5",
   "metadata": {},
   "source": [
    "# Factorial Program Using Recursion"
   ]
  },
  {
   "cell_type": "code",
   "execution_count": 7,
   "id": "49745d5e",
   "metadata": {},
   "outputs": [
    {
     "name": "stdout",
     "output_type": "stream",
     "text": [
      "Plase enter the N value5\n",
      "Factorial is :  120\n"
     ]
    }
   ],
   "source": [
    "def fact(n):\n",
    "    if n == 0:\n",
    "        return 1\n",
    "    else:\n",
    "        return n*fact(n-1)\n",
    "    \n",
    "n = int(input(\"Plase enter the N value\"))\n",
    "\n",
    "\n",
    "result = fact(n)\n",
    "\n",
    "print(\"Factorial is : \",result)\n",
    "    "
   ]
  },
  {
   "cell_type": "markdown",
   "id": "0407d6e9",
   "metadata": {},
   "source": [
    "# using for loop"
   ]
  },
  {
   "cell_type": "code",
   "execution_count": 8,
   "id": "5aac2960",
   "metadata": {},
   "outputs": [
    {
     "name": "stdout",
     "output_type": "stream",
     "text": [
      "Plase enter the N value5\n",
      "Factorial is :  120\n"
     ]
    }
   ],
   "source": [
    "n = int(input(\"Plase enter the N value\"))\n",
    "\n",
    "result = 1\n",
    "\n",
    "for i in range(n,0,-1):\n",
    "    result = result*i\n",
    "\n",
    "print(\"Factorial is : \",result)"
   ]
  },
  {
   "cell_type": "code",
   "execution_count": null,
   "id": "354180a4",
   "metadata": {},
   "outputs": [],
   "source": []
  }
 ],
 "metadata": {
  "kernelspec": {
   "display_name": "Python 3",
   "language": "python",
   "name": "python3"
  },
  "language_info": {
   "codemirror_mode": {
    "name": "ipython",
    "version": 3
   },
   "file_extension": ".py",
   "mimetype": "text/x-python",
   "name": "python",
   "nbconvert_exporter": "python",
   "pygments_lexer": "ipython3",
   "version": "3.8.8"
  }
 },
 "nbformat": 4,
 "nbformat_minor": 5
}
