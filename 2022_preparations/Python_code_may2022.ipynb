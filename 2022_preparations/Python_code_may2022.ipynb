{
 "cells": [
  {
   "cell_type": "code",
   "execution_count": 44,
   "id": "0365d27c",
   "metadata": {},
   "outputs": [
    {
     "name": "stdout",
     "output_type": "stream",
     "text": [
      "Hi 👋 I am Hemanth 😎\n",
      "I  💚 to code in 😘 Python 🐍\n",
      "😙\n",
      "😉\n",
      "🤗\n"
     ]
    }
   ],
   "source": [
    "print('Hi',\"\\U0001F44B\", 'I am Hemanth', \"\\U0001F60E\")\n",
    "print('I ', \"\\U0001F49A\", 'to code in', \"\\U0001F618\", 'Python',\"\\U0001F40D\")\n",
    "print(\"\\U0001F619\")\n",
    "print(\"\\U0001F609\")\n",
    "print(\"\\U0001F917\")"
   ]
  },
  {
   "cell_type": "code",
   "execution_count": null,
   "id": "b5a067a8",
   "metadata": {},
   "outputs": [],
   "source": []
  }
 ],
 "metadata": {
  "kernelspec": {
   "display_name": "Python 3",
   "language": "python",
   "name": "python3"
  },
  "language_info": {
   "codemirror_mode": {
    "name": "ipython",
    "version": 3
   },
   "file_extension": ".py",
   "mimetype": "text/x-python",
   "name": "python",
   "nbconvert_exporter": "python",
   "pygments_lexer": "ipython3",
   "version": "3.8.8"
  }
 },
 "nbformat": 4,
 "nbformat_minor": 5
}
