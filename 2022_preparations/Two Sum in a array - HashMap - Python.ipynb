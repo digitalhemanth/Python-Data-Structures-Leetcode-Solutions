{
 "cells": [
  {
   "cell_type": "markdown",
   "id": "f8b5ebab",
   "metadata": {},
   "source": [
    "# Two Sum in a array - HashMap - Python"
   ]
  },
  {
   "cell_type": "code",
   "execution_count": 47,
   "id": "ed12171d",
   "metadata": {},
   "outputs": [],
   "source": [
    "def Solution(arr, target):\n",
    "    temp = {}\n",
    "    for i,n in enumerate(arr):\n",
    "        dff = target - n \n",
    "        if dff in temp:\n",
    "            print(dff,n)\n",
    "        temp[i] = n\n",
    "       \n",
    "    return temp"
   ]
  },
  {
   "cell_type": "code",
   "execution_count": 48,
   "id": "98d441f4",
   "metadata": {},
   "outputs": [
    {
     "name": "stdout",
     "output_type": "stream",
     "text": [
      "1 3\n",
      "2 2\n"
     ]
    },
    {
     "data": {
      "text/plain": [
       "{0: 8, 1: 6, 2: 1, 3: 3, 4: 2}"
      ]
     },
     "execution_count": 48,
     "metadata": {},
     "output_type": "execute_result"
    }
   ],
   "source": [
    "arr = [8,6,1,3,2]\n",
    "target = 4\n",
    "Solution(arr,target)"
   ]
  },
  {
   "cell_type": "code",
   "execution_count": null,
   "id": "9061890a",
   "metadata": {},
   "outputs": [],
   "source": []
  }
 ],
 "metadata": {
  "kernelspec": {
   "display_name": "Python 3",
   "language": "python",
   "name": "python3"
  },
  "language_info": {
   "codemirror_mode": {
    "name": "ipython",
    "version": 3
   },
   "file_extension": ".py",
   "mimetype": "text/x-python",
   "name": "python",
   "nbconvert_exporter": "python",
   "pygments_lexer": "ipython3",
   "version": "3.8.8"
  }
 },
 "nbformat": 4,
 "nbformat_minor": 5
}
