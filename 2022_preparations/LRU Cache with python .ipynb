{
 "cells": [
  {
   "cell_type": "code",
   "execution_count": 1,
   "id": "e0751fd2",
   "metadata": {},
   "outputs": [],
   "source": [
    "class LRUCache:\n",
    "    \n",
    "    def __init__(self ,capacity:int):\n",
    "        self.dict = {}\n",
    "        self.capacity = capacity\n",
    "        \n",
    "    def get(self, key):\n",
    "        if key not in self.dict:\n",
    "            return -1\n",
    "        val = self.dict.pop(key)\n",
    "        self.dict[key] = val \n",
    "        return val \n",
    "    def put(self , key, value)-> None:\n",
    "        if key in self.dict:\n",
    "            #self.dict.pop(key)\n",
    "            print(\"Key is alredy Present\")\n",
    "            val = self.dict.pop(key)\n",
    "            self.dict[key] = val \n",
    "            return val \n",
    "        else:\n",
    "            if len(self.dict)==self.capacity:\n",
    "                del self.dict[next(iter(self.dict))]\n",
    "            self.dict[key] = value\n",
    "    def show(self):\n",
    "        for key,value  in self.dict.items():\n",
    "            print(key,value)"
   ]
  },
  {
   "cell_type": "code",
   "execution_count": 2,
   "id": "6873ffac",
   "metadata": {},
   "outputs": [],
   "source": [
    "obj = LRUCache(3)"
   ]
  },
  {
   "cell_type": "code",
   "execution_count": 3,
   "id": "17204e9c",
   "metadata": {},
   "outputs": [],
   "source": [
    "obj.put('A','Hemanth')"
   ]
  },
  {
   "cell_type": "code",
   "execution_count": 4,
   "id": "6887fb8b",
   "metadata": {},
   "outputs": [
    {
     "data": {
      "text/plain": [
       "'Hemanth'"
      ]
     },
     "execution_count": 4,
     "metadata": {},
     "output_type": "execute_result"
    }
   ],
   "source": [
    "obj.get('A')"
   ]
  },
  {
   "cell_type": "code",
   "execution_count": 5,
   "id": "488aae1a",
   "metadata": {},
   "outputs": [],
   "source": [
    "obj.put('B','Hem')"
   ]
  },
  {
   "cell_type": "code",
   "execution_count": 6,
   "id": "3b7b6cc9",
   "metadata": {},
   "outputs": [],
   "source": [
    "obj.put('C','LoH')"
   ]
  },
  {
   "cell_type": "code",
   "execution_count": 7,
   "id": "18e0a5dd",
   "metadata": {},
   "outputs": [
    {
     "data": {
      "text/plain": [
       "'Hemanth'"
      ]
     },
     "execution_count": 7,
     "metadata": {},
     "output_type": "execute_result"
    }
   ],
   "source": [
    "obj.get('A')"
   ]
  },
  {
   "cell_type": "code",
   "execution_count": 8,
   "id": "2baa27bb",
   "metadata": {},
   "outputs": [],
   "source": [
    "obj.put('D','Om')"
   ]
  },
  {
   "cell_type": "code",
   "execution_count": 9,
   "id": "526a8fe9",
   "metadata": {},
   "outputs": [
    {
     "data": {
      "text/plain": [
       "-1"
      ]
     },
     "execution_count": 9,
     "metadata": {},
     "output_type": "execute_result"
    }
   ],
   "source": [
    "obj.get('B')"
   ]
  },
  {
   "cell_type": "code",
   "execution_count": 10,
   "id": "c166fb7a",
   "metadata": {},
   "outputs": [
    {
     "name": "stdout",
     "output_type": "stream",
     "text": [
      "C LoH\n",
      "A Hemanth\n",
      "D Om\n"
     ]
    }
   ],
   "source": [
    "obj.show()"
   ]
  },
  {
   "cell_type": "code",
   "execution_count": 11,
   "id": "b1177666",
   "metadata": {},
   "outputs": [
    {
     "name": "stdout",
     "output_type": "stream",
     "text": [
      "Key is alredy Present\n"
     ]
    },
    {
     "data": {
      "text/plain": [
       "'Hemanth'"
      ]
     },
     "execution_count": 11,
     "metadata": {},
     "output_type": "execute_result"
    }
   ],
   "source": [
    "obj.put('A','Hemanth')"
   ]
  },
  {
   "cell_type": "code",
   "execution_count": 13,
   "id": "3a961901",
   "metadata": {},
   "outputs": [
    {
     "name": "stdout",
     "output_type": "stream",
     "text": [
      "C LoH\n",
      "D Om\n",
      "A Hemanth\n"
     ]
    }
   ],
   "source": [
    "obj.show()"
   ]
  },
  {
   "cell_type": "code",
   "execution_count": 14,
   "id": "2b3bdddc",
   "metadata": {},
   "outputs": [],
   "source": [
    "MY_dict = {'A':'Hem',\n",
    "           'B':'Hemanth'          \n",
    "          }"
   ]
  },
  {
   "cell_type": "code",
   "execution_count": 16,
   "id": "de7d0149",
   "metadata": {},
   "outputs": [
    {
     "data": {
      "text/plain": [
       "'Hem'"
      ]
     },
     "execution_count": 16,
     "metadata": {},
     "output_type": "execute_result"
    }
   ],
   "source": [
    "MY_dict[next(iter(MY_dict))]"
   ]
  },
  {
   "cell_type": "code",
   "execution_count": 20,
   "id": "60c48eae",
   "metadata": {},
   "outputs": [
    {
     "name": "stdout",
     "output_type": "stream",
     "text": [
      "A\n",
      "B\n"
     ]
    }
   ],
   "source": [
    "for i in iter(MY_dict):\n",
    "    print(i)"
   ]
  },
  {
   "cell_type": "code",
   "execution_count": 18,
   "id": "9aec4c47",
   "metadata": {},
   "outputs": [
    {
     "data": {
      "text/plain": [
       "'A'"
      ]
     },
     "execution_count": 18,
     "metadata": {},
     "output_type": "execute_result"
    }
   ],
   "source": [
    "next(iter(MY_dict))"
   ]
  },
  {
   "cell_type": "code",
   "execution_count": null,
   "id": "2a6847e6",
   "metadata": {},
   "outputs": [],
   "source": []
  }
 ],
 "metadata": {
  "kernelspec": {
   "display_name": "Python 3",
   "language": "python",
   "name": "python3"
  },
  "language_info": {
   "codemirror_mode": {
    "name": "ipython",
    "version": 3
   },
   "file_extension": ".py",
   "mimetype": "text/x-python",
   "name": "python",
   "nbconvert_exporter": "python",
   "pygments_lexer": "ipython3",
   "version": "3.8.8"
  }
 },
 "nbformat": 4,
 "nbformat_minor": 5
}
