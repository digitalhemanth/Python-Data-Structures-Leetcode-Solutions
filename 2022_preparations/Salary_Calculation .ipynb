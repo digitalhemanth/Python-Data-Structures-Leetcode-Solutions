{
 "cells": [
  {
   "cell_type": "code",
   "execution_count": 6,
   "id": "e0452941",
   "metadata": {},
   "outputs": [
    {
     "name": "stdout",
     "output_type": "stream",
     "text": [
      "Please enter Yearly Salary10000\n",
      "yearly salary :  10000\n",
      "How many hours the person worked: 8\n",
      "hours worked :  8\n",
      "daily salary :  27.397260273972602\n",
      "hourly_salary :  3.4246575342465753\n",
      "min salary :  0.05707762557077625\n"
     ]
    }
   ],
   "source": [
    "yearly_salary = int(input(\"Please enter Yearly Salary\"))\n",
    "print(\"yearly salary : \",yearly_salary)\n",
    "\n",
    "hours_worked = int(input(\"How many hours the person worked: \"))\n",
    "print(\"hours worked : \",hours_worked)\n",
    "\n",
    "day_salary = (yearly_salary/(365*8))*8\n",
    "print(\"daily salary : \",day_salary)\n",
    "\n",
    "\n",
    "hourly_salary = (yearly_salary/(365*8))\n",
    "print(\"hourly_salary : \",hourly_salary)\n",
    "\n",
    "min_salary = (hourly_salary/60)\n",
    "print(\"min salary : \",min_salary)\n"
   ]
  },
  {
   "cell_type": "code",
   "execution_count": null,
   "id": "b4b52900",
   "metadata": {},
   "outputs": [],
   "source": []
  },
  {
   "cell_type": "code",
   "execution_count": null,
   "id": "886e6d8b",
   "metadata": {},
   "outputs": [],
   "source": []
  }
 ],
 "metadata": {
  "kernelspec": {
   "display_name": "Python 3",
   "language": "python",
   "name": "python3"
  },
  "language_info": {
   "codemirror_mode": {
    "name": "ipython",
    "version": 3
   },
   "file_extension": ".py",
   "mimetype": "text/x-python",
   "name": "python",
   "nbconvert_exporter": "python",
   "pygments_lexer": "ipython3",
   "version": "3.8.8"
  }
 },
 "nbformat": 4,
 "nbformat_minor": 5
}
