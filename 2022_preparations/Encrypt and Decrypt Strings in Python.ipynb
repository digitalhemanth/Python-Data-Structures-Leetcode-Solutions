{
 "cells": [
  {
   "cell_type": "code",
   "execution_count": 15,
   "id": "5cb33c73",
   "metadata": {},
   "outputs": [
    {
     "name": "stdout",
     "output_type": "stream",
     "text": [
      "\n",
      "##################  Encrypt and Decrypt Strings in Python  #################\n",
      "\n",
      "Original Text :   Hey i am Hemanth from Banglore\n",
      "\n",
      "##################  Encryption  #################\n",
      "\n",
      "key :  b'ljGgmKUG5yAqEQAOjWk3vNBUsz0VUocLd59GiBxCpU0='\n",
      "\n",
      "Encrypted Message : b'gAAAAABhaJkDQbLQW1qxu46N3xKiB4LybpEjbUDF_0Pdw8B7WoI_5RC6twEUKmJI_4PhqFXoQi8t5XawkLVYnJAJAmEyBYGXMPBa5RdETOyXxcMZOpniHf0='\n",
      "\n",
      "----------------------------------------------------------------------------\n"
     ]
    }
   ],
   "source": [
    "from cryptography.fernet import Fernet\n",
    "\n",
    "print(\"\\n##################  Encrypt and Decrypt Strings in Python  #################\")\n",
    "message = \" Hey i am Hemanth from Banglore\"\n",
    "\n",
    "print(\"\\nOriginal Text : \",message)\n",
    "\n",
    "\n",
    "print(\"\\n##################  Encryption  #################\")\n",
    "\n",
    "key = Fernet.generate_key()\n",
    "\n",
    "print(\"\\nkey : \",key)\n",
    "\n",
    "enc_msg = Fernet(key).encrypt(message.encode())\n",
    "print(\"\\nEncrypted Message :\",enc_msg)\n",
    "\n"
   ]
  },
  {
   "cell_type": "code",
   "execution_count": 19,
   "id": "464f3467",
   "metadata": {},
   "outputs": [
    {
     "name": "stdout",
     "output_type": "stream",
     "text": [
      "\n",
      "##################  Decryption  #################\n",
      "\n",
      "Decrypted Message :  Hey i am Hemanth from Banglore\n"
     ]
    }
   ],
   "source": [
    "print(\"\\n##################  Decryption  #################\")\n",
    "\n",
    "dec_msg = Fernet(key).decrypt(enc_msg).decode()\n",
    "print(\"\\nDecrypted Message :\",dec_msg)\n",
    "\n"
   ]
  },
  {
   "cell_type": "code",
   "execution_count": null,
   "id": "57c9ec5b",
   "metadata": {},
   "outputs": [],
   "source": []
  }
 ],
 "metadata": {
  "kernelspec": {
   "display_name": "Python 3",
   "language": "python",
   "name": "python3"
  },
  "language_info": {
   "codemirror_mode": {
    "name": "ipython",
    "version": 3
   },
   "file_extension": ".py",
   "mimetype": "text/x-python",
   "name": "python",
   "nbconvert_exporter": "python",
   "pygments_lexer": "ipython3",
   "version": "3.8.8"
  }
 },
 "nbformat": 4,
 "nbformat_minor": 5
}
