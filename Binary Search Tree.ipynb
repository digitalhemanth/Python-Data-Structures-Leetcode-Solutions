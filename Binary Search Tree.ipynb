{
 "cells": [
  {
   "cell_type": "markdown",
   "id": "b9f04310",
   "metadata": {},
   "source": [
    "# Binary Search Tree "
   ]
  },
  {
   "cell_type": "code",
   "execution_count": 4,
   "id": "4efe7181",
   "metadata": {},
   "outputs": [
    {
     "name": "stdout",
     "output_type": "stream",
     "text": [
      "10\n",
      "None\n",
      "None\n"
     ]
    }
   ],
   "source": [
    "class BST():\n",
    "    def __init__(self,key):\n",
    "        self.key = key\n",
    "        self.lchaild = None\n",
    "        self.rchaild = None\n",
    "        \n",
    "root = BST(10)\n",
    "print(root.key)\n",
    "print(root.lchaild)\n",
    "print(root.rchaild)"
   ]
  },
  {
   "cell_type": "code",
   "execution_count": null,
   "id": "ff7de6c2",
   "metadata": {},
   "outputs": [],
   "source": []
  }
 ],
 "metadata": {
  "kernelspec": {
   "display_name": "Python 3",
   "language": "python",
   "name": "python3"
  },
  "language_info": {
   "codemirror_mode": {
    "name": "ipython",
    "version": 3
   },
   "file_extension": ".py",
   "mimetype": "text/x-python",
   "name": "python",
   "nbconvert_exporter": "python",
   "pygments_lexer": "ipython3",
   "version": "3.8.8"
  }
 },
 "nbformat": 4,
 "nbformat_minor": 5
}
