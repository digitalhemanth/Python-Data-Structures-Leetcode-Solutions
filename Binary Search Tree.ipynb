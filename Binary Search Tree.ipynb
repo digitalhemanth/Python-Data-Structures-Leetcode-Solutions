{
 "cells": [
  {
   "cell_type": "markdown",
   "id": "b9f04310",
   "metadata": {},
   "source": [
    "# Binary Search Tree "
   ]
  },
  {
   "cell_type": "code",
   "execution_count": 7,
   "id": "4efe7181",
   "metadata": {},
   "outputs": [
    {
     "name": "stdout",
     "output_type": "stream",
     "text": [
      "10\n",
      "None\n",
      "None\n"
     ]
    }
   ],
   "source": [
    "class BST():\n",
    "    def __init__(self,key):\n",
    "        self.key = key\n",
    "        self.lchaild = None\n",
    "        self.rchaild = None\n",
    "        \n",
    "root = BST(10)\n",
    "print(root.key)\n",
    "print(root.lchaild)\n",
    "print(root.rchaild)"
   ]
  },
  {
   "cell_type": "code",
   "execution_count": 8,
   "id": "ff7de6c2",
   "metadata": {},
   "outputs": [
    {
     "name": "stdout",
     "output_type": "stream",
     "text": [
      "10\n",
      "None\n",
      "None\n"
     ]
    }
   ],
   "source": [
    "class BST():\n",
    "    def __init__(self,key):\n",
    "        self.key = key\n",
    "        self.lchaild = None\n",
    "        self.rchaild = None\n",
    "        \n",
    "    def insert(self,data):\n",
    "        if self.key is None:\n",
    "            self.key = BST(data)\n",
    "            return\n",
    "        if self.key == data:\n",
    "            return\n",
    "        if self.key > data:\n",
    "            if self.lchaild:\n",
    "                self.lchaild.insert(data)\n",
    "            else:\n",
    "                self.lchaild = BST(data)\n",
    "                \n",
    "        else:\n",
    "            \n",
    "            if self.rchaild:\n",
    "                self.rchaild.insert(data)\n",
    "            else:\n",
    "                self.rchaild = BST(data)\n",
    "            \n",
    "root = BST(10)\n",
    "print(root.key)\n",
    "print(root.lchaild)\n",
    "print(root.rchaild)"
   ]
  },
  {
   "cell_type": "code",
   "execution_count": 9,
   "id": "af1812ab",
   "metadata": {},
   "outputs": [
    {
     "name": "stdout",
     "output_type": "stream",
     "text": [
      "<__main__.BST object at 0x00000176EECFEDC0>\n"
     ]
    }
   ],
   "source": [
    "tree = [22,88,55,44,99,99,55]\n",
    "for i in tree:\n",
    "    root.insert(i)\n",
    "    \n",
    "print(root)"
   ]
  },
  {
   "cell_type": "code",
   "execution_count": 10,
   "id": "38aea11e",
   "metadata": {},
   "outputs": [],
   "source": [
    "class BST():\n",
    "    def __init__(self,key):\n",
    "        self.key = key\n",
    "        self.lchaild = None\n",
    "        self.rchaild = None\n",
    "        \n",
    "    def insert(self,data):\n",
    "        if self.key is None:\n",
    "            self.key = BST(data)\n",
    "            return\n",
    "        if self.key == data:\n",
    "            return\n",
    "        if self.key > data:\n",
    "            if self.lchaild:\n",
    "                self.lchaild.insert(data)\n",
    "            else:\n",
    "                self.lchaild = BST(data)\n",
    "                \n",
    "        else:\n",
    "            \n",
    "            if self.rchaild:\n",
    "                self.rchaild.insert(data)\n",
    "            else:\n",
    "                self.rchaild = BST(data)\n",
    "                \n",
    "    def search(self,x):\n",
    "        if self.key == x:\n",
    "            print(x,\"Element is found from this tree!\")\n",
    "            return \n",
    "        if self.key > x:\n",
    "            if self.lchaild:\n",
    "                self.lchaild.search(x)\n",
    "            else:\n",
    "                print(\"Sorry the requested element is not found !\")\n",
    "        else:\n",
    "            if self.rchaild:\n",
    "                self.rchaild.search(x)\n",
    "            else:\n",
    "                print(\"Sorry the requested element is not found !\")"
   ]
  },
  {
   "cell_type": "code",
   "execution_count": 11,
   "id": "25f772ed",
   "metadata": {},
   "outputs": [
    {
     "name": "stdout",
     "output_type": "stream",
     "text": [
      "10\n",
      "None\n",
      "None\n"
     ]
    }
   ],
   "source": [
    "root = BST(10)\n",
    "print(root.key)\n",
    "print(root.lchaild)\n",
    "print(root.rchaild)"
   ]
  },
  {
   "cell_type": "code",
   "execution_count": 12,
   "id": "51c8f386",
   "metadata": {},
   "outputs": [
    {
     "name": "stdout",
     "output_type": "stream",
     "text": [
      "<__main__.BST object at 0x00000176EECCF790>\n"
     ]
    }
   ],
   "source": [
    "tree = [22,88,55,44,99,99,55]\n",
    "for i in tree:\n",
    "    root.insert(i)\n",
    "    \n",
    "print(root)"
   ]
  },
  {
   "cell_type": "code",
   "execution_count": 13,
   "id": "573a2ad0",
   "metadata": {},
   "outputs": [
    {
     "name": "stdout",
     "output_type": "stream",
     "text": [
      "99 Element is found from this tree!\n"
     ]
    }
   ],
   "source": [
    "root.search(99)"
   ]
  },
  {
   "cell_type": "code",
   "execution_count": 14,
   "id": "765ec6f9",
   "metadata": {},
   "outputs": [
    {
     "name": "stdout",
     "output_type": "stream",
     "text": [
      "Sorry the requested element is not found !\n"
     ]
    }
   ],
   "source": [
    "root.search(999)"
   ]
  },
  {
   "cell_type": "code",
   "execution_count": 19,
   "id": "053221e1",
   "metadata": {},
   "outputs": [],
   "source": [
    "class BST():\n",
    "    def __init__(self,key):\n",
    "        self.key = key\n",
    "        self.lchaild = None\n",
    "        self.rchaild = None\n",
    "        \n",
    "    def insert(self,data):\n",
    "        if self.key is None:\n",
    "            self.key = BST(data)\n",
    "            return\n",
    "        if self.key == data:\n",
    "            return\n",
    "        if self.key > data:\n",
    "            if self.lchaild:\n",
    "                self.lchaild.insert(data)\n",
    "            else:\n",
    "                self.lchaild = BST(data)\n",
    "                \n",
    "        else:\n",
    "            \n",
    "            if self.rchaild:\n",
    "                self.rchaild.insert(data)\n",
    "            else:\n",
    "                self.rchaild = BST(data)\n",
    "                \n",
    "    def search(self,x):\n",
    "        if self.key == x:\n",
    "            print(x,\"Element is found from this tree!\")\n",
    "            return \n",
    "        if self.key > x:\n",
    "            if self.lchaild:\n",
    "                self.lchaild.search(x)\n",
    "            else:\n",
    "                print(\"Sorry the requested element is not found !\")\n",
    "        else:\n",
    "            if self.rchaild:\n",
    "                self.rchaild.search(x)\n",
    "            else:\n",
    "                print(\"Sorry the requested element is not found !\")\n",
    "                \n",
    "                \n",
    "    def preorder(self):\n",
    "        print(self.key)\n",
    "        if self.lchaild:\n",
    "            self.lchaild.preorder()\n",
    "        if self.rchaild:\n",
    "            self.rchaild.preorder()\n",
    "            "
   ]
  },
  {
   "cell_type": "code",
   "execution_count": 22,
   "id": "d5fa621b",
   "metadata": {},
   "outputs": [
    {
     "name": "stdout",
     "output_type": "stream",
     "text": [
      "10\n",
      "None\n",
      "None\n",
      "<__main__.BST object at 0x00000176EECFE3D0>\n"
     ]
    }
   ],
   "source": [
    "root = BST(10)\n",
    "print(root.key)\n",
    "print(root.lchaild)\n",
    "print(root.rchaild)\n",
    "\n",
    "tree = [22,88,55,44,5,8,1,2,99,99,55,0]\n",
    "for i in tree:\n",
    "    root.insert(i)\n",
    "    \n",
    "print(root)"
   ]
  },
  {
   "cell_type": "code",
   "execution_count": 23,
   "id": "0288c29f",
   "metadata": {},
   "outputs": [
    {
     "name": "stdout",
     "output_type": "stream",
     "text": [
      "10\n",
      "5\n",
      "1\n",
      "0\n",
      "2\n",
      "8\n",
      "22\n",
      "88\n",
      "55\n",
      "44\n",
      "99\n"
     ]
    }
   ],
   "source": [
    "root.preorder()"
   ]
  },
  {
   "cell_type": "code",
   "execution_count": null,
   "id": "f5ffd270",
   "metadata": {},
   "outputs": [],
   "source": []
  }
 ],
 "metadata": {
  "kernelspec": {
   "display_name": "Python 3",
   "language": "python",
   "name": "python3"
  },
  "language_info": {
   "codemirror_mode": {
    "name": "ipython",
    "version": 3
   },
   "file_extension": ".py",
   "mimetype": "text/x-python",
   "name": "python",
   "nbconvert_exporter": "python",
   "pygments_lexer": "ipython3",
   "version": "3.8.8"
  }
 },
 "nbformat": 4,
 "nbformat_minor": 5
}
