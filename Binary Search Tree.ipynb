{
 "cells": [
  {
   "cell_type": "markdown",
   "id": "b9f04310",
   "metadata": {},
   "source": [
    "# Binary Search Tree "
   ]
  },
  {
   "cell_type": "code",
   "execution_count": 4,
   "id": "4efe7181",
   "metadata": {},
   "outputs": [
    {
     "name": "stdout",
     "output_type": "stream",
     "text": [
      "10\n",
      "None\n",
      "None\n"
     ]
    }
   ],
   "source": [
    "class BST():\n",
    "    def __init__(self,key):\n",
    "        self.key = key\n",
    "        self.lchaild = None\n",
    "        self.rchaild = None\n",
    "        \n",
    "root = BST(10)\n",
    "print(root.key)\n",
    "print(root.lchaild)\n",
    "print(root.rchaild)"
   ]
  },
  {
   "cell_type": "code",
   "execution_count": 1,
   "id": "ff7de6c2",
   "metadata": {},
   "outputs": [
    {
     "name": "stdout",
     "output_type": "stream",
     "text": [
      "10\n",
      "None\n",
      "None\n"
     ]
    }
   ],
   "source": [
    "class BST():\n",
    "    def __init__(self,key):\n",
    "        self.key = key\n",
    "        self.lchaild = None\n",
    "        self.rchaild = None\n",
    "        \n",
    "    def insert(self,data):\n",
    "        if self.key is None:\n",
    "            self.key = BST(data)\n",
    "            return\n",
    "        if self.key == data:\n",
    "            return\n",
    "        if self.key > data:\n",
    "            if self.lchaild:\n",
    "                self.lchaild.insert(data)\n",
    "            else:\n",
    "                self.lchaild = BST(data)\n",
    "                \n",
    "        else:\n",
    "            \n",
    "            if self.rchaild:\n",
    "                self.rchaild.insert(data)\n",
    "            else:\n",
    "                self.rchaild = BST(data)\n",
    "            \n",
    "root = BST(10)\n",
    "print(root.key)\n",
    "print(root.lchaild)\n",
    "print(root.rchaild)"
   ]
  },
  {
   "cell_type": "code",
   "execution_count": 3,
   "id": "af1812ab",
   "metadata": {},
   "outputs": [
    {
     "name": "stdout",
     "output_type": "stream",
     "text": [
      "<__main__.BST object at 0x0000021135A34550>\n"
     ]
    }
   ],
   "source": [
    "tree = [22,88,55,44,99,99,55]\n",
    "for i in tree:\n",
    "    root.insert(i)\n",
    "    \n",
    "print(root)"
   ]
  },
  {
   "cell_type": "code",
   "execution_count": null,
   "id": "38aea11e",
   "metadata": {},
   "outputs": [],
   "source": []
  },
  {
   "cell_type": "code",
   "execution_count": null,
   "id": "25f772ed",
   "metadata": {},
   "outputs": [],
   "source": []
  }
 ],
 "metadata": {
  "kernelspec": {
   "display_name": "Python 3",
   "language": "python",
   "name": "python3"
  },
  "language_info": {
   "codemirror_mode": {
    "name": "ipython",
    "version": 3
   },
   "file_extension": ".py",
   "mimetype": "text/x-python",
   "name": "python",
   "nbconvert_exporter": "python",
   "pygments_lexer": "ipython3",
   "version": "3.8.8"
  }
 },
 "nbformat": 4,
 "nbformat_minor": 5
}
