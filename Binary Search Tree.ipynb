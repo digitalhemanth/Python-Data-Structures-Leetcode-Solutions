{
 "cells": [
  {
   "cell_type": "markdown",
   "id": "b9f04310",
   "metadata": {},
   "source": [
    "# Binary Search Tree "
   ]
  },
  {
   "cell_type": "code",
   "execution_count": 7,
   "id": "4efe7181",
   "metadata": {},
   "outputs": [
    {
     "name": "stdout",
     "output_type": "stream",
     "text": [
      "10\n",
      "None\n",
      "None\n"
     ]
    }
   ],
   "source": [
    "class BST():\n",
    "    def __init__(self,key):\n",
    "        self.key = key\n",
    "        self.lchaild = None\n",
    "        self.rchaild = None\n",
    "        \n",
    "root = BST(10)\n",
    "print(root.key)\n",
    "print(root.lchaild)\n",
    "print(root.rchaild)"
   ]
  },
  {
   "cell_type": "code",
   "execution_count": 8,
   "id": "ff7de6c2",
   "metadata": {},
   "outputs": [
    {
     "name": "stdout",
     "output_type": "stream",
     "text": [
      "10\n",
      "None\n",
      "None\n"
     ]
    }
   ],
   "source": [
    "class BST():\n",
    "    def __init__(self,key):\n",
    "        self.key = key\n",
    "        self.lchaild = None\n",
    "        self.rchaild = None\n",
    "        \n",
    "    def insert(self,data):\n",
    "        if self.key is None:\n",
    "            self.key = BST(data)\n",
    "            return\n",
    "        if self.key == data:\n",
    "            return\n",
    "        if self.key > data:\n",
    "            if self.lchaild:\n",
    "                self.lchaild.insert(data)\n",
    "            else:\n",
    "                self.lchaild = BST(data)\n",
    "                \n",
    "        else:\n",
    "            \n",
    "            if self.rchaild:\n",
    "                self.rchaild.insert(data)\n",
    "            else:\n",
    "                self.rchaild = BST(data)\n",
    "            \n",
    "root = BST(10)\n",
    "print(root.key)\n",
    "print(root.lchaild)\n",
    "print(root.rchaild)"
   ]
  },
  {
   "cell_type": "code",
   "execution_count": 9,
   "id": "af1812ab",
   "metadata": {},
   "outputs": [
    {
     "name": "stdout",
     "output_type": "stream",
     "text": [
      "<__main__.BST object at 0x00000176EECFEDC0>\n"
     ]
    }
   ],
   "source": [
    "tree = [22,88,55,44,99,99,55]\n",
    "for i in tree:\n",
    "    root.insert(i)\n",
    "    \n",
    "print(root)"
   ]
  },
  {
   "cell_type": "code",
   "execution_count": 10,
   "id": "38aea11e",
   "metadata": {},
   "outputs": [],
   "source": [
    "class BST():\n",
    "    def __init__(self,key):\n",
    "        self.key = key\n",
    "        self.lchaild = None\n",
    "        self.rchaild = None\n",
    "        \n",
    "    def insert(self,data):\n",
    "        if self.key is None:\n",
    "            self.key = BST(data)\n",
    "            return\n",
    "        if self.key == data:\n",
    "            return\n",
    "        if self.key > data:\n",
    "            if self.lchaild:\n",
    "                self.lchaild.insert(data)\n",
    "            else:\n",
    "                self.lchaild = BST(data)\n",
    "                \n",
    "        else:\n",
    "            \n",
    "            if self.rchaild:\n",
    "                self.rchaild.insert(data)\n",
    "            else:\n",
    "                self.rchaild = BST(data)\n",
    "                \n",
    "    def search(self,x):\n",
    "        if self.key == x:\n",
    "            print(x,\"Element is found from this tree!\")\n",
    "            return \n",
    "        if self.key > x:\n",
    "            if self.lchaild:\n",
    "                self.lchaild.search(x)\n",
    "            else:\n",
    "                print(\"Sorry the requested element is not found !\")\n",
    "        else:\n",
    "            if self.rchaild:\n",
    "                self.rchaild.search(x)\n",
    "            else:\n",
    "                print(\"Sorry the requested element is not found !\")"
   ]
  },
  {
   "cell_type": "code",
   "execution_count": 11,
   "id": "25f772ed",
   "metadata": {},
   "outputs": [
    {
     "name": "stdout",
     "output_type": "stream",
     "text": [
      "10\n",
      "None\n",
      "None\n"
     ]
    }
   ],
   "source": [
    "root = BST(10)\n",
    "print(root.key)\n",
    "print(root.lchaild)\n",
    "print(root.rchaild)"
   ]
  },
  {
   "cell_type": "code",
   "execution_count": 12,
   "id": "3a4b8110",
   "metadata": {},
   "outputs": [
    {
     "name": "stdout",
     "output_type": "stream",
     "text": [
      "<__main__.BST object at 0x00000176EECCF790>\n"
     ]
    }
   ],
   "source": [
    "tree = [22,88,55,44,99,99,55]\n",
    "for i in tree:\n",
    "    root.insert(i)\n",
    "    \n",
    "print(root)"
   ]
  },
  {
   "cell_type": "code",
   "execution_count": 13,
   "id": "8d56418c",
   "metadata": {},
   "outputs": [
    {
     "name": "stdout",
     "output_type": "stream",
     "text": [
      "99 Element is found from this tree!\n"
     ]
    }
   ],
   "source": [
    "root.search(99)"
   ]
  },
  {
   "cell_type": "code",
   "execution_count": 14,
   "id": "885dfea3",
   "metadata": {},
   "outputs": [
    {
     "name": "stdout",
     "output_type": "stream",
     "text": [
      "Sorry the requested element is not found !\n"
     ]
    }
   ],
   "source": [
    "root.search(999)"
   ]
  },
  {
   "cell_type": "code",
   "execution_count": 24,
   "id": "b665c28f",
   "metadata": {},
   "outputs": [],
   "source": [
    "class BST():\n",
    "    def __init__(self,key):\n",
    "        self.key = key\n",
    "        self.lchaild = None\n",
    "        self.rchaild = None\n",
    "        \n",
    "    def insert(self,data):\n",
    "        if self.key is None:\n",
    "            self.key = BST(data)\n",
    "            return\n",
    "        if self.key == data:\n",
    "            return\n",
    "        if self.key > data:\n",
    "            if self.lchaild:\n",
    "                self.lchaild.insert(data)\n",
    "            else:\n",
    "                self.lchaild = BST(data)\n",
    "                \n",
    "        else:\n",
    "            \n",
    "            if self.rchaild:\n",
    "                self.rchaild.insert(data)\n",
    "            else:\n",
    "                self.rchaild = BST(data)\n",
    "                \n",
    "    def search(self,x):\n",
    "        if self.key == x:\n",
    "            print(x,\"Element is found from this tree!\")\n",
    "            return \n",
    "        if self.key > x:\n",
    "            if self.lchaild:\n",
    "                self.lchaild.search(x)\n",
    "            else:\n",
    "                print(\"Sorry the requested element is not found !\")\n",
    "        else:\n",
    "            if self.rchaild:\n",
    "                self.rchaild.search(x)\n",
    "            else:\n",
    "                print(\"Sorry the requested element is not found !\")\n",
    "                \n",
    "                \n",
    "    def preorder(self):\n",
    "        print(self.key , end =\" \")\n",
    "        if self.lchaild:\n",
    "            self.lchaild.preorder()\n",
    "        if self.rchaild:\n",
    "            self.rchaild.preorder()\n",
    "            "
   ]
  },
  {
   "cell_type": "code",
   "execution_count": 25,
   "id": "bc6e4fdc",
   "metadata": {},
   "outputs": [
    {
     "name": "stdout",
     "output_type": "stream",
     "text": [
      "10\n",
      "None\n",
      "None\n",
      "<__main__.BST object at 0x00000176EECFE5E0>\n"
     ]
    }
   ],
   "source": [
    "root = BST(10)\n",
    "print(root.key)\n",
    "print(root.lchaild)\n",
    "print(root.rchaild)\n",
    "\n",
    "tree = [22,88,55,44,5,8,1,2,99,99,55,0]\n",
    "for i in tree:\n",
    "    root.insert(i)\n",
    "    \n",
    "print(root)"
   ]
  },
  {
   "cell_type": "code",
   "execution_count": 26,
   "id": "71bc36bf",
   "metadata": {},
   "outputs": [
    {
     "name": "stdout",
     "output_type": "stream",
     "text": [
      "10 5 1 0 2 8 22 88 55 44 99 "
     ]
    }
   ],
   "source": [
    "root.preorder()"
   ]
  },
  {
   "cell_type": "code",
   "execution_count": 30,
   "id": "8ccc9adc",
   "metadata": {},
   "outputs": [],
   "source": [
    "class BST():\n",
    "    def __init__(self,key):\n",
    "        self.key = key\n",
    "        self.lchaild = None\n",
    "        self.rchaild = None\n",
    "        \n",
    "    def insert(self,data):\n",
    "        if self.key is None:\n",
    "            self.key = BST(data)\n",
    "            return\n",
    "        if self.key == data:\n",
    "            return\n",
    "        if self.key > data:\n",
    "            if self.lchaild:\n",
    "                self.lchaild.insert(data)\n",
    "            else:\n",
    "                self.lchaild = BST(data)\n",
    "                \n",
    "        else:\n",
    "            \n",
    "            if self.rchaild:\n",
    "                self.rchaild.insert(data)\n",
    "            else:\n",
    "                self.rchaild = BST(data)\n",
    "                \n",
    "    def search(self,x):\n",
    "        if self.key == x:\n",
    "            print(x,\"Element is found from this tree!\")\n",
    "            return \n",
    "        if self.key > x:\n",
    "            if self.lchaild:\n",
    "                self.lchaild.search(x)\n",
    "            else:\n",
    "                print(\"Sorry the requested element is not found !\")\n",
    "        else:\n",
    "            if self.rchaild:\n",
    "                self.rchaild.search(x)\n",
    "            else:\n",
    "                print(\"Sorry the requested element is not found !\")\n",
    "    \n",
    "    def preorder(self):\n",
    "        print(self.key , end =\" \")\n",
    "        if self.lchaild:\n",
    "            self.lchaild.preorder()\n",
    "        if self.rchaild:\n",
    "            self.rchaild.preorder()\n",
    "                \n",
    "    def inorder(self):\n",
    "        if self.lchaild:\n",
    "            self.lchaild.inorder()\n",
    "        print(self.key , end =\" \")\n",
    "        if self.rchaild:\n",
    "            self.rchaild.inorder()\n",
    "            \n",
    "    def postorder(self):\n",
    "        if self.rchaild:\n",
    "            self.rchaild.postorder()\n",
    "        print(self.key , end =\" \")\n",
    "        if self.lchaild:\n",
    "            self.lchaild.postorder()\n",
    "            "
   ]
  },
  {
   "cell_type": "code",
   "execution_count": 31,
   "id": "483704bd",
   "metadata": {},
   "outputs": [
    {
     "name": "stdout",
     "output_type": "stream",
     "text": [
      "10\n",
      "None\n",
      "None\n",
      "<__main__.BST object at 0x00000176EEC06040>\n"
     ]
    }
   ],
   "source": [
    "root = BST(10)\n",
    "print(root.key)\n",
    "print(root.lchaild)\n",
    "print(root.rchaild)\n",
    "\n",
    "tree = [22,88,55,44,5,8,1,2,99,99,55,0]\n",
    "for i in tree:\n",
    "    root.insert(i)\n",
    "    \n",
    "print(root)"
   ]
  },
  {
   "cell_type": "code",
   "execution_count": 35,
   "id": "41780386",
   "metadata": {},
   "outputs": [
    {
     "name": "stdout",
     "output_type": "stream",
     "text": [
      " \n",
      "Pre-Order \n",
      "\n",
      "10 5 1 0 2 8 22 88 55 44 99 \n",
      "\n",
      " \n",
      "Post-Order \n",
      "\n",
      "99 88 55 44 22 10 8 5 2 1 0 \n",
      "\n",
      " \n",
      "In-Order \n",
      "\n",
      "0 1 2 5 8 10 22 44 55 88 99 "
     ]
    }
   ],
   "source": [
    "print(\" \\nPre-Order \\n\")\n",
    "root.preorder()\n",
    "print(\"\\n\")\n",
    "print(\" \\nPost-Order \\n\")\n",
    "root.postorder()\n",
    "print(\"\\n\")\n",
    "print(\" \\nIn-Order \\n\")\n",
    "root.inorder()"
   ]
  },
  {
   "cell_type": "code",
   "execution_count": 10,
   "id": "83ec68d5",
   "metadata": {},
   "outputs": [],
   "source": [
    "class BST():\n",
    "    def __init__(self,key):\n",
    "        self.key = key\n",
    "        self.lchaild = None\n",
    "        self.rchaild = None\n",
    "        \n",
    "    def insert(self,data):\n",
    "        if self.key is None:\n",
    "            self.key = BST(data)\n",
    "            return\n",
    "        if self.key == data:\n",
    "            return\n",
    "        if self.key > data:\n",
    "            if self.lchaild:\n",
    "                self.lchaild.insert(data)\n",
    "            else:\n",
    "                self.lchaild = BST(data)\n",
    "                \n",
    "        else:\n",
    "            \n",
    "            if self.rchaild:\n",
    "                self.rchaild.insert(data)\n",
    "            else:\n",
    "                self.rchaild = BST(data)\n",
    "                \n",
    "    def search(self,x):\n",
    "        if self.key == x:\n",
    "            print(x,\"Element is found from this tree!\")\n",
    "            return \n",
    "        if self.key > x:\n",
    "            if self.lchaild:\n",
    "                self.lchaild.search(x)\n",
    "            else:\n",
    "                print(\"Sorry the requested element is not found !\")\n",
    "        else:\n",
    "            if self.rchaild:\n",
    "                self.rchaild.search(x)\n",
    "            else:\n",
    "                print(\"Sorry the requested element is not found !\")\n",
    "    \n",
    "    def preorder(self):\n",
    "        print(self.key , end =\" \")\n",
    "        if self.lchaild:\n",
    "            self.lchaild.preorder()\n",
    "        if self.rchaild:\n",
    "            self.rchaild.preorder()\n",
    "                \n",
    "    def inorder(self):\n",
    "        if self.lchaild:\n",
    "            self.lchaild.inorder()\n",
    "        print(self.key , end =\" \")\n",
    "        if self.rchaild:\n",
    "            self.rchaild.inorder()\n",
    "            \n",
    "    def postorder(self):\n",
    "        if self.rchaild:\n",
    "            self.rchaild.postorder()\n",
    "        print(self.key , end =\" \")\n",
    "        if self.lchaild:\n",
    "            self.lchaild.postorder()\n",
    "    \n",
    "    def delete(self,data):\n",
    "        if self.key is None:\n",
    "            print(\"The tree is Empty !\")\n",
    "            return\n",
    "        if data < self.key :\n",
    "            if self.lchaild:\n",
    "                self.lchaild = self.lchaild.delete(data)\n",
    "            else:\n",
    "                print(\"the given node is not present in the Tree\")\n",
    "                \n",
    "        elif data > self.key:\n",
    "            if self.rchaild:\n",
    "                self.rchaild = self.rchaild.delete(data)\n",
    "            else:\n",
    "                print(\"the given node is not present in the Tree\")\n",
    "             \n",
    "        else:\n",
    "            if self.lchaild is None:\n",
    "                temp = self.rchaild\n",
    "                self = None\n",
    "                return temp\n",
    "            if self.rchaild is None:\n",
    "                temp = self.lchaild\n",
    "                self = None\n",
    "                return temp\n",
    "            node = self.rchaild\n",
    "            while self.lchaild:\n",
    "                node = self.lchaild\n",
    "            self.key = node.key\n",
    "            self.rchaild = self.rchaild.delete(node.key)\n",
    "        return self\n",
    "          "
   ]
  },
  {
   "cell_type": "code",
   "execution_count": 11,
   "id": "c286473a",
   "metadata": {},
   "outputs": [
    {
     "name": "stdout",
     "output_type": "stream",
     "text": [
      "10\n",
      "None\n",
      "None\n",
      "<__main__.BST object at 0x0000019C367BDD30>\n",
      " \n",
      "Pre-Order \n",
      "\n",
      "10 5 1 0 2 8 22 88 55 44 99 "
     ]
    }
   ],
   "source": [
    "root = BST(10)\n",
    "print(root.key)\n",
    "print(root.lchaild)\n",
    "print(root.rchaild)\n",
    "\n",
    "tree = [22,88,55,44,5,8,1,2,99,55,0]\n",
    "for i in tree:\n",
    "    root.insert(i)\n",
    "    \n",
    "print(root)\n",
    "\n",
    "print(\" \\nPre-Order \\n\")\n",
    "root.preorder()\n",
    "\n",
    "#print(\" \\n After deletion operation \")\n",
    "#print(\"\\n\")\n",
    "#print(\" \\nIn-Order \\n\")\n",
    "#root.inorder()"
   ]
  },
  {
   "cell_type": "code",
   "execution_count": 14,
   "id": "e515a74b",
   "metadata": {},
   "outputs": [
    {
     "data": {
      "text/plain": [
       "<__main__.BST at 0x19c367bdd30>"
      ]
     },
     "execution_count": 14,
     "metadata": {},
     "output_type": "execute_result"
    }
   ],
   "source": [
    "root.delete(22)\n"
   ]
  },
  {
   "cell_type": "code",
   "execution_count": 15,
   "id": "e8df1f22",
   "metadata": {},
   "outputs": [
    {
     "name": "stdout",
     "output_type": "stream",
     "text": [
      "10 5 1 0 2 8 88 55 44 "
     ]
    }
   ],
   "source": [
    "root.preorder()"
   ]
  },
  {
   "cell_type": "code",
   "execution_count": 16,
   "id": "f28179fb",
   "metadata": {},
   "outputs": [
    {
     "name": "stdout",
     "output_type": "stream",
     "text": [
      "the given node is not present in the Tree\n"
     ]
    },
    {
     "data": {
      "text/plain": [
       "<__main__.BST at 0x19c367bdd30>"
      ]
     },
     "execution_count": 16,
     "metadata": {},
     "output_type": "execute_result"
    }
   ],
   "source": [
    "root.delete(222)\n"
   ]
  },
  {
   "cell_type": "code",
   "execution_count": 17,
   "id": "eb630c33",
   "metadata": {},
   "outputs": [
    {
     "name": "stdout",
     "output_type": "stream",
     "text": [
      "10 5 1 0 2 8 88 55 44 "
     ]
    }
   ],
   "source": [
    "root.preorder()"
   ]
  },
  {
   "cell_type": "code",
   "execution_count": 2,
   "id": "c900cbc8",
   "metadata": {},
   "outputs": [],
   "source": [
    "class BST():\n",
    "    def __init__(self,key):\n",
    "        self.key = key\n",
    "        self.lchaild = None\n",
    "        self.rchaild = None\n",
    "        \n",
    "    def insert(self,data):\n",
    "        if self.key is None:\n",
    "            self.key = BST(data)\n",
    "            return\n",
    "        if self.key == data:\n",
    "            return\n",
    "        if self.key > data:\n",
    "            if self.lchaild:\n",
    "                self.lchaild.insert(data)\n",
    "            else:\n",
    "                self.lchaild = BST(data)\n",
    "                \n",
    "        else:\n",
    "            \n",
    "            if self.rchaild:\n",
    "                self.rchaild.insert(data)\n",
    "            else:\n",
    "                self.rchaild = BST(data)\n",
    "                \n",
    "    def search(self,x):\n",
    "        if self.key == x:\n",
    "            print(x,\"Element is found from this tree!\")\n",
    "            return \n",
    "        if self.key > x:\n",
    "            if self.lchaild:\n",
    "                self.lchaild.search(x)\n",
    "            else:\n",
    "                print(\"Sorry the requested element is not found !\")\n",
    "        else:\n",
    "            if self.rchaild:\n",
    "                self.rchaild.search(x)\n",
    "            else:\n",
    "                print(\"Sorry the requested element is not found !\")\n",
    "    \n",
    "    def preorder(self):\n",
    "        print(self.key , end =\" \")\n",
    "        if self.lchaild:\n",
    "            self.lchaild.preorder()\n",
    "        if self.rchaild:\n",
    "            self.rchaild.preorder()\n",
    "                \n",
    "    def inorder(self):\n",
    "        if self.lchaild:\n",
    "            self.lchaild.inorder()\n",
    "        print(self.key , end =\" \")\n",
    "        if self.rchaild:\n",
    "            self.rchaild.inorder()\n",
    "            \n",
    "    def postorder(self):\n",
    "        if self.rchaild:\n",
    "            self.rchaild.postorder()\n",
    "        print(self.key , end =\" \")\n",
    "        if self.lchaild:\n",
    "            self.lchaild.postorder()\n",
    "    \n",
    "    def delete(self,data):\n",
    "        if self.key is None:\n",
    "            print(\"The tree is Empty !\")\n",
    "            return\n",
    "        if data < self.key :\n",
    "            if self.lchaild:\n",
    "                self.lchaild = self.lchaild.delete(data)\n",
    "            else:\n",
    "                print(\"the given node is not present in the Tree\")\n",
    "                \n",
    "        elif data > self.key:\n",
    "            if self.rchaild:\n",
    "                self.rchaild = self.rchaild.delete(data)\n",
    "            else:\n",
    "                print(\"the given node is not present in the Tree\")\n",
    "             \n",
    "        else:\n",
    "            if self.lchaild is None:\n",
    "                temp = self.rchaild\n",
    "                self = None\n",
    "                return temp\n",
    "            if self.rchaild is None:\n",
    "                temp = self.lchaild\n",
    "                self = None\n",
    "                return temp\n",
    "            node = self.rchaild\n",
    "            while self.lchaild:\n",
    "                node = self.lchaild\n",
    "            self.key = node.key\n",
    "            self.rchaild = self.rchaild.delete(node.key)\n",
    "        return self\n",
    "    \n",
    "    \n",
    "     \n",
    "    def min_vall(self):\n",
    "        current = self\n",
    "        while current.lchaild:\n",
    "            current= current.lchaild\n",
    "        print(\"\\nThe Min value is \", current.key)\n",
    "        \n",
    "    def max_vall(self):\n",
    "        current = self\n",
    "        while current.rchaild:\n",
    "            current= current.rchaild\n",
    "        print(\"\\nThe Max value is \", current.key)\n",
    "        "
   ]
  },
  {
   "cell_type": "code",
   "execution_count": 4,
   "id": "e04eb506",
   "metadata": {},
   "outputs": [
    {
     "name": "stdout",
     "output_type": "stream",
     "text": [
      "10\n",
      "None\n",
      "None\n",
      "<__main__.BST object at 0x000002CF5C95E5E0>\n",
      " \n",
      "In-Order \n",
      "\n",
      "0 1 2 5 8 10 22 44 55 88 99 Total Nodes avelable in The tree :  11\n",
      "\n",
      "The Max value is  99\n",
      "\n",
      "The Min value is  0\n"
     ]
    }
   ],
   "source": [
    "root = BST(10)\n",
    "print(root.key)\n",
    "print(root.lchaild)\n",
    "print(root.rchaild)\n",
    "\n",
    "tree = [22,88,55,44,5,8,1,2,99,55,0]\n",
    "for i in tree:\n",
    "    root.insert(i)\n",
    "    \n",
    "print(root)\n",
    "\n",
    "#print(\" \\nPre-Order \\n\")\n",
    "#root.preorder()\n",
    "\n",
    "#print(\" \\n After deletion operation \")\n",
    "#print(\"\\n\")\n",
    "print(\" \\nIn-Order \\n\")\n",
    "root.inorder()\n",
    "\n",
    "def count(node):\n",
    "    if node is None:\n",
    "        return 0\n",
    "    return 1+count(node.lchaild)+count(node.rchaild)\n",
    "    \n",
    "print(\"Total Nodes avelable in The tree : \", count(root))\n",
    "\n",
    "root.max_vall()\n",
    "root.min_vall()\n"
   ]
  },
  {
   "cell_type": "code",
   "execution_count": null,
   "id": "6ed1a390",
   "metadata": {},
   "outputs": [],
   "source": []
  }
 ],
 "metadata": {
  "kernelspec": {
   "display_name": "Python 3",
   "language": "python",
   "name": "python3"
  },
  "language_info": {
   "codemirror_mode": {
    "name": "ipython",
    "version": 3
   },
   "file_extension": ".py",
   "mimetype": "text/x-python",
   "name": "python",
   "nbconvert_exporter": "python",
   "pygments_lexer": "ipython3",
   "version": "3.8.8"
  }
 },
 "nbformat": 4,
 "nbformat_minor": 5
}
