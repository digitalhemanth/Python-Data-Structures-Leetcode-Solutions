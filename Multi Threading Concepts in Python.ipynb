{
 "cells": [
  {
   "cell_type": "code",
   "execution_count": 1,
   "id": "1fa159ba",
   "metadata": {},
   "outputs": [],
   "source": [
    "from threading import *"
   ]
  },
  {
   "cell_type": "code",
   "execution_count": 3,
   "id": "624e3243",
   "metadata": {},
   "outputs": [
    {
     "name": "stdout",
     "output_type": "stream",
     "text": [
      "Hey I am from SampleTerminated ...\n",
      "\n",
      "Hey I am from Sample\n",
      "Hey I am from Sample\n",
      "Hey I am from Sample\n",
      "Hey I am from Sample\n"
     ]
    }
   ],
   "source": [
    "def Sample():\n",
    "    for i in range(5):\n",
    "        print(\"Hey I am from Sample\")\n",
    "t1 = Thread(target= Sample)\n",
    "t1.start()\n",
    "print(\"Terminated ...\")"
   ]
  },
  {
   "cell_type": "code",
   "execution_count": 5,
   "id": "44548814",
   "metadata": {},
   "outputs": [
    {
     "name": "stdout",
     "output_type": "stream",
     "text": [
      "Hey I am from Sample\n",
      "Hey I am from Sample\n",
      "Hey I am from Sample\n",
      "Hey I am from Sample\n",
      "Hey I am from Sample\n",
      "Terminated ...\n"
     ]
    }
   ],
   "source": [
    "def Sample():\n",
    "    for i in range(5):\n",
    "        print(\"Hey I am from Sample\")\n",
    "t1 = Thread(target= Sample)\n",
    "t1.start()\n",
    "t1.join()\n",
    "print(\"Terminated ...\")"
   ]
  },
  {
   "cell_type": "code",
   "execution_count": null,
   "id": "7ce844d4",
   "metadata": {},
   "outputs": [],
   "source": []
  }
 ],
 "metadata": {
  "kernelspec": {
   "display_name": "Python 3",
   "language": "python",
   "name": "python3"
  },
  "language_info": {
   "codemirror_mode": {
    "name": "ipython",
    "version": 3
   },
   "file_extension": ".py",
   "mimetype": "text/x-python",
   "name": "python",
   "nbconvert_exporter": "python",
   "pygments_lexer": "ipython3",
   "version": "3.8.8"
  }
 },
 "nbformat": 4,
 "nbformat_minor": 5
}
