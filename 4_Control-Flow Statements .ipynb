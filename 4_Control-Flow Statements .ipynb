{
 "cells": [
  {
   "cell_type": "code",
   "execution_count": 1,
   "id": "df9ca434",
   "metadata": {},
   "outputs": [],
   "source": [
    "list_items = [5,8,6,9,44,85,100]"
   ]
  },
  {
   "cell_type": "code",
   "execution_count": 2,
   "id": "8a7d023a",
   "metadata": {},
   "outputs": [
    {
     "name": "stdout",
     "output_type": "stream",
     "text": [
      "5\n",
      "8\n",
      "6\n",
      "9\n",
      "44\n",
      "85\n",
      "100\n"
     ]
    }
   ],
   "source": [
    "for i in list_items:\n",
    "    print(i)"
   ]
  },
  {
   "cell_type": "code",
   "execution_count": 4,
   "id": "8e7eade1",
   "metadata": {},
   "outputs": [
    {
     "data": {
      "text/plain": [
       "range(0, 100)"
      ]
     },
     "execution_count": 4,
     "metadata": {},
     "output_type": "execute_result"
    }
   ],
   "source": [
    "range(100)"
   ]
  },
  {
   "cell_type": "code",
   "execution_count": 7,
   "id": "aeb67dbf",
   "metadata": {},
   "outputs": [
    {
     "data": {
      "text/plain": [
       "<enumerate at 0x184d6250800>"
      ]
     },
     "execution_count": 7,
     "metadata": {},
     "output_type": "execute_result"
    }
   ],
   "source": [
    "enumerate(list_items)"
   ]
  },
  {
   "cell_type": "code",
   "execution_count": 8,
   "id": "5e9a9aaa",
   "metadata": {},
   "outputs": [
    {
     "name": "stdout",
     "output_type": "stream",
     "text": [
      "421 ns ± 20.9 ns per loop (mean ± std. dev. of 7 runs, 1000000 loops each)\n"
     ]
    }
   ],
   "source": [
    "timeit range(100)"
   ]
  },
  {
   "cell_type": "code",
   "execution_count": 10,
   "id": "5f92e8aa",
   "metadata": {},
   "outputs": [
    {
     "name": "stdout",
     "output_type": "stream",
     "text": [
      "371 ns ± 7.78 ns per loop (mean ± std. dev. of 7 runs, 1000000 loops each)\n"
     ]
    }
   ],
   "source": [
    "timeit enumerate(list_items)"
   ]
  },
  {
   "cell_type": "code",
   "execution_count": 14,
   "id": "d87b258b",
   "metadata": {},
   "outputs": [
    {
     "name": "stdout",
     "output_type": "stream",
     "text": [
      "Enter any Number : 8\n",
      "perfect \n",
      "Enter any Number : 9\n",
      "bye\n"
     ]
    }
   ],
   "source": [
    "while True:\n",
    "    n = int(input(\"Enter any Number : \"))\n",
    "    if (n%2)==0:\n",
    "        print(\"perfect \")\n",
    "    else:\n",
    "        print(\"bye\")\n",
    "        break\n",
    "else:\n",
    "    print(\"bye\")\n",
    "    "
   ]
  },
  {
   "cell_type": "code",
   "execution_count": 15,
   "id": "03e0ad7e",
   "metadata": {},
   "outputs": [
    {
     "name": "stdout",
     "output_type": "stream",
     "text": [
      "100\n"
     ]
    }
   ],
   "source": [
    "while True:\n",
    "    print(i)\n",
    "    i = i + 1\n",
    "    if(i > 3):\n",
    "        break"
   ]
  },
  {
   "cell_type": "code",
   "execution_count": null,
   "id": "e6d6f638",
   "metadata": {},
   "outputs": [],
   "source": []
  }
 ],
 "metadata": {
  "kernelspec": {
   "display_name": "Python 3",
   "language": "python",
   "name": "python3"
  },
  "language_info": {
   "codemirror_mode": {
    "name": "ipython",
    "version": 3
   },
   "file_extension": ".py",
   "mimetype": "text/x-python",
   "name": "python",
   "nbconvert_exporter": "python",
   "pygments_lexer": "ipython3",
   "version": "3.8.8"
  }
 },
 "nbformat": 4,
 "nbformat_minor": 5
}
