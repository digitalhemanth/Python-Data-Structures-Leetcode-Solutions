{
 "cells": [
  {
   "cell_type": "markdown",
   "id": "0e404148",
   "metadata": {},
   "source": [
    "# Program To Swap Two Numbers With or Without Using Third Variable"
   ]
  },
  {
   "cell_type": "code",
   "execution_count": 1,
   "id": "77f22c28",
   "metadata": {},
   "outputs": [
    {
     "name": "stdout",
     "output_type": "stream",
     "text": [
      "Please enter a value : 5\n",
      "Please enter b value : 9\n",
      "Value of a is  9\n",
      "Value of b is  5\n"
     ]
    }
   ],
   "source": [
    "a = int(input(\"Please enter a value : \"))\n",
    "b = int(input(\"Please enter b value : \"))\n",
    "\n",
    "temp = a\n",
    "a = b\n",
    "b = temp\n",
    "\n",
    "print(\"Value of a is \", a)\n",
    "print(\"Value of b is \", b)"
   ]
  },
  {
   "cell_type": "code",
   "execution_count": 4,
   "id": "edcfa4b3",
   "metadata": {},
   "outputs": [
    {
     "name": "stdout",
     "output_type": "stream",
     "text": [
      "Please enter a value : 1\n",
      "Please enter b value : 9\n",
      "Value of a is  9\n",
      "Value of b is  1\n"
     ]
    }
   ],
   "source": [
    "a = int(input(\"Please enter a value : \"))\n",
    "b = int(input(\"Please enter b value : \"))\n",
    "\n",
    "a = a+b\n",
    "b = a-b\n",
    "a = a-b\n",
    "\n",
    "print(\"Value of a is \", a)\n",
    "print(\"Value of b is \", b)"
   ]
  },
  {
   "cell_type": "code",
   "execution_count": null,
   "id": "37a2d24c",
   "metadata": {},
   "outputs": [],
   "source": []
  }
 ],
 "metadata": {
  "kernelspec": {
   "display_name": "Python 3",
   "language": "python",
   "name": "python3"
  },
  "language_info": {
   "codemirror_mode": {
    "name": "ipython",
    "version": 3
   },
   "file_extension": ".py",
   "mimetype": "text/x-python",
   "name": "python",
   "nbconvert_exporter": "python",
   "pygments_lexer": "ipython3",
   "version": "3.8.8"
  }
 },
 "nbformat": 4,
 "nbformat_minor": 5
}
