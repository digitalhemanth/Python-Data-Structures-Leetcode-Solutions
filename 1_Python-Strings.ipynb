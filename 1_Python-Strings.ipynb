{
 "cells": [
  {
   "cell_type": "code",
   "execution_count": 23,
   "id": "251a229b",
   "metadata": {},
   "outputs": [
    {
     "name": "stdout",
     "output_type": "stream",
     "text": [
      "\n",
      " In Python, A string is a sequence of characters enclosed within a single quote or double quote.\n",
      "\n",
      "\n",
      "--- Printing String by a veriable with \" \" ---\n",
      "Hi there I am Hemanth\n",
      "\n",
      "--- Data Type ---\n",
      "<class 'str'>\n",
      "\n",
      "--- Printing with ' Character ---\n",
      "Hi there'  I am Hemanth\n",
      "\n",
      "--- Singel ' ' ---\n",
      "Hi there I am Hemanth\n",
      "\n",
      "---  triple quotes string can extend multiple lines  ---\n",
      "Hi there I am Hemanth \n",
      "and i am a python developer \n"
     ]
    }
   ],
   "source": [
    "print('\\n In Python, A string is a sequence of characters enclosed within a single quote or double quote.\\n')\n",
    "\n",
    "# defining strings in Python\n",
    "# all of the following are equivalent\n",
    "print('\\n--- Printing String by a veriable with \\\" \\\" ---')\n",
    "\n",
    "My_str = \"Hi there I am Hemanth\"\n",
    "print(My_str)\n",
    "\n",
    "print('\\n--- Data Type ---')\n",
    "#know the datatype\n",
    "print(type(My_str))\n",
    "\n",
    "print('\\n--- Printing with \\' Character ---')\n",
    "my_string = \"Hi there'  I am Hemanth\"\n",
    "print(my_string)\n",
    "\n",
    "print('\\n--- Singel \\' \\' ---')\n",
    "my_string = 'Hi there I am Hemanth'\n",
    "print(my_string)\n",
    "\n",
    "print('\\n---  triple quotes string can extend multiple lines  ---') \n",
    "# triple quotes string can extend multiple lines\n",
    "my_string = \"\"\"Hi there I am Hemanth \n",
    "and i am a python developer \"\"\"\n",
    "print(my_string)\n",
    "\n"
   ]
  },
  {
   "cell_type": "code",
   "execution_count": 17,
   "id": "153dc23e",
   "metadata": {},
   "outputs": [
    {
     "name": "stdout",
     "output_type": "stream",
     "text": [
      "I am Hemanth\n"
     ]
    }
   ],
   "source": [
    "'we can do many operations on it, such as searching inside it, creating a substring from it, and splitting it.'\n",
    "\n",
    "# accessing inside character of a string based on position \n",
    "'''We can access individual characters using indexing and a range of characters using slicing. Index starts from 0.'''\n",
    "\n",
    "print(My_str[9:22])"
   ]
  },
  {
   "cell_type": "code",
   "execution_count": 15,
   "id": "eaa1f8b6",
   "metadata": {},
   "outputs": [
    {
     "name": "stdout",
     "output_type": "stream",
     "text": [
      "\n",
      "---  using + ---\n",
      "str1 + str2 =  HelloWorld!\n",
      "\n",
      "---  using * ---\n",
      "str1 * 3 = HelloHelloHello\n"
     ]
    }
   ],
   "source": [
    "#Python String Operations\n",
    "\n",
    " # Python String Operations\n",
    "str1 = 'Hello'\n",
    "str2 = 'World!'\n",
    "\n",
    "print('\\n---  using + ---') \n",
    "# using +\n",
    "print('str1 + str2 = ', str1 + str2)\n",
    "\n",
    "print('\\n---  using * ---') \n",
    "# using *\n",
    "print('str1 * 3 =', str1 * 3)"
   ]
  },
  {
   "cell_type": "code",
   "execution_count": 27,
   "id": "0fad216f",
   "metadata": {},
   "outputs": [
    {
     "name": "stdout",
     "output_type": "stream",
     "text": [
      "2 letters found\n"
     ]
    }
   ],
   "source": [
    "# Iterating through a string\n",
    "#We can iterate through a string using a for loop. Here is an example to count the number of 'H's in a string.\n",
    "count = 0\n",
    "for letter in 'Hello World, I am Hemanth':\n",
    "    if(letter == 'H'):\n",
    "        count += 1\n",
    "print(count,'letters found')"
   ]
  },
  {
   "cell_type": "code",
   "execution_count": 14,
   "id": "ccd294bd",
   "metadata": {},
   "outputs": [
    {
     "name": "stdout",
     "output_type": "stream",
     "text": [
      "\n",
      "---#We can test if a substring exists within a string or not, using the keyword \"in\" ---\n",
      "Hey i am hemanth , data science eng\n",
      "\n",
      "--- Search and Find string ---\n",
      "True\n",
      "False\n"
     ]
    }
   ],
   "source": [
    "#tring Membership Test\n",
    "\n",
    "\n",
    "print('\\n---#We can test if a substring exists within a string or not, using the keyword \"in\" ---') \n",
    "\n",
    "Str = \"Hey i am hemanth , data science eng\"\n",
    "print(Str)\n",
    "\n",
    "print('\\n--- Search and Find string ---') \n",
    "\n",
    "Find = 'hemanth' in Str\n",
    "print(Find)\n",
    "\n",
    "Find = 'Python' in Str\n",
    "print(Find)\n"
   ]
  },
  {
   "cell_type": "code",
   "execution_count": 13,
   "id": "30c2c5c9",
   "metadata": {},
   "outputs": [
    {
     "name": "stdout",
     "output_type": "stream",
     "text": [
      "\n",
      "---  enumerate ---\n",
      "<enumerate object at 0x000002B1C35938C0>\n",
      "\n",
      "--- list enumerate ---\n",
      "list(enumerate(str) =  [(0, 'H'), (1, 'e'), (2, 'm'), (3, 'a'), (4, 'n'), (5, 't'), (6, 'h')]\n",
      "\n",
      "--- character count ---\n",
      "len(str) =  7\n"
     ]
    }
   ],
   "source": [
    "#Built-in functions to Work with Python\n",
    "\n",
    "str = 'Hemanth'\n",
    "\n",
    "# enumerate()\n",
    "print('\\n---  enumerate ---') \n",
    "\n",
    "enumerate_str = enumerate(str)\n",
    "print(enumerate_str)\n",
    "\n",
    "print('\\n--- list enumerate ---') \n",
    "\n",
    "list_enumerate = list(enumerate(str))\n",
    "print('list(enumerate(str) = ', list_enumerate)\n",
    "\n",
    "print('\\n--- character count ---') \n",
    "#character count\n",
    "print('len(str) = ', len(str))\n",
    "\n"
   ]
  },
  {
   "cell_type": "code",
   "execution_count": 35,
   "id": "2866194a",
   "metadata": {},
   "outputs": [
    {
     "name": "stdout",
     "output_type": "stream",
     "text": [
      "He said, \"What's there?\"\n",
      "He said, \"What's there?\"\n",
      "He said, \"What's there?\"\n"
     ]
    }
   ],
   "source": [
    "#Python String Formatting\n",
    "\n",
    "# using triple quotes\n",
    "print('''He said, \"What's there?\"''')\n",
    "\n",
    "# escaping single quotes\n",
    "print('He said, \"What\\'s there?\"')\n",
    "\n",
    "# escaping double quotes\n",
    "print(\"He said, \\\"What's there?\\\"\")"
   ]
  },
  {
   "cell_type": "code",
   "execution_count": 21,
   "id": "b0ed73b3",
   "metadata": {},
   "outputs": [
    {
     "name": "stdout",
     "output_type": "stream",
     "text": [
      "\n",
      "--- genaral escape sequences ---\n",
      "C:\\Python32\\Lib\n",
      "\n",
      " This is a \n",
      "good example\n",
      "\n",
      "--- escape sequences ---\n",
      "\n",
      " Sometimes we may wish to ignore the escape sequences inside a string.\n",
      "  To do this we can place r or R in front of the string. \n",
      "  This will imply that it is a raw string and any escape sequence inside it will be ignored. \n",
      "\n",
      "\\nThis is \\x61 \\ngood example\n"
     ]
    }
   ],
   "source": [
    " #'escape sequences supported by Python'\n",
    "\n",
    "    \n",
    "print('\\n--- genaral escape sequences ---')\n",
    "\n",
    "print(\"C:\\\\Python32\\\\Lib\")\n",
    "\n",
    "print(\"\\n This is \\x61 \\ngood example\")\n",
    "\n",
    "\n",
    "print('\\n--- escape sequences ---')\n",
    "\n",
    "print('''\\n Sometimes we may wish to ignore the escape sequences inside a string.\n",
    "   To do this we can place r or R in front of the string. \n",
    "   This will imply that it is a raw string and any escape sequence inside it will be ignored. \\n''')\n",
    "\n",
    "\n",
    "print(r\"\\nThis is \\x61 \\ngood example\")"
   ]
  },
  {
   "cell_type": "code",
   "execution_count": 9,
   "id": "fd2ff94b",
   "metadata": {},
   "outputs": [
    {
     "name": "stdout",
     "output_type": "stream",
     "text": [
      "\n",
      "--- Default Order ---\n",
      "Hemanth, Python and SQL\n",
      "\n",
      "--- Positional Order ---\n",
      "Python, Hemanth and SQL\n",
      "\n",
      "--- Keyword Order ---\n",
      "Hemanth is a Data science eng and he is good in  Python\n"
     ]
    }
   ],
   "source": [
    "#The format() Method for Formatting Strings\n",
    "\n",
    "# Python string format() method\n",
    "\n",
    "# default(implicit) order\n",
    "default_order = \"{}, {} and {}\".format('Hemanth','Python','SQL')\n",
    "print('\\n--- Default Order ---')\n",
    "print(default_order)\n",
    "\n",
    "# order using positional argument\n",
    "positional_order = \"{1}, {0} and {2}\".format('Hemanth','Python','SQL')\n",
    "print('\\n--- Positional Order ---')\n",
    "print(positional_order)\n",
    "\n",
    "# order using keyword argument\n",
    "keyword_order = \"{Name} is a {des} and he is good in  {exp}\".format(Name='Hemanth',des='Data science eng',exp='Python')\n",
    "print('\\n--- Keyword Order ---')\n",
    "print(keyword_order)"
   ]
  },
  {
   "cell_type": "code",
   "execution_count": 25,
   "id": "494ff117",
   "metadata": {},
   "outputs": [
    {
     "name": "stdout",
     "output_type": "stream",
     "text": [
      "\n",
      "--- formatting integers ---\n",
      "Binary representation of 12 is 1100\n",
      "\n",
      "--- formatting floats ---\n",
      "Exponent representation: 1.566345e+03\n",
      "\n",
      "--- round off ---\n",
      "One third is: 0.333\n",
      "\n",
      "--- string alignment ---\n",
      "|Hem       | Hemanth  |Hemanth Kumar|\n",
      "\n",
      "--- Old style formatting ---\n",
      "The value of x is 19.00\n",
      "The value of x is 18.99999946\n"
     ]
    }
   ],
   "source": [
    "# formatting integers\n",
    "print('\\n--- formatting integers ---')\n",
    "print(\"Binary representation of {0} is {0:b}\".format(12))\n",
    "\n",
    "# formatting floats\n",
    "print('\\n--- formatting floats ---')\n",
    "print(\"Exponent representation: {0:e}\".format(1566.345))\n",
    "\n",
    "# round off\n",
    "print('\\n--- round off ---')\n",
    "print(\"One third is: {0:.3f}\".format(1/3))\n",
    "\n",
    "print('\\n--- string alignment ---')\n",
    "# string alignment\n",
    "print(\"|{:<10}|{:^10}|{:>10}|\".format('Hem','Hemanth','Hemanth Kumar'))\n",
    "\n",
    "\n",
    "print('\\n--- Old style formatting ---')\n",
    "#Old style formatting\n",
    "x = 18.999999456789\n",
    "print('The value of x is %3.2f' %x)\n",
    "print('The value of x is %3.8f' %x)\n"
   ]
  },
  {
   "cell_type": "code",
   "execution_count": 40,
   "id": "1ac7a307",
   "metadata": {},
   "outputs": [
    {
     "name": "stdout",
     "output_type": "stream",
     "text": [
      "#There are numerous methods available with the string object. \n",
      "The format() method that we mentioned above is one of them. \n",
      "Some of the commonly used methods are lower(), upper(), join(), split(), find(), replace() etc. \n",
      " \n",
      "\n",
      "--- Sting ---\n",
      "Hey there, I am Hemanth \n",
      "\n",
      "--- lower() ---\n",
      "hey there, i am hemanth \n",
      "\n",
      "--- upper() ---\n",
      "HEY THERE, I AM HEMANTH \n",
      "\n",
      "--- split() ---\n",
      "['Hey', 'there,', 'I', 'am', 'Hemanth']\n",
      "\n",
      "--- find() ---\n",
      "16\n",
      "\n",
      "--- replace() ---\n",
      "Hey there, I am Hemanth kumar \n"
     ]
    }
   ],
   "source": [
    "print('''#There are numerous methods available with the string object. \n",
    "The format() method that we mentioned above is one of them. \n",
    "Some of the commonly used methods are lower(), upper(), join(), split(), find(), replace() etc. \\n ''' ) \n",
    "\n",
    "print('\\n--- Sting ---')\n",
    "Str = \"Hey there, I am Hemanth \"\n",
    "print(Str)\n",
    "\n",
    "\n",
    "print('\\n--- lower() ---')\n",
    "print(Str.lower())\n",
    "\n",
    "print('\\n--- upper() ---')\n",
    "print(Str.upper())\n",
    "\n",
    "\n",
    "print('\\n--- split() ---')\n",
    "print(Str.split())\n",
    "\n",
    "print('\\n--- find() ---')\n",
    "print(Str.find('Hem'))\n",
    "\n",
    "print('\\n--- replace() ---')\n",
    "print(Str.replace('Hemanth','Hemanth kumar'))\n"
   ]
  },
  {
   "cell_type": "code",
   "execution_count": null,
   "id": "1999571b",
   "metadata": {},
   "outputs": [],
   "source": []
  }
 ],
 "metadata": {
  "kernelspec": {
   "display_name": "Python 3",
   "language": "python",
   "name": "python3"
  },
  "language_info": {
   "codemirror_mode": {
    "name": "ipython",
    "version": 3
   },
   "file_extension": ".py",
   "mimetype": "text/x-python",
   "name": "python",
   "nbconvert_exporter": "python",
   "pygments_lexer": "ipython3",
   "version": "3.8.8"
  }
 },
 "nbformat": 4,
 "nbformat_minor": 5
}
