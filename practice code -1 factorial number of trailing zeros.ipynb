{
 "cells": [
  {
   "cell_type": "markdown",
   "id": "f93a31f3",
   "metadata": {},
   "source": [
    "# factorial number of trailing zeros"
   ]
  },
  {
   "cell_type": "code",
   "execution_count": 72,
   "id": "a928596d",
   "metadata": {},
   "outputs": [
    {
     "name": "stdout",
     "output_type": "stream",
     "text": [
      "Please enter a Number7\n",
      "5040\n"
     ]
    },
    {
     "data": {
      "text/plain": [
       "1"
      ]
     },
     "execution_count": 72,
     "metadata": {},
     "output_type": "execute_result"
    }
   ],
   "source": [
    "def factorial(n):\n",
    "    if n==0:\n",
    "        return 1\n",
    "    else:\n",
    "         return n * factorial(n-1)\n",
    "\n",
    "def solution(n):\n",
    "    count = 0\n",
    "    check = factorial(n)\n",
    "    print(check)\n",
    "    while (check> 0):\n",
    "        if (check%10 == 0):\n",
    "            count=count+1\n",
    "            check = check/10\n",
    "        else:\n",
    "            break\n",
    "    return count\n",
    "            \n",
    "         \n",
    "      \n",
    "    \n",
    "n = int(input(\"Please enter a Number\")) \n",
    "solution(n)"
   ]
  },
  {
   "cell_type": "code",
   "execution_count": 29,
   "id": "e540ca15",
   "metadata": {},
   "outputs": [
    {
     "data": {
      "text/plain": [
       "120"
      ]
     },
     "execution_count": 29,
     "metadata": {},
     "output_type": "execute_result"
    }
   ],
   "source": [
    "5*4*3*2*1"
   ]
  },
  {
   "cell_type": "code",
   "execution_count": 54,
   "id": "f08e311a",
   "metadata": {},
   "outputs": [
    {
     "data": {
      "text/plain": [
       "0"
      ]
     },
     "execution_count": 54,
     "metadata": {},
     "output_type": "execute_result"
    }
   ],
   "source": [
    "120%10"
   ]
  },
  {
   "cell_type": "markdown",
   "id": "826fef91",
   "metadata": {},
   "source": [
    " O(log5n)"
   ]
  },
  {
   "cell_type": "code",
   "execution_count": 30,
   "id": "e0a64e57",
   "metadata": {},
   "outputs": [],
   "source": [
    "#%timeit solution(5)"
   ]
  },
  {
   "cell_type": "code",
   "execution_count": 64,
   "id": "221629e1",
   "metadata": {},
   "outputs": [
    {
     "name": "stdout",
     "output_type": "stream",
     "text": [
      "20.0\n",
      "4.0\n"
     ]
    }
   ],
   "source": [
    "n=100\n",
    "p=5\n",
    "\n",
    "while p<=n:\n",
    "    print(n/p) \n",
    "    p = p*5\n",
    "\n"
   ]
  },
  {
   "cell_type": "code",
   "execution_count": 65,
   "id": "f521e4d3",
   "metadata": {},
   "outputs": [
    {
     "data": {
      "text/plain": [
       "20.0"
      ]
     },
     "execution_count": 65,
     "metadata": {},
     "output_type": "execute_result"
    }
   ],
   "source": [
    "100/5"
   ]
  },
  {
   "cell_type": "code",
   "execution_count": 66,
   "id": "8aabfe79",
   "metadata": {},
   "outputs": [
    {
     "data": {
      "text/plain": [
       "25"
      ]
     },
     "execution_count": 66,
     "metadata": {},
     "output_type": "execute_result"
    }
   ],
   "source": [
    "5*5"
   ]
  },
  {
   "cell_type": "code",
   "execution_count": 67,
   "id": "de37d5cd",
   "metadata": {},
   "outputs": [
    {
     "data": {
      "text/plain": [
       "4.0"
      ]
     },
     "execution_count": 67,
     "metadata": {},
     "output_type": "execute_result"
    }
   ],
   "source": [
    "100/25"
   ]
  },
  {
   "cell_type": "code",
   "execution_count": 70,
   "id": "6bc57401",
   "metadata": {},
   "outputs": [
    {
     "data": {
      "text/plain": [
       "7"
      ]
     },
     "execution_count": 70,
     "metadata": {},
     "output_type": "execute_result"
    }
   ],
   "source": [
    "def Findzeros(n):\n",
    "    count = 0 \n",
    "    p = 5\n",
    "    while p<=n:\n",
    "        count = count + (n/p) \n",
    "        p = p*5\n",
    "    return round(count)\n",
    "        \n",
    "Findzeros(30) "
   ]
  },
  {
   "cell_type": "code",
   "execution_count": 73,
   "id": "10e76f6d",
   "metadata": {},
   "outputs": [
    {
     "data": {
      "text/plain": [
       "265252859812191058636308480000000"
      ]
     },
     "execution_count": 73,
     "metadata": {},
     "output_type": "execute_result"
    }
   ],
   "source": [
    "def fact(n):\n",
    "    if n == 0:\n",
    "        return 1\n",
    "    else:\n",
    "        return n * fact(n-1)\n",
    "fact(30)"
   ]
  },
  {
   "cell_type": "code",
   "execution_count": 40,
   "id": "1d0a06ad",
   "metadata": {},
   "outputs": [
    {
     "data": {
      "text/plain": [
       "24.8"
      ]
     },
     "execution_count": 40,
     "metadata": {},
     "output_type": "execute_result"
    }
   ],
   "source": [
    "def zeroes(n):\n",
    "    i = 1\n",
    "    result = 0\n",
    "    while n >= i:\n",
    "        i *= 5\n",
    "        result += n/i  # (taking floor, just like Python or Java does)\n",
    "    return result\n",
    "\n",
    "zeroes(100)"
   ]
  },
  {
   "cell_type": "code",
   "execution_count": null,
   "id": "c1dc16ad",
   "metadata": {},
   "outputs": [],
   "source": []
  },
  {
   "cell_type": "code",
   "execution_count": 53,
   "id": "be7dac8b",
   "metadata": {},
   "outputs": [
    {
     "name": "stdout",
     "output_type": "stream",
     "text": [
      "475 ns ± 37.8 ns per loop (mean ± std. dev. of 7 runs, 1000000 loops each)\n"
     ]
    }
   ],
   "source": [
    "timeit Findzeros(5)  "
   ]
  },
  {
   "cell_type": "code",
   "execution_count": 43,
   "id": "76c9179b",
   "metadata": {},
   "outputs": [
    {
     "data": {
      "text/plain": [
       "24"
      ]
     },
     "execution_count": 43,
     "metadata": {},
     "output_type": "execute_result"
    }
   ],
   "source": [
    "def countFives(n):\n",
    "    fives = 0   \n",
    "    m = 5\n",
    "    while m <= n:\n",
    "        fives = fives + (n/m)\n",
    "        m = m*5\n",
    "    return fives\n",
    "\n",
    "round(countFives(100))"
   ]
  },
  {
   "cell_type": "code",
   "execution_count": 74,
   "id": "c8470026",
   "metadata": {},
   "outputs": [
    {
     "name": "stdout",
     "output_type": "stream",
     "text": [
      "7.2\n"
     ]
    }
   ],
   "source": [
    "p = 5\n",
    "count = 0\n",
    "n = 30\n",
    "while p<=n:\n",
    "    count = count+(n/p)\n",
    "    p = p*5\n",
    "print(count)\n"
   ]
  },
  {
   "cell_type": "code",
   "execution_count": null,
   "id": "5c03adce",
   "metadata": {},
   "outputs": [],
   "source": []
  }
 ],
 "metadata": {
  "kernelspec": {
   "display_name": "Python 3",
   "language": "python",
   "name": "python3"
  },
  "language_info": {
   "codemirror_mode": {
    "name": "ipython",
    "version": 3
   },
   "file_extension": ".py",
   "mimetype": "text/x-python",
   "name": "python",
   "nbconvert_exporter": "python",
   "pygments_lexer": "ipython3",
   "version": "3.8.8"
  }
 },
 "nbformat": 4,
 "nbformat_minor": 5
}
